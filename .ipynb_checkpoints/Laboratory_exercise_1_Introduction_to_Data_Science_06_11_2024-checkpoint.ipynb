{
 "cells": [
  {
   "cell_type": "code",
   "execution_count": 1,
   "metadata": {},
   "outputs": [
    {
     "name": "stdout",
     "output_type": "stream",
     "text": [
      "Requirement already satisfied: selenium in c:\\users\\hp\\miniconda3\\envs\\myenv\\lib\\site-packages (4.24.0)\n",
      "Requirement already satisfied: urllib3<3,>=1.26 in c:\\users\\hp\\miniconda3\\envs\\myenv\\lib\\site-packages (from urllib3[socks]<3,>=1.26->selenium) (2.2.3)\n",
      "Requirement already satisfied: trio~=0.17 in c:\\users\\hp\\miniconda3\\envs\\myenv\\lib\\site-packages (from selenium) (0.26.2)\n",
      "Requirement already satisfied: trio-websocket~=0.9 in c:\\users\\hp\\miniconda3\\envs\\myenv\\lib\\site-packages (from selenium) (0.11.1)\n",
      "Requirement already satisfied: certifi>=2021.10.8 in c:\\users\\hp\\miniconda3\\envs\\myenv\\lib\\site-packages (from selenium) (2024.8.30)\n",
      "Requirement already satisfied: typing-extensions~=4.9 in c:\\users\\hp\\miniconda3\\envs\\myenv\\lib\\site-packages (from selenium) (4.11.0)\n",
      "Requirement already satisfied: websocket-client~=1.8 in c:\\users\\hp\\miniconda3\\envs\\myenv\\lib\\site-packages (from selenium) (1.8.0)\n",
      "Requirement already satisfied: attrs>=23.2.0 in c:\\users\\hp\\miniconda3\\envs\\myenv\\lib\\site-packages (from trio~=0.17->selenium) (24.2.0)\n",
      "Requirement already satisfied: sortedcontainers in c:\\users\\hp\\miniconda3\\envs\\myenv\\lib\\site-packages (from trio~=0.17->selenium) (2.4.0)\n",
      "Requirement already satisfied: idna in c:\\users\\hp\\miniconda3\\envs\\myenv\\lib\\site-packages (from trio~=0.17->selenium) (3.7)\n",
      "Requirement already satisfied: outcome in c:\\users\\hp\\miniconda3\\envs\\myenv\\lib\\site-packages (from trio~=0.17->selenium) (1.1.0)\n",
      "Requirement already satisfied: sniffio>=1.3.0 in c:\\users\\hp\\miniconda3\\envs\\myenv\\lib\\site-packages (from trio~=0.17->selenium) (1.3.0)\n",
      "Requirement already satisfied: cffi>=1.14 in c:\\users\\hp\\miniconda3\\envs\\myenv\\lib\\site-packages (from trio~=0.17->selenium) (1.17.1)\n",
      "Requirement already satisfied: wsproto>=0.14 in c:\\users\\hp\\miniconda3\\envs\\myenv\\lib\\site-packages (from trio-websocket~=0.9->selenium) (1.2.0)\n",
      "Requirement already satisfied: pysocks!=1.5.7,<2.0,>=1.5.6 in c:\\users\\hp\\miniconda3\\envs\\myenv\\lib\\site-packages (from urllib3[socks]<3,>=1.26->selenium) (1.7.1)\n",
      "Requirement already satisfied: pycparser in c:\\users\\hp\\miniconda3\\envs\\myenv\\lib\\site-packages (from cffi>=1.14->trio~=0.17->selenium) (2.21)\n",
      "Requirement already satisfied: h11<1,>=0.9.0 in c:\\users\\hp\\miniconda3\\envs\\myenv\\lib\\site-packages (from wsproto>=0.14->trio-websocket~=0.9->selenium) (0.14.0)\n"
     ]
    }
   ],
   "source": [
    "!pip install selenium"
   ]
  },
  {
   "cell_type": "markdown",
   "metadata": {
    "id": "IG0xXF7T0x2h"
   },
   "source": [
    "# Requirements"
   ]
  },
  {
   "cell_type": "code",
   "execution_count": 2,
   "metadata": {
    "id": "k75Qsxvc0zzZ"
   },
   "outputs": [],
   "source": [
    "from selenium import webdriver\n",
    "from selenium.webdriver.common.by import By"
   ]
  },
  {
   "cell_type": "markdown",
   "metadata": {
    "id": "vhsS7FZU03uf"
   },
   "source": [
    "# Simple Usage"
   ]
  },
  {
   "cell_type": "code",
   "execution_count": 3,
   "metadata": {
    "id": "XAR-vEvw03hB"
   },
   "outputs": [],
   "source": [
    "# Initialize the webdriver.\n",
    "browser = webdriver.Chrome()"
   ]
  },
  {
   "cell_type": "code",
   "execution_count": 4,
   "metadata": {
    "id": "SRlMjKmz05uN"
   },
   "outputs": [],
   "source": [
    "# Navigate to a web page.\n",
    "browser.get('https://ep.sec.mk/election/results/electionType/local/electionYear/2021/electionRound/21')"
   ]
  },
  {
   "cell_type": "markdown",
   "metadata": {},
   "source": [
    "# Local Elections 2021"
   ]
  },
  {
   "cell_type": "markdown",
   "metadata": {},
   "source": [
    "For each municipality, scrape:\n",
    "- Municipality name (\"Општина\")\n",
    "- Political party name (\"Учесници во изборите\")\n",
    "- Number of votes received by the party (\"Гласови\")\n",
    "- Percentage of votes received by the party (\"Процент\")\n",
    "- Registered voters (\"Регистрирани гласачи\")\n",
    "- Number of valid votes (\"Важечки гласови\")\n",
    "- Number of invalid votes (\"Неважечки гласови\")"
   ]
  },
  {
   "cell_type": "markdown",
   "metadata": {
    "id": "TMBGzB374oRM"
   },
   "source": [
    "## Hints\n",
    "- To navigate to a specific page with a given URL, use the `browser.get(url)` method.\n",
    "- When selecting a single element, use `browser.find_element`, and for multiple elements, use `browser.find_elements`. Both of these functions take two arguments. The first specifies the attribute used to locate the element on the web page, and the second specifies the value of that attribute.\n",
    "- The `By` class is used to specify which attribute is used to locate elements on a page. These are the various ways the attributes are used to locate elements on a page: `By.ID`, `By.NAME`, `By.TAG_NAME`, `BY.CLASS_NAME`, `By.CSS_SELECTOR`, etc.\n",
    "- For more details, check the documentation (https://selenium-python.readthedocs.io/locating-elements.html)."
   ]
  },
  {
   "cell_type": "markdown",
   "metadata": {
    "id": "MOV5K_ji5iQi"
   },
   "source": [
    "## Solution"
   ]
  },
  {
   "cell_type": "code",
   "execution_count": 5,
   "metadata": {
    "id": "Naeba0l31AVU"
   },
   "outputs": [],
   "source": [
    "# Write your code here."
   ]
  },
  {
   "cell_type": "code",
   "execution_count": 6,
   "metadata": {
    "id": "PFK34b5R5c0N"
   },
   "outputs": [],
   "source": [
    "# Add as many code boxes as you need."
   ]
  },
  {
   "cell_type": "code",
   "execution_count": 12,
   "metadata": {},
   "outputs": [
    {
     "name": "stdout",
     "output_type": "stream",
     "text": [
      "12\n",
      "\n",
      "ЃОРЧЕ ПЕТРОВ\n",
      "Регистрирани гласачи:\n",
      "37.793\n",
      "Неважечки гласови:\n",
      "422\n",
      "Вкупно избирачки места:\n",
      "54\n",
      "Вкупно населени места:\n",
      "7\n",
      "ЈЕГУНОВЦЕ\n",
      "Регистрирани гласачи:\n",
      "10.197\n",
      "Неважечки гласови:\n",
      "78\n",
      "Вкупно избирачки места:\n",
      "22\n",
      "Вкупно населени места:\n",
      "17\n",
      "АЕРОДРОМ\n",
      "Регистрирани гласачи:\n",
      "65.886\n",
      "Неважечки гласови:\n",
      "698\n",
      "Вкупно избирачки места:\n",
      "94\n",
      "Вкупно населени места:\n",
      "4\n",
      "АРАЧИНОВО\n",
      "Регистрирани гласачи:\n",
      "9.431\n",
      "Неважечки гласови:\n",
      "73\n",
      "Вкупно избирачки места:\n",
      "14\n",
      "Вкупно населени места:\n",
      "4\n",
      "БЕРОВО\n",
      "Регистрирани гласачи:\n",
      "10.960\n",
      "Неважечки гласови:\n",
      "182\n",
      "Вкупно избирачки места:\n",
      "17\n",
      "Вкупно населени места:\n",
      "9\n",
      "БИТОЛА\n",
      "Регистрирани гласачи:\n",
      "82.054\n",
      "Неважечки гласови:\n",
      "942\n",
      "Вкупно избирачки места:\n",
      "171\n",
      "Вкупно населени места:\n",
      "52\n",
      "БОГДАНЦИ\n",
      "Регистрирани гласачи:\n",
      "6.771\n",
      "Неважечки гласови:\n",
      "99\n",
      "Вкупно избирачки места:\n",
      "13\n",
      "Вкупно населени места:\n",
      "4\n",
      "БОГОВИЊЕ\n",
      "Регистрирани гласачи:\n",
      "27.324\n",
      "Неважечки гласови:\n",
      "108\n",
      "Вкупно избирачки места:\n",
      "39\n",
      "Вкупно населени места:\n",
      "14\n",
      "БОСИЛОВО\n",
      "Регистрирани гласачи:\n",
      "12.208\n",
      "Неважечки гласови:\n",
      "116\n",
      "Вкупно избирачки места:\n",
      "20\n",
      "Вкупно населени места:\n",
      "15\n",
      "БРВЕНИЦА\n",
      "Регистрирани гласачи:\n",
      "15.239\n",
      "Неважечки гласови:\n",
      "98\n",
      "Вкупно избирачки места:\n",
      "25\n",
      "Вкупно населени места:\n",
      "10\n",
      "0 - 10 of 80\n"
     ]
    }
   ],
   "source": [
    "import time\n",
    "#opstini = browser.find_elements(By.CSS_SELECTOR,'#root > div > main > div:nth-child(1) > div.lg\\\\:container.mx-auto.px-3.xl\\\\:px-40 > div > div > div.md\\\\:hidden > div > div')\n",
    "opstini = browser.find_elements(By.CSS_SELECTOR,'#root > div > main > div:nth-child(1) > div.lg\\\\:container.mx-auto.px-3.xl\\\\:px-40 > div > div > div.md\\\\:hidden > div > div')\n",
    "print(len(opstini))\n",
    "for opstina in opstini:\n",
    "    print(opstina.text)\n",
    "    time.sleep(1)"
   ]
  },
  {
   "cell_type": "code",
   "execution_count": 22,
   "metadata": {},
   "outputs": [
    {
     "name": "stdout",
     "output_type": "stream",
     "text": [
      "80\n"
     ]
    }
   ],
   "source": [
    "import time\n",
    "\n",
    "df=[]\n",
    "\n",
    "for cl in range(1,9):\n",
    "    opstini = browser.find_elements(By.CSS_SELECTOR,'#root > div > main > div:nth-child(1) > div.lg\\\\:container.mx-auto.px-3.xl\\\\:px-40 > div > div > div.md\\\\:hidden > div > div')\n",
    "    for opstina in opstini[1:-1]:  \n",
    "\n",
    "        \n",
    "        \n",
    "        directory = {'Opstina' : opstina.text}\n",
    "        df.append(directory)\n",
    "\n",
    "    browser.find_element(By.CSS_SELECTOR,'#root > div > main > div:nth-child(1) > div.lg\\\\:container.mx-auto.px-3.xl\\\\:px-40 > div:nth-child(7) > div > div.md\\\\:hidden > div > div.grid.grid-cols-12.mt-10 > div > div > button:nth-child(4)').click()\n",
    "\n",
    "print(len(df))"
   ]
  },
  {
   "cell_type": "code",
   "execution_count": null,
   "metadata": {},
   "outputs": [],
   "source": []
  },
  {
   "cell_type": "code",
   "execution_count": null,
   "metadata": {},
   "outputs": [],
   "source": []
  }
 ],
 "metadata": {
  "colab": {
   "provenance": []
  },
  "kernelspec": {
   "display_name": "Python 3 (ipykernel)",
   "language": "python",
   "name": "python3"
  },
  "language_info": {
   "codemirror_mode": {
    "name": "ipython",
    "version": 3
   },
   "file_extension": ".py",
   "mimetype": "text/x-python",
   "name": "python",
   "nbconvert_exporter": "python",
   "pygments_lexer": "ipython3",
   "version": "3.12.7"
  }
 },
 "nbformat": 4,
 "nbformat_minor": 4
}
