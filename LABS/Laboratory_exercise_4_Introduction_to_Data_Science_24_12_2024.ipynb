{
 "cells": [
  {
   "cell_type": "markdown",
   "metadata": {
    "id": "rODb9vHvIEbp"
   },
   "source": [
    "# Requirements"
   ]
  },
  {
   "cell_type": "code",
   "execution_count": 2,
   "metadata": {
    "id": "U4KmHBd2cdx9"
   },
   "outputs": [],
   "source": [
    "# Add as many imports as you need.\n",
    "import pandas as pd"
   ]
  },
  {
   "cell_type": "markdown",
   "metadata": {
    "id": "KNMMoUiUIW3L"
   },
   "source": [
    "# Laboratory Exercise - Run Mode (8 points)"
   ]
  },
  {
   "cell_type": "markdown",
   "metadata": {
    "id": "_rAh_91OIjeS"
   },
   "source": [
    "## Introduction\n",
    "In this laboratory assignment, the primary objective is to use Long Short-Term Memory (LSTM) networks for time series forecasting in order to predict the current **close price** of the Dow Jones Industrial Average index. To accomplish this use data from the past 7 days, which includes numeric information and news information. The goal is to employ LSTM, a type of recurrent neural network, to effectively forecast one future step for the index price (the following day).\n"
   ]
  },
  {
   "cell_type": "markdown",
   "metadata": {
    "id": "zBYI-EypaWom"
   },
   "source": [
    "## The DIJA Dataset\n",
    "\n",
    "This dataset consists of daily price records for the value of the Dow Jones Industrial Average index. The dataset includes the following attributes:\n",
    "\n",
    "- Date - date in the format YYYY-MM-DD,\n",
    "- Open - open price of the index on the specified date\n",
    "- Close - close price of the index on the specified date\n",
    "- High - high price of the index on the specified date\n",
    "- Low - low price of the index on the specified date\n",
    "- Volume - number of trades\n",
    "\n"
   ]
  },
  {
   "cell_type": "markdown",
   "metadata": {},
   "source": [
    "## The Reddit News Dataset"
   ]
  },
  {
   "cell_type": "markdown",
   "metadata": {},
   "source": [
    "This dataset consists of news headlines for a certain date that might impact the price:\n",
    "\n",
    "- Date - date in the format YYYY-MM-DD,\n",
    "- News - news headline scraped from Reddit\n",
    "\n",
    "<b>Note: You might have multiple headlines for each date. The number of news per date might not be the same for each date. <b>"
   ]
  },
  {
   "cell_type": "markdown",
   "metadata": {
    "id": "DCm1qm1mZwMr"
   },
   "source": [
    "Load the datasets into a `pandas` data frame."
   ]
  },
  {
   "cell_type": "code",
   "execution_count": 9,
   "metadata": {
    "id": "KMOn4fgcZn8s"
   },
   "outputs": [],
   "source": [
    "# Write your code here. Add as many boxes as you need.\n",
    "data1 = pd.read_csv('DJIA_table.csv')"
   ]
  },
  {
   "cell_type": "code",
   "execution_count": 10,
   "metadata": {},
   "outputs": [
    {
     "data": {
      "text/html": [
       "<div>\n",
       "<style scoped>\n",
       "    .dataframe tbody tr th:only-of-type {\n",
       "        vertical-align: middle;\n",
       "    }\n",
       "\n",
       "    .dataframe tbody tr th {\n",
       "        vertical-align: top;\n",
       "    }\n",
       "\n",
       "    .dataframe thead th {\n",
       "        text-align: right;\n",
       "    }\n",
       "</style>\n",
       "<table border=\"1\" class=\"dataframe\">\n",
       "  <thead>\n",
       "    <tr style=\"text-align: right;\">\n",
       "      <th></th>\n",
       "      <th>Date</th>\n",
       "      <th>Open</th>\n",
       "      <th>High</th>\n",
       "      <th>Low</th>\n",
       "      <th>Close</th>\n",
       "      <th>Volume</th>\n",
       "    </tr>\n",
       "  </thead>\n",
       "  <tbody>\n",
       "    <tr>\n",
       "      <th>0</th>\n",
       "      <td>7/1/2016</td>\n",
       "      <td>17924.24023</td>\n",
       "      <td>18002.38086</td>\n",
       "      <td>17916.91016</td>\n",
       "      <td>17949.36914</td>\n",
       "      <td>82160000</td>\n",
       "    </tr>\n",
       "    <tr>\n",
       "      <th>1</th>\n",
       "      <td>6/30/2016</td>\n",
       "      <td>17712.75977</td>\n",
       "      <td>17930.60938</td>\n",
       "      <td>17711.80078</td>\n",
       "      <td>17929.99023</td>\n",
       "      <td>133030000</td>\n",
       "    </tr>\n",
       "    <tr>\n",
       "      <th>2</th>\n",
       "      <td>6/29/2016</td>\n",
       "      <td>17456.01953</td>\n",
       "      <td>17704.50977</td>\n",
       "      <td>17456.01953</td>\n",
       "      <td>17694.67969</td>\n",
       "      <td>106380000</td>\n",
       "    </tr>\n",
       "    <tr>\n",
       "      <th>3</th>\n",
       "      <td>6/28/2016</td>\n",
       "      <td>17190.50977</td>\n",
       "      <td>17409.72070</td>\n",
       "      <td>17190.50977</td>\n",
       "      <td>17409.72070</td>\n",
       "      <td>112190000</td>\n",
       "    </tr>\n",
       "    <tr>\n",
       "      <th>4</th>\n",
       "      <td>6/27/2016</td>\n",
       "      <td>17355.21094</td>\n",
       "      <td>17355.21094</td>\n",
       "      <td>17063.08008</td>\n",
       "      <td>17140.24023</td>\n",
       "      <td>138740000</td>\n",
       "    </tr>\n",
       "  </tbody>\n",
       "</table>\n",
       "</div>"
      ],
      "text/plain": [
       "        Date         Open         High          Low        Close     Volume\n",
       "0   7/1/2016  17924.24023  18002.38086  17916.91016  17949.36914   82160000\n",
       "1  6/30/2016  17712.75977  17930.60938  17711.80078  17929.99023  133030000\n",
       "2  6/29/2016  17456.01953  17704.50977  17456.01953  17694.67969  106380000\n",
       "3  6/28/2016  17190.50977  17409.72070  17190.50977  17409.72070  112190000\n",
       "4  6/27/2016  17355.21094  17355.21094  17063.08008  17140.24023  138740000"
      ]
     },
     "execution_count": 10,
     "metadata": {},
     "output_type": "execute_result"
    }
   ],
   "source": [
    "data1.head() #DIJA DATASET"
   ]
  },
  {
   "cell_type": "code",
   "execution_count": 11,
   "metadata": {},
   "outputs": [],
   "source": [
    "data2 = pd.read_csv('RedditNews.csv')"
   ]
  },
  {
   "cell_type": "code",
   "execution_count": 12,
   "metadata": {},
   "outputs": [
    {
     "data": {
      "text/html": [
       "<div>\n",
       "<style scoped>\n",
       "    .dataframe tbody tr th:only-of-type {\n",
       "        vertical-align: middle;\n",
       "    }\n",
       "\n",
       "    .dataframe tbody tr th {\n",
       "        vertical-align: top;\n",
       "    }\n",
       "\n",
       "    .dataframe thead th {\n",
       "        text-align: right;\n",
       "    }\n",
       "</style>\n",
       "<table border=\"1\" class=\"dataframe\">\n",
       "  <thead>\n",
       "    <tr style=\"text-align: right;\">\n",
       "      <th></th>\n",
       "      <th>Date</th>\n",
       "      <th>News</th>\n",
       "    </tr>\n",
       "  </thead>\n",
       "  <tbody>\n",
       "    <tr>\n",
       "      <th>0</th>\n",
       "      <td>2016-07-01</td>\n",
       "      <td>A 117-year-old woman in Mexico City finally re...</td>\n",
       "    </tr>\n",
       "    <tr>\n",
       "      <th>1</th>\n",
       "      <td>2016-07-01</td>\n",
       "      <td>IMF chief backs Athens as permanent Olympic host</td>\n",
       "    </tr>\n",
       "    <tr>\n",
       "      <th>2</th>\n",
       "      <td>2016-07-01</td>\n",
       "      <td>The president of France says if Brexit won, so...</td>\n",
       "    </tr>\n",
       "    <tr>\n",
       "      <th>3</th>\n",
       "      <td>2016-07-01</td>\n",
       "      <td>British Man Who Must Give Police 24 Hours' Not...</td>\n",
       "    </tr>\n",
       "    <tr>\n",
       "      <th>4</th>\n",
       "      <td>2016-07-01</td>\n",
       "      <td>100+ Nobel laureates urge Greenpeace to stop o...</td>\n",
       "    </tr>\n",
       "  </tbody>\n",
       "</table>\n",
       "</div>"
      ],
      "text/plain": [
       "         Date                                               News\n",
       "0  2016-07-01  A 117-year-old woman in Mexico City finally re...\n",
       "1  2016-07-01   IMF chief backs Athens as permanent Olympic host\n",
       "2  2016-07-01  The president of France says if Brexit won, so...\n",
       "3  2016-07-01  British Man Who Must Give Police 24 Hours' Not...\n",
       "4  2016-07-01  100+ Nobel laureates urge Greenpeace to stop o..."
      ]
     },
     "execution_count": 12,
     "metadata": {},
     "output_type": "execute_result"
    }
   ],
   "source": [
    "data2.head() #REDDIT NEWS"
   ]
  },
  {
   "cell_type": "markdown",
   "metadata": {
    "id": "5slwyyhCKRo9"
   },
   "source": [
    "Merge the datasets (be careful you can get multiple rows per date which is not desirable)"
   ]
  },
  {
   "cell_type": "code",
   "execution_count": 14,
   "metadata": {
    "id": "DFY6TKhGKOY4"
   },
   "outputs": [],
   "source": [
    "# Write your code here. Add as many boxes as you need.\n",
    "data1['Date'] = pd.to_datetime(data1['Date'])\n",
    "data2['Date'] = pd.to_datetime(data2['Date'])"
   ]
  },
  {
   "cell_type": "code",
   "execution_count": 15,
   "metadata": {},
   "outputs": [
    {
     "data": {
      "text/html": [
       "<div>\n",
       "<style scoped>\n",
       "    .dataframe tbody tr th:only-of-type {\n",
       "        vertical-align: middle;\n",
       "    }\n",
       "\n",
       "    .dataframe tbody tr th {\n",
       "        vertical-align: top;\n",
       "    }\n",
       "\n",
       "    .dataframe thead th {\n",
       "        text-align: right;\n",
       "    }\n",
       "</style>\n",
       "<table border=\"1\" class=\"dataframe\">\n",
       "  <thead>\n",
       "    <tr style=\"text-align: right;\">\n",
       "      <th></th>\n",
       "      <th>Date</th>\n",
       "      <th>Open</th>\n",
       "      <th>High</th>\n",
       "      <th>Low</th>\n",
       "      <th>Close</th>\n",
       "      <th>Volume</th>\n",
       "    </tr>\n",
       "  </thead>\n",
       "  <tbody>\n",
       "    <tr>\n",
       "      <th>0</th>\n",
       "      <td>2016-07-01</td>\n",
       "      <td>17924.24023</td>\n",
       "      <td>18002.38086</td>\n",
       "      <td>17916.91016</td>\n",
       "      <td>17949.36914</td>\n",
       "      <td>82160000</td>\n",
       "    </tr>\n",
       "    <tr>\n",
       "      <th>1</th>\n",
       "      <td>2016-06-30</td>\n",
       "      <td>17712.75977</td>\n",
       "      <td>17930.60938</td>\n",
       "      <td>17711.80078</td>\n",
       "      <td>17929.99023</td>\n",
       "      <td>133030000</td>\n",
       "    </tr>\n",
       "    <tr>\n",
       "      <th>2</th>\n",
       "      <td>2016-06-29</td>\n",
       "      <td>17456.01953</td>\n",
       "      <td>17704.50977</td>\n",
       "      <td>17456.01953</td>\n",
       "      <td>17694.67969</td>\n",
       "      <td>106380000</td>\n",
       "    </tr>\n",
       "    <tr>\n",
       "      <th>3</th>\n",
       "      <td>2016-06-28</td>\n",
       "      <td>17190.50977</td>\n",
       "      <td>17409.72070</td>\n",
       "      <td>17190.50977</td>\n",
       "      <td>17409.72070</td>\n",
       "      <td>112190000</td>\n",
       "    </tr>\n",
       "    <tr>\n",
       "      <th>4</th>\n",
       "      <td>2016-06-27</td>\n",
       "      <td>17355.21094</td>\n",
       "      <td>17355.21094</td>\n",
       "      <td>17063.08008</td>\n",
       "      <td>17140.24023</td>\n",
       "      <td>138740000</td>\n",
       "    </tr>\n",
       "  </tbody>\n",
       "</table>\n",
       "</div>"
      ],
      "text/plain": [
       "        Date         Open         High          Low        Close     Volume\n",
       "0 2016-07-01  17924.24023  18002.38086  17916.91016  17949.36914   82160000\n",
       "1 2016-06-30  17712.75977  17930.60938  17711.80078  17929.99023  133030000\n",
       "2 2016-06-29  17456.01953  17704.50977  17456.01953  17694.67969  106380000\n",
       "3 2016-06-28  17190.50977  17409.72070  17190.50977  17409.72070  112190000\n",
       "4 2016-06-27  17355.21094  17355.21094  17063.08008  17140.24023  138740000"
      ]
     },
     "execution_count": 15,
     "metadata": {},
     "output_type": "execute_result"
    }
   ],
   "source": [
    "data1.head()"
   ]
  },
  {
   "cell_type": "code",
   "execution_count": 16,
   "metadata": {},
   "outputs": [
    {
     "data": {
      "text/html": [
       "<div>\n",
       "<style scoped>\n",
       "    .dataframe tbody tr th:only-of-type {\n",
       "        vertical-align: middle;\n",
       "    }\n",
       "\n",
       "    .dataframe tbody tr th {\n",
       "        vertical-align: top;\n",
       "    }\n",
       "\n",
       "    .dataframe thead th {\n",
       "        text-align: right;\n",
       "    }\n",
       "</style>\n",
       "<table border=\"1\" class=\"dataframe\">\n",
       "  <thead>\n",
       "    <tr style=\"text-align: right;\">\n",
       "      <th></th>\n",
       "      <th>Date</th>\n",
       "      <th>News</th>\n",
       "    </tr>\n",
       "  </thead>\n",
       "  <tbody>\n",
       "    <tr>\n",
       "      <th>0</th>\n",
       "      <td>2016-07-01</td>\n",
       "      <td>A 117-year-old woman in Mexico City finally re...</td>\n",
       "    </tr>\n",
       "    <tr>\n",
       "      <th>1</th>\n",
       "      <td>2016-07-01</td>\n",
       "      <td>IMF chief backs Athens as permanent Olympic host</td>\n",
       "    </tr>\n",
       "    <tr>\n",
       "      <th>2</th>\n",
       "      <td>2016-07-01</td>\n",
       "      <td>The president of France says if Brexit won, so...</td>\n",
       "    </tr>\n",
       "    <tr>\n",
       "      <th>3</th>\n",
       "      <td>2016-07-01</td>\n",
       "      <td>British Man Who Must Give Police 24 Hours' Not...</td>\n",
       "    </tr>\n",
       "    <tr>\n",
       "      <th>4</th>\n",
       "      <td>2016-07-01</td>\n",
       "      <td>100+ Nobel laureates urge Greenpeace to stop o...</td>\n",
       "    </tr>\n",
       "  </tbody>\n",
       "</table>\n",
       "</div>"
      ],
      "text/plain": [
       "        Date                                               News\n",
       "0 2016-07-01  A 117-year-old woman in Mexico City finally re...\n",
       "1 2016-07-01   IMF chief backs Athens as permanent Olympic host\n",
       "2 2016-07-01  The president of France says if Brexit won, so...\n",
       "3 2016-07-01  British Man Who Must Give Police 24 Hours' Not...\n",
       "4 2016-07-01  100+ Nobel laureates urge Greenpeace to stop o..."
      ]
     },
     "execution_count": 16,
     "metadata": {},
     "output_type": "execute_result"
    }
   ],
   "source": [
    "data2.head()"
   ]
  },
  {
   "cell_type": "code",
   "execution_count": 17,
   "metadata": {},
   "outputs": [],
   "source": [
    "data = pd.merge(data1, data2, on='Date', how='inner')"
   ]
  },
  {
   "cell_type": "code",
   "execution_count": 18,
   "metadata": {},
   "outputs": [
    {
     "data": {
      "text/html": [
       "<div>\n",
       "<style scoped>\n",
       "    .dataframe tbody tr th:only-of-type {\n",
       "        vertical-align: middle;\n",
       "    }\n",
       "\n",
       "    .dataframe tbody tr th {\n",
       "        vertical-align: top;\n",
       "    }\n",
       "\n",
       "    .dataframe thead th {\n",
       "        text-align: right;\n",
       "    }\n",
       "</style>\n",
       "<table border=\"1\" class=\"dataframe\">\n",
       "  <thead>\n",
       "    <tr style=\"text-align: right;\">\n",
       "      <th></th>\n",
       "      <th>Date</th>\n",
       "      <th>Open</th>\n",
       "      <th>High</th>\n",
       "      <th>Low</th>\n",
       "      <th>Close</th>\n",
       "      <th>Volume</th>\n",
       "      <th>News</th>\n",
       "    </tr>\n",
       "  </thead>\n",
       "  <tbody>\n",
       "    <tr>\n",
       "      <th>0</th>\n",
       "      <td>2016-07-01</td>\n",
       "      <td>17924.24023</td>\n",
       "      <td>18002.38086</td>\n",
       "      <td>17916.91016</td>\n",
       "      <td>17949.36914</td>\n",
       "      <td>82160000</td>\n",
       "      <td>A 117-year-old woman in Mexico City finally re...</td>\n",
       "    </tr>\n",
       "    <tr>\n",
       "      <th>1</th>\n",
       "      <td>2016-07-01</td>\n",
       "      <td>17924.24023</td>\n",
       "      <td>18002.38086</td>\n",
       "      <td>17916.91016</td>\n",
       "      <td>17949.36914</td>\n",
       "      <td>82160000</td>\n",
       "      <td>IMF chief backs Athens as permanent Olympic host</td>\n",
       "    </tr>\n",
       "    <tr>\n",
       "      <th>2</th>\n",
       "      <td>2016-07-01</td>\n",
       "      <td>17924.24023</td>\n",
       "      <td>18002.38086</td>\n",
       "      <td>17916.91016</td>\n",
       "      <td>17949.36914</td>\n",
       "      <td>82160000</td>\n",
       "      <td>The president of France says if Brexit won, so...</td>\n",
       "    </tr>\n",
       "    <tr>\n",
       "      <th>3</th>\n",
       "      <td>2016-07-01</td>\n",
       "      <td>17924.24023</td>\n",
       "      <td>18002.38086</td>\n",
       "      <td>17916.91016</td>\n",
       "      <td>17949.36914</td>\n",
       "      <td>82160000</td>\n",
       "      <td>British Man Who Must Give Police 24 Hours' Not...</td>\n",
       "    </tr>\n",
       "    <tr>\n",
       "      <th>4</th>\n",
       "      <td>2016-07-01</td>\n",
       "      <td>17924.24023</td>\n",
       "      <td>18002.38086</td>\n",
       "      <td>17916.91016</td>\n",
       "      <td>17949.36914</td>\n",
       "      <td>82160000</td>\n",
       "      <td>100+ Nobel laureates urge Greenpeace to stop o...</td>\n",
       "    </tr>\n",
       "  </tbody>\n",
       "</table>\n",
       "</div>"
      ],
      "text/plain": [
       "        Date         Open         High          Low        Close    Volume  \\\n",
       "0 2016-07-01  17924.24023  18002.38086  17916.91016  17949.36914  82160000   \n",
       "1 2016-07-01  17924.24023  18002.38086  17916.91016  17949.36914  82160000   \n",
       "2 2016-07-01  17924.24023  18002.38086  17916.91016  17949.36914  82160000   \n",
       "3 2016-07-01  17924.24023  18002.38086  17916.91016  17949.36914  82160000   \n",
       "4 2016-07-01  17924.24023  18002.38086  17916.91016  17949.36914  82160000   \n",
       "\n",
       "                                                News  \n",
       "0  A 117-year-old woman in Mexico City finally re...  \n",
       "1   IMF chief backs Athens as permanent Olympic host  \n",
       "2  The president of France says if Brexit won, so...  \n",
       "3  British Man Who Must Give Police 24 Hours' Not...  \n",
       "4  100+ Nobel laureates urge Greenpeace to stop o...  "
      ]
     },
     "execution_count": 18,
     "metadata": {},
     "output_type": "execute_result"
    }
   ],
   "source": [
    "data.head()"
   ]
  },
  {
   "cell_type": "markdown",
   "metadata": {
    "id": "hZceBEFuiGpI"
   },
   "source": [
    "## Feauture Extraction\n",
    "\n",
    "\n",
    "1. DIJA Table\n",
    "Apply a lag of one, up to 7 days to each feature, creating a set of features representing the index price from the previous 7 days. To maintain dataset integrity, eliminate any resulting missing values at the beginning of the dataset.\n",
    "\n",
    "2. Reddit News Table\n",
    "Create a numeric representation for the news (for example average embedding or average sentiment). <b> You must create lags of the news features as well since we will not know the news for the future. </b>\n",
    "\n",
    "Hint: Use `df['column_name'].shift(period)`. Check the documentation at https://pandas.pydata.org/docs/reference/api/pandas.DataFrame.shift.html."
   ]
  },
  {
   "cell_type": "code",
   "execution_count": 20,
   "metadata": {},
   "outputs": [],
   "source": [
    "from textblob import TextBlob"
   ]
  },
  {
   "cell_type": "code",
   "execution_count": 21,
   "metadata": {
    "id": "S-xymWvjTFt-"
   },
   "outputs": [],
   "source": [
    "# Write your code here. Add as many boxes as you need.\n",
    "\n",
    "lag_range = 7\n",
    "\n",
    "# Create lag features for stock columns: Open, High, Low, Volume\n",
    "for col in ['Open', 'High', 'Low', 'Volume']:\n",
    "    for lag in range(1, lag_range + 1):\n",
    "        data[f'{col}_t-{lag}'] = data[col].shift(lag)\n",
    "\n",
    "# Apply sentiment analysis to the 'News' column\n",
    "data['sentiment'] = data['News'].apply(lambda x: TextBlob(x).sentiment.polarity)\n",
    "\n",
    "# Create lag features for sentiment\n",
    "for lag in range(1, lag_range + 1):\n",
    "    data[f'sentiment_t-{lag}'] = data['sentiment'].shift(lag)\n",
    "\n",
    "# Drop rows with missing values (due to lagging)\n",
    "data = data.dropna()\n",
    "data = data.drop(columns=['Open','High','Low','Volume','News','Date'],axis=1)"
   ]
  },
  {
   "cell_type": "code",
   "execution_count": 22,
   "metadata": {},
   "outputs": [
    {
     "data": {
      "text/html": [
       "<div>\n",
       "<style scoped>\n",
       "    .dataframe tbody tr th:only-of-type {\n",
       "        vertical-align: middle;\n",
       "    }\n",
       "\n",
       "    .dataframe tbody tr th {\n",
       "        vertical-align: top;\n",
       "    }\n",
       "\n",
       "    .dataframe thead th {\n",
       "        text-align: right;\n",
       "    }\n",
       "</style>\n",
       "<table border=\"1\" class=\"dataframe\">\n",
       "  <thead>\n",
       "    <tr style=\"text-align: right;\">\n",
       "      <th></th>\n",
       "      <th>Close</th>\n",
       "      <th>Open_t-1</th>\n",
       "      <th>Open_t-2</th>\n",
       "      <th>Open_t-3</th>\n",
       "      <th>Open_t-4</th>\n",
       "      <th>Open_t-5</th>\n",
       "      <th>Open_t-6</th>\n",
       "      <th>Open_t-7</th>\n",
       "      <th>High_t-1</th>\n",
       "      <th>High_t-2</th>\n",
       "      <th>...</th>\n",
       "      <th>Volume_t-6</th>\n",
       "      <th>Volume_t-7</th>\n",
       "      <th>sentiment</th>\n",
       "      <th>sentiment_t-1</th>\n",
       "      <th>sentiment_t-2</th>\n",
       "      <th>sentiment_t-3</th>\n",
       "      <th>sentiment_t-4</th>\n",
       "      <th>sentiment_t-5</th>\n",
       "      <th>sentiment_t-6</th>\n",
       "      <th>sentiment_t-7</th>\n",
       "    </tr>\n",
       "  </thead>\n",
       "  <tbody>\n",
       "    <tr>\n",
       "      <th>7</th>\n",
       "      <td>17949.36914</td>\n",
       "      <td>17924.24023</td>\n",
       "      <td>17924.24023</td>\n",
       "      <td>17924.24023</td>\n",
       "      <td>17924.24023</td>\n",
       "      <td>17924.24023</td>\n",
       "      <td>17924.24023</td>\n",
       "      <td>17924.24023</td>\n",
       "      <td>18002.38086</td>\n",
       "      <td>18002.38086</td>\n",
       "      <td>...</td>\n",
       "      <td>82160000.0</td>\n",
       "      <td>82160000.0</td>\n",
       "      <td>0.250000</td>\n",
       "      <td>-0.200000</td>\n",
       "      <td>0.40</td>\n",
       "      <td>0.00</td>\n",
       "      <td>0.111111</td>\n",
       "      <td>0.000000</td>\n",
       "      <td>0.000000</td>\n",
       "      <td>-0.066667</td>\n",
       "    </tr>\n",
       "    <tr>\n",
       "      <th>8</th>\n",
       "      <td>17949.36914</td>\n",
       "      <td>17924.24023</td>\n",
       "      <td>17924.24023</td>\n",
       "      <td>17924.24023</td>\n",
       "      <td>17924.24023</td>\n",
       "      <td>17924.24023</td>\n",
       "      <td>17924.24023</td>\n",
       "      <td>17924.24023</td>\n",
       "      <td>18002.38086</td>\n",
       "      <td>18002.38086</td>\n",
       "      <td>...</td>\n",
       "      <td>82160000.0</td>\n",
       "      <td>82160000.0</td>\n",
       "      <td>0.000000</td>\n",
       "      <td>0.250000</td>\n",
       "      <td>-0.20</td>\n",
       "      <td>0.40</td>\n",
       "      <td>0.000000</td>\n",
       "      <td>0.111111</td>\n",
       "      <td>0.000000</td>\n",
       "      <td>0.000000</td>\n",
       "    </tr>\n",
       "    <tr>\n",
       "      <th>9</th>\n",
       "      <td>17949.36914</td>\n",
       "      <td>17924.24023</td>\n",
       "      <td>17924.24023</td>\n",
       "      <td>17924.24023</td>\n",
       "      <td>17924.24023</td>\n",
       "      <td>17924.24023</td>\n",
       "      <td>17924.24023</td>\n",
       "      <td>17924.24023</td>\n",
       "      <td>18002.38086</td>\n",
       "      <td>18002.38086</td>\n",
       "      <td>...</td>\n",
       "      <td>82160000.0</td>\n",
       "      <td>82160000.0</td>\n",
       "      <td>0.500000</td>\n",
       "      <td>0.000000</td>\n",
       "      <td>0.25</td>\n",
       "      <td>-0.20</td>\n",
       "      <td>0.400000</td>\n",
       "      <td>0.000000</td>\n",
       "      <td>0.111111</td>\n",
       "      <td>0.000000</td>\n",
       "    </tr>\n",
       "    <tr>\n",
       "      <th>10</th>\n",
       "      <td>17949.36914</td>\n",
       "      <td>17924.24023</td>\n",
       "      <td>17924.24023</td>\n",
       "      <td>17924.24023</td>\n",
       "      <td>17924.24023</td>\n",
       "      <td>17924.24023</td>\n",
       "      <td>17924.24023</td>\n",
       "      <td>17924.24023</td>\n",
       "      <td>18002.38086</td>\n",
       "      <td>18002.38086</td>\n",
       "      <td>...</td>\n",
       "      <td>82160000.0</td>\n",
       "      <td>82160000.0</td>\n",
       "      <td>-0.127778</td>\n",
       "      <td>0.500000</td>\n",
       "      <td>0.00</td>\n",
       "      <td>0.25</td>\n",
       "      <td>-0.200000</td>\n",
       "      <td>0.400000</td>\n",
       "      <td>0.000000</td>\n",
       "      <td>0.111111</td>\n",
       "    </tr>\n",
       "    <tr>\n",
       "      <th>11</th>\n",
       "      <td>17949.36914</td>\n",
       "      <td>17924.24023</td>\n",
       "      <td>17924.24023</td>\n",
       "      <td>17924.24023</td>\n",
       "      <td>17924.24023</td>\n",
       "      <td>17924.24023</td>\n",
       "      <td>17924.24023</td>\n",
       "      <td>17924.24023</td>\n",
       "      <td>18002.38086</td>\n",
       "      <td>18002.38086</td>\n",
       "      <td>...</td>\n",
       "      <td>82160000.0</td>\n",
       "      <td>82160000.0</td>\n",
       "      <td>0.000000</td>\n",
       "      <td>-0.127778</td>\n",
       "      <td>0.50</td>\n",
       "      <td>0.00</td>\n",
       "      <td>0.250000</td>\n",
       "      <td>-0.200000</td>\n",
       "      <td>0.400000</td>\n",
       "      <td>0.000000</td>\n",
       "    </tr>\n",
       "  </tbody>\n",
       "</table>\n",
       "<p>5 rows × 37 columns</p>\n",
       "</div>"
      ],
      "text/plain": [
       "          Close     Open_t-1     Open_t-2     Open_t-3     Open_t-4  \\\n",
       "7   17949.36914  17924.24023  17924.24023  17924.24023  17924.24023   \n",
       "8   17949.36914  17924.24023  17924.24023  17924.24023  17924.24023   \n",
       "9   17949.36914  17924.24023  17924.24023  17924.24023  17924.24023   \n",
       "10  17949.36914  17924.24023  17924.24023  17924.24023  17924.24023   \n",
       "11  17949.36914  17924.24023  17924.24023  17924.24023  17924.24023   \n",
       "\n",
       "       Open_t-5     Open_t-6     Open_t-7     High_t-1     High_t-2  ...  \\\n",
       "7   17924.24023  17924.24023  17924.24023  18002.38086  18002.38086  ...   \n",
       "8   17924.24023  17924.24023  17924.24023  18002.38086  18002.38086  ...   \n",
       "9   17924.24023  17924.24023  17924.24023  18002.38086  18002.38086  ...   \n",
       "10  17924.24023  17924.24023  17924.24023  18002.38086  18002.38086  ...   \n",
       "11  17924.24023  17924.24023  17924.24023  18002.38086  18002.38086  ...   \n",
       "\n",
       "    Volume_t-6  Volume_t-7  sentiment  sentiment_t-1  sentiment_t-2  \\\n",
       "7   82160000.0  82160000.0   0.250000      -0.200000           0.40   \n",
       "8   82160000.0  82160000.0   0.000000       0.250000          -0.20   \n",
       "9   82160000.0  82160000.0   0.500000       0.000000           0.25   \n",
       "10  82160000.0  82160000.0  -0.127778       0.500000           0.00   \n",
       "11  82160000.0  82160000.0   0.000000      -0.127778           0.50   \n",
       "\n",
       "    sentiment_t-3  sentiment_t-4  sentiment_t-5  sentiment_t-6  sentiment_t-7  \n",
       "7            0.00       0.111111       0.000000       0.000000      -0.066667  \n",
       "8            0.40       0.000000       0.111111       0.000000       0.000000  \n",
       "9           -0.20       0.400000       0.000000       0.111111       0.000000  \n",
       "10           0.25      -0.200000       0.400000       0.000000       0.111111  \n",
       "11           0.00       0.250000      -0.200000       0.400000       0.000000  \n",
       "\n",
       "[5 rows x 37 columns]"
      ]
     },
     "execution_count": 22,
     "metadata": {},
     "output_type": "execute_result"
    }
   ],
   "source": [
    "data.head()"
   ]
  },
  {
   "cell_type": "markdown",
   "metadata": {
    "id": "tls69_PrbJKW"
   },
   "source": [
    "## Dataset Splitting\n",
    "Partition the dataset into training and testing sets with an 80:20 ratio.\n",
    "\n",
    "**WARNING: DO NOT SHUFFLE THE DATASET.**\n",
    "\n"
   ]
  },
  {
   "cell_type": "code",
   "execution_count": 24,
   "metadata": {
    "id": "PjGGGMxebeoB"
   },
   "outputs": [],
   "source": [
    "# Write your code here. Add as many boxes as you need.\n",
    "input = data.drop(['Close'], axis=1)\n",
    "target = data['Close']"
   ]
  },
  {
   "cell_type": "code",
   "execution_count": 25,
   "metadata": {},
   "outputs": [],
   "source": [
    "from sklearn.model_selection import train_test_split"
   ]
  },
  {
   "cell_type": "code",
   "execution_count": 26,
   "metadata": {},
   "outputs": [],
   "source": [
    "X_train, X_test, Y_train, Y_test = train_test_split(input, target, test_size=0.2, shuffle = False)"
   ]
  },
  {
   "cell_type": "markdown",
   "metadata": {
    "id": "lwhDHS-nRRhW"
   },
   "source": [
    "## Feauture Scaling\n",
    "Scale the extracted features using an appropriate scaler if needed."
   ]
  },
  {
   "cell_type": "code",
   "execution_count": 28,
   "metadata": {
    "id": "xlvbs68wRaVj"
   },
   "outputs": [],
   "source": [
    "# Write your code here. Add as many boxes as you need.\n",
    "from sklearn.preprocessing import StandardScaler"
   ]
  },
  {
   "cell_type": "code",
   "execution_count": 29,
   "metadata": {},
   "outputs": [],
   "source": [
    "scaler = StandardScaler()"
   ]
  },
  {
   "cell_type": "code",
   "execution_count": 30,
   "metadata": {},
   "outputs": [],
   "source": [
    "X_train = scaler.fit_transform(X_train)\n",
    "X_test = scaler.transform(X_test)"
   ]
  },
  {
   "cell_type": "markdown",
   "metadata": {
    "id": "xI53ZRmfW8WG"
   },
   "source": [
    "## Feature Reshaping"
   ]
  },
  {
   "cell_type": "markdown",
   "metadata": {
    "id": "sK9naW8AXVaU"
   },
   "source": [
    "Reshape the feature dimensions into the shape `(samples, timesteps, features)`."
   ]
  },
  {
   "cell_type": "code",
   "execution_count": 33,
   "metadata": {},
   "outputs": [],
   "source": [
    "# Find a time_steps value that divides the number of features\n",
    "new_time_steps = X_train.shape[1]  # You can also try a different value based on trial and error\n",
    "features = X_train.shape[1] // new_time_steps  # Calculate the corresponding number of features\n",
    "\n",
    "# Reshape the data\n",
    "X_train_reshaped = X_train.reshape((X_train.shape[0], new_time_steps, features))\n",
    "X_test_reshaped = X_test.reshape((X_test.shape[0], new_time_steps, features))\n",
    "\n",
    "# Proceed with model training\n",
    "\n"
   ]
  },
  {
   "cell_type": "markdown",
   "metadata": {
    "id": "VIkAR1Hibiwr"
   },
   "source": [
    "## Long Short-Term Memory (LSTM) Network\n"
   ]
  },
  {
   "cell_type": "markdown",
   "metadata": {
    "id": "qWn1pafKbnxH"
   },
   "source": [
    "Define the forecasting model using the **Keras Sequential API** (`keras.models.Sequential`), incorporating one or more LSTM layers along with additional relevant layers (`keras.layers`). Be cautious when specifying the configuration of the final layer to ensure proper model output for the forecasting task."
   ]
  },
  {
   "cell_type": "code",
   "execution_count": 36,
   "metadata": {
    "id": "IXFIrQthbnkb"
   },
   "outputs": [],
   "source": [
    "# Write your code here. Add as many boxes as you need.\n",
    "from keras.models import Sequential\n",
    "from keras.layers import LSTM, Dropout, Dense"
   ]
  },
  {
   "cell_type": "code",
   "execution_count": 37,
   "metadata": {},
   "outputs": [],
   "source": [
    "model = Sequential()\n",
    "model.add(Dense(units=1))\n",
    "model.add(LSTM(units=64, return_sequences=True, input_shape=(new_time_steps, features)))  # Input shape for LSTM\n",
    "model.add(Dropout(0.2))\n",
    "model.add(LSTM(units=32, return_sequences=False))  # Second LSTM layer\n",
    "model.add(Dropout(0.2))\n",
    "model.add(Dense(units=1))  "
   ]
  },
  {
   "cell_type": "code",
   "execution_count": null,
   "metadata": {},
   "outputs": [],
   "source": []
  },
  {
   "cell_type": "markdown",
   "metadata": {
    "id": "tAM-g59xSO4V"
   },
   "source": [
    "Compile the previously defined model specifying **loss function** (`keras.losses`), **optimizer** (`keras.optimizers`) and **evaluation metrics** (`keras.metics`)."
   ]
  },
  {
   "cell_type": "code",
   "execution_count": 39,
   "metadata": {},
   "outputs": [],
   "source": [
    "from keras.optimizers import Adam\n",
    "from keras.losses import MeanSquaredError\n",
    "from keras.metrics import MeanAbsoluteError, RootMeanSquaredError\n"
   ]
  },
  {
   "cell_type": "code",
   "execution_count": 40,
   "metadata": {
    "id": "ZBtCCy9VSQpF"
   },
   "outputs": [],
   "source": [
    "# Write your code here. Add as many boxes as you need.\n",
    "model.compile(\n",
    "    optimizer=Adam(learning_rate=0.001),  # Adam optimizer with a learning rate of 0.001\n",
    "    loss=MeanSquaredError(),  # Loss function: Mean Squared Error for regression tasks\n",
    "    metrics=[MeanAbsoluteError(), RootMeanSquaredError()]  # Metrics: MAE and RMSE\n",
    ")"
   ]
  },
  {
   "cell_type": "markdown",
   "metadata": {
    "id": "lygUzi0QTXgZ"
   },
   "source": [
    "Train the model on the training set, specifying the **batch size** and **number of epochs** for the training process. Allocate 20% of the samples for **validation**, and ensure that the dataset remains **unshuffled** during training."
   ]
  },
  {
   "cell_type": "code",
   "execution_count": 42,
   "metadata": {
    "id": "Fkj3k5p8TXEF"
   },
   "outputs": [
    {
     "name": "stdout",
     "output_type": "stream",
     "text": [
      "Epoch 1/64\n",
      "498/498 [==============================] - 17s 25ms/step - loss: 239152096.0000 - mean_absolute_error: 15313.4355 - root_mean_squared_error: 15464.5430 - val_loss: 126766816.0000 - val_mean_absolute_error: 11229.5283 - val_root_mean_squared_error: 11259.0771\n",
      "Epoch 2/64\n",
      "498/498 [==============================] - 11s 23ms/step - loss: 238653232.0000 - mean_absolute_error: 15297.1816 - root_mean_squared_error: 15448.4053 - val_loss: 126435808.0000 - val_mean_absolute_error: 11214.9111 - val_root_mean_squared_error: 11244.3682\n",
      "Epoch 3/64\n",
      "498/498 [==============================] - 12s 25ms/step - loss: 238170496.0000 - mean_absolute_error: 15281.4033 - root_mean_squared_error: 15432.7734 - val_loss: 126103416.0000 - val_mean_absolute_error: 11200.1963 - val_root_mean_squared_error: 11229.5781\n",
      "Epoch 4/64\n",
      "498/498 [==============================] - 12s 24ms/step - loss: 237689216.0000 - mean_absolute_error: 15265.6494 - root_mean_squared_error: 15417.1729 - val_loss: 125769568.0000 - val_mean_absolute_error: 11185.3799 - val_root_mean_squared_error: 11214.7031\n",
      "Epoch 5/64\n",
      "498/498 [==============================] - 15s 30ms/step - loss: 237207744.0000 - mean_absolute_error: 15249.8643 - root_mean_squared_error: 15401.5498 - val_loss: 125434344.0000 - val_mean_absolute_error: 11170.4746 - val_root_mean_squared_error: 11199.7471\n",
      "Epoch 6/64\n",
      "498/498 [==============================] - 12s 23ms/step - loss: 236728064.0000 - mean_absolute_error: 15234.1143 - root_mean_squared_error: 15385.9697 - val_loss: 125097416.0000 - val_mean_absolute_error: 11155.4668 - val_root_mean_squared_error: 11184.6953\n",
      "Epoch 7/64\n",
      "498/498 [==============================] - 11s 22ms/step - loss: 236251936.0000 - mean_absolute_error: 15218.4854 - root_mean_squared_error: 15370.4893 - val_loss: 124759352.0000 - val_mean_absolute_error: 11140.3701 - val_root_mean_squared_error: 11169.5723\n",
      "Epoch 8/64\n",
      "498/498 [==============================] - 11s 23ms/step - loss: 235768880.0000 - mean_absolute_error: 15202.6318 - root_mean_squared_error: 15354.7676 - val_loss: 124418688.0000 - val_mean_absolute_error: 11125.1191 - val_root_mean_squared_error: 11154.3125\n",
      "Epoch 9/64\n",
      "498/498 [==============================] - 11s 22ms/step - loss: 235290144.0000 - mean_absolute_error: 15186.8584 - root_mean_squared_error: 15339.1699 - val_loss: 124077056.0000 - val_mean_absolute_error: 11109.8057 - val_root_mean_squared_error: 11138.9883\n",
      "Epoch 10/64\n",
      "498/498 [==============================] - 11s 22ms/step - loss: 234814848.0000 - mean_absolute_error: 15171.2139 - root_mean_squared_error: 15323.6699 - val_loss: 123734992.0000 - val_mean_absolute_error: 11094.4414 - val_root_mean_squared_error: 11123.6230\n",
      "Epoch 11/64\n",
      "498/498 [==============================] - 11s 23ms/step - loss: 234339696.0000 - mean_absolute_error: 15155.5439 - root_mean_squared_error: 15308.1582 - val_loss: 123392400.0000 - val_mean_absolute_error: 11079.0215 - val_root_mean_squared_error: 11108.2129\n",
      "Epoch 12/64\n",
      "498/498 [==============================] - 11s 22ms/step - loss: 233866704.0000 - mean_absolute_error: 15139.9180 - root_mean_squared_error: 15292.7012 - val_loss: 123050888.0000 - val_mean_absolute_error: 11063.6328 - val_root_mean_squared_error: 11092.8301\n",
      "Epoch 13/64\n",
      "498/498 [==============================] - 11s 23ms/step - loss: 233389200.0000 - mean_absolute_error: 15124.1348 - root_mean_squared_error: 15277.0811 - val_loss: 122708072.0000 - val_mean_absolute_error: 11048.1592 - val_root_mean_squared_error: 11077.3672\n",
      "Epoch 14/64\n",
      "498/498 [==============================] - 11s 23ms/step - loss: 232910720.0000 - mean_absolute_error: 15108.2852 - root_mean_squared_error: 15261.4131 - val_loss: 122334024.0000 - val_mean_absolute_error: 11031.1729 - val_root_mean_squared_error: 11060.4717\n",
      "Epoch 15/64\n",
      "498/498 [==============================] - 11s 23ms/step - loss: 232398784.0000 - mean_absolute_error: 15091.3027 - root_mean_squared_error: 15244.6309 - val_loss: 121973144.0000 - val_mean_absolute_error: 11014.8359 - val_root_mean_squared_error: 11044.1455\n",
      "Epoch 16/64\n",
      "498/498 [==============================] - 12s 23ms/step - loss: 231910288.0000 - mean_absolute_error: 15075.1172 - root_mean_squared_error: 15228.6006 - val_loss: 121619192.0000 - val_mean_absolute_error: 10998.7822 - val_root_mean_squared_error: 11028.1094\n",
      "Epoch 17/64\n",
      "498/498 [==============================] - 11s 23ms/step - loss: 231418624.0000 - mean_absolute_error: 15058.7910 - root_mean_squared_error: 15212.4492 - val_loss: 121268552.0000 - val_mean_absolute_error: 10982.8721 - val_root_mean_squared_error: 11012.2002\n",
      "Epoch 18/64\n",
      "498/498 [==============================] - 12s 25ms/step - loss: 230921440.0000 - mean_absolute_error: 15042.2930 - root_mean_squared_error: 15196.0996 - val_loss: 120918216.0000 - val_mean_absolute_error: 10966.9434 - val_root_mean_squared_error: 10996.2822\n",
      "Epoch 19/64\n",
      "498/498 [==============================] - 12s 24ms/step - loss: 230441536.0000 - mean_absolute_error: 15026.3418 - root_mean_squared_error: 15180.3008 - val_loss: 120569416.0000 - val_mean_absolute_error: 10951.0615 - val_root_mean_squared_error: 10980.4102\n",
      "Epoch 20/64\n",
      "498/498 [==============================] - 12s 25ms/step - loss: 229940448.0000 - mean_absolute_error: 15009.6396 - root_mean_squared_error: 15163.7871 - val_loss: 120218128.0000 - val_mean_absolute_error: 10935.0283 - val_root_mean_squared_error: 10964.4023\n",
      "Epoch 21/64\n",
      "498/498 [==============================] - 14s 28ms/step - loss: 229465040.0000 - mean_absolute_error: 14993.7988 - root_mean_squared_error: 15148.1035 - val_loss: 119867824.0000 - val_mean_absolute_error: 10919.0186 - val_root_mean_squared_error: 10948.4170\n",
      "Epoch 22/64\n",
      "498/498 [==============================] - 13s 25ms/step - loss: 228971664.0000 - mean_absolute_error: 14977.3291 - root_mean_squared_error: 15131.8096 - val_loss: 119515608.0000 - val_mean_absolute_error: 10902.8867 - val_root_mean_squared_error: 10932.3193\n",
      "Epoch 23/64\n",
      "498/498 [==============================] - 13s 27ms/step - loss: 228492160.0000 - mean_absolute_error: 14961.3760 - root_mean_squared_error: 15115.9570 - val_loss: 119167408.0000 - val_mean_absolute_error: 10886.9277 - val_root_mean_squared_error: 10916.3828\n",
      "Epoch 24/64\n",
      "498/498 [==============================] - 11s 23ms/step - loss: 228005120.0000 - mean_absolute_error: 14945.0742 - root_mean_squared_error: 15099.8389 - val_loss: 118817800.0000 - val_mean_absolute_error: 10870.8770 - val_root_mean_squared_error: 10900.3574\n",
      "Epoch 25/64\n",
      "498/498 [==============================] - 13s 25ms/step - loss: 227526496.0000 - mean_absolute_error: 14929.0439 - root_mean_squared_error: 15083.9814 - val_loss: 118469784.0000 - val_mean_absolute_error: 10854.8711 - val_root_mean_squared_error: 10884.3828\n",
      "Epoch 26/64\n",
      "498/498 [==============================] - 12s 25ms/step - loss: 227045424.0000 - mean_absolute_error: 14912.9150 - root_mean_squared_error: 15068.0264 - val_loss: 118119944.0000 - val_mean_absolute_error: 10838.7568 - val_root_mean_squared_error: 10868.2998\n",
      "Epoch 27/64\n",
      "498/498 [==============================] - 11s 23ms/step - loss: 226555392.0000 - mean_absolute_error: 14896.4043 - root_mean_squared_error: 15051.7568 - val_loss: 117761032.0000 - val_mean_absolute_error: 10822.1436 - val_root_mean_squared_error: 10851.7754\n",
      "Epoch 28/64\n",
      "498/498 [==============================] - 12s 23ms/step - loss: 226075552.0000 - mean_absolute_error: 14880.2783 - root_mean_squared_error: 15035.8086 - val_loss: 117410880.0000 - val_mean_absolute_error: 10805.9512 - val_root_mean_squared_error: 10835.6299\n",
      "Epoch 29/64\n",
      "498/498 [==============================] - 11s 22ms/step - loss: 225601968.0000 - mean_absolute_error: 14864.3027 - root_mean_squared_error: 15020.0518 - val_loss: 117065688.0000 - val_mean_absolute_error: 10789.9883 - val_root_mean_squared_error: 10819.6895\n",
      "Epoch 30/64\n",
      "498/498 [==============================] - 12s 23ms/step - loss: 225116112.0000 - mean_absolute_error: 14847.9824 - root_mean_squared_error: 15003.8701 - val_loss: 116721040.0000 - val_mean_absolute_error: 10774.0303 - val_root_mean_squared_error: 10803.7510\n",
      "Epoch 31/64\n",
      "498/498 [==============================] - 11s 23ms/step - loss: 224622944.0000 - mean_absolute_error: 14831.4238 - root_mean_squared_error: 14987.4258 - val_loss: 116373232.0000 - val_mean_absolute_error: 10757.8867 - val_root_mean_squared_error: 10787.6426\n",
      "Epoch 32/64\n",
      "498/498 [==============================] - 11s 23ms/step - loss: 224164304.0000 - mean_absolute_error: 14815.9404 - root_mean_squared_error: 14972.1172 - val_loss: 116014944.0000 - val_mean_absolute_error: 10741.1631 - val_root_mean_squared_error: 10771.0234\n",
      "Epoch 33/64\n",
      "498/498 [==============================] - 12s 23ms/step - loss: 223685600.0000 - mean_absolute_error: 14799.7559 - root_mean_squared_error: 14956.1221 - val_loss: 115670696.0000 - val_mean_absolute_error: 10725.1436 - val_root_mean_squared_error: 10755.0312\n",
      "Epoch 34/64\n",
      "498/498 [==============================] - 11s 23ms/step - loss: 223191760.0000 - mean_absolute_error: 14783.0156 - root_mean_squared_error: 14939.6035 - val_loss: 115266832.0000 - val_mean_absolute_error: 10705.9971 - val_root_mean_squared_error: 10736.2393\n",
      "Epoch 35/64\n",
      "498/498 [==============================] - 11s 23ms/step - loss: 222708176.0000 - mean_absolute_error: 14766.7568 - root_mean_squared_error: 14923.4102 - val_loss: 114919296.0000 - val_mean_absolute_error: 10689.7471 - val_root_mean_squared_error: 10720.0420\n",
      "Epoch 36/64\n",
      "498/498 [==============================] - 12s 23ms/step - loss: 222220672.0000 - mean_absolute_error: 14750.2217 - root_mean_squared_error: 14907.0674 - val_loss: 114574848.0000 - val_mean_absolute_error: 10673.6270 - val_root_mean_squared_error: 10703.9639\n",
      "Epoch 37/64\n",
      "498/498 [==============================] - 11s 23ms/step - loss: 221752288.0000 - mean_absolute_error: 14734.3184 - root_mean_squared_error: 14891.3496 - val_loss: 114186800.0000 - val_mean_absolute_error: 10655.1924 - val_root_mean_squared_error: 10685.8223\n",
      "Epoch 38/64\n",
      "498/498 [==============================] - 11s 22ms/step - loss: 221281120.0000 - mean_absolute_error: 14718.2686 - root_mean_squared_error: 14875.5205 - val_loss: 113831432.0000 - val_mean_absolute_error: 10638.4434 - val_root_mean_squared_error: 10669.1816\n",
      "Epoch 39/64\n",
      "498/498 [==============================] - 11s 23ms/step - loss: 220798320.0000 - mean_absolute_error: 14701.8984 - root_mean_squared_error: 14859.2842 - val_loss: 113486048.0000 - val_mean_absolute_error: 10622.1895 - val_root_mean_squared_error: 10652.9834\n",
      "Epoch 40/64\n",
      "498/498 [==============================] - 12s 24ms/step - loss: 220353792.0000 - mean_absolute_error: 14686.8164 - root_mean_squared_error: 14844.3184 - val_loss: 113145088.0000 - val_mean_absolute_error: 10606.1416 - val_root_mean_squared_error: 10636.9678\n",
      "Epoch 41/64\n",
      "498/498 [==============================] - 12s 24ms/step - loss: 219856688.0000 - mean_absolute_error: 14669.7852 - root_mean_squared_error: 14827.5654 - val_loss: 112803792.0000 - val_mean_absolute_error: 10590.0508 - val_root_mean_squared_error: 10620.9131\n",
      "Epoch 42/64\n",
      "498/498 [==============================] - 13s 25ms/step - loss: 219404224.0000 - mean_absolute_error: 14654.3477 - root_mean_squared_error: 14812.2998 - val_loss: 112463520.0000 - val_mean_absolute_error: 10573.9854 - val_root_mean_squared_error: 10604.8818\n",
      "Epoch 43/64\n",
      "498/498 [==============================] - 12s 24ms/step - loss: 218925264.0000 - mean_absolute_error: 14637.9785 - root_mean_squared_error: 14796.1230 - val_loss: 112123600.0000 - val_mean_absolute_error: 10557.9141 - val_root_mean_squared_error: 10588.8428\n",
      "Epoch 44/64\n",
      "498/498 [==============================] - 12s 24ms/step - loss: 218423712.0000 - mean_absolute_error: 14620.9150 - root_mean_squared_error: 14779.1650 - val_loss: 111666776.0000 - val_mean_absolute_error: 10535.5254 - val_root_mean_squared_error: 10567.2500\n",
      "Epoch 45/64\n",
      "498/498 [==============================] - 12s 24ms/step - loss: 217968704.0000 - mean_absolute_error: 14605.3359 - root_mean_squared_error: 14763.7637 - val_loss: 111326008.0000 - val_mean_absolute_error: 10519.3418 - val_root_mean_squared_error: 10551.1143\n",
      "Epoch 46/64\n",
      "498/498 [==============================] - 12s 23ms/step - loss: 217499536.0000 - mean_absolute_error: 14589.3350 - root_mean_squared_error: 14747.8652 - val_loss: 110985808.0000 - val_mean_absolute_error: 10503.1582 - val_root_mean_squared_error: 10534.9805\n",
      "Epoch 47/64\n",
      "498/498 [==============================] - 12s 23ms/step - loss: 217009680.0000 - mean_absolute_error: 14572.4590 - root_mean_squared_error: 14731.2480 - val_loss: 110645888.0000 - val_mean_absolute_error: 10486.9619 - val_root_mean_squared_error: 10518.8350\n",
      "Epoch 48/64\n",
      "498/498 [==============================] - 12s 24ms/step - loss: 216553824.0000 - mean_absolute_error: 14556.8086 - root_mean_squared_error: 14715.7676 - val_loss: 110306728.0000 - val_mean_absolute_error: 10470.7812 - val_root_mean_squared_error: 10502.7012\n",
      "Epoch 49/64\n",
      "498/498 [==============================] - 12s 25ms/step - loss: 216063824.0000 - mean_absolute_error: 14539.9336 - root_mean_squared_error: 14699.1094 - val_loss: 109967888.0000 - val_mean_absolute_error: 10454.5859 - val_root_mean_squared_error: 10486.5576\n",
      "Epoch 50/64\n",
      "498/498 [==============================] - 13s 25ms/step - loss: 215604848.0000 - mean_absolute_error: 14524.1758 - root_mean_squared_error: 14683.4893 - val_loss: 109629744.0000 - val_mean_absolute_error: 10438.4053 - val_root_mean_squared_error: 10470.4219\n",
      "Epoch 51/64\n",
      "498/498 [==============================] - 12s 25ms/step - loss: 215121328.0000 - mean_absolute_error: 14507.5283 - root_mean_squared_error: 14667.0146 - val_loss: 109292032.0000 - val_mean_absolute_error: 10422.2129 - val_root_mean_squared_error: 10454.2832\n",
      "Epoch 52/64\n",
      "498/498 [==============================] - 12s 25ms/step - loss: 214671264.0000 - mean_absolute_error: 14491.8359 - root_mean_squared_error: 14651.6641 - val_loss: 108954944.0000 - val_mean_absolute_error: 10406.0303 - val_root_mean_squared_error: 10438.1484\n",
      "Epoch 53/64\n",
      "498/498 [==============================] - 12s 23ms/step - loss: 214210192.0000 - mean_absolute_error: 14476.1416 - root_mean_squared_error: 14635.9209 - val_loss: 108618576.0000 - val_mean_absolute_error: 10389.8594 - val_root_mean_squared_error: 10422.0234\n",
      "Epoch 54/64\n",
      "498/498 [==============================] - 11s 23ms/step - loss: 213731536.0000 - mean_absolute_error: 14459.4414 - root_mean_squared_error: 14619.5596 - val_loss: 108282560.0000 - val_mean_absolute_error: 10373.6729 - val_root_mean_squared_error: 10405.8906\n",
      "Epoch 55/64\n",
      "498/498 [==============================] - 12s 23ms/step - loss: 213231280.0000 - mean_absolute_error: 14442.2275 - root_mean_squared_error: 14602.4404 - val_loss: 107946728.0000 - val_mean_absolute_error: 10357.4736 - val_root_mean_squared_error: 10389.7412\n",
      "Epoch 56/64\n",
      "498/498 [==============================] - 11s 23ms/step - loss: 212777392.0000 - mean_absolute_error: 14426.3252 - root_mean_squared_error: 14586.8906 - val_loss: 107611616.0000 - val_mean_absolute_error: 10341.2871 - val_root_mean_squared_error: 10373.6016\n",
      "Epoch 57/64\n",
      "498/498 [==============================] - 11s 23ms/step - loss: 212361488.0000 - mean_absolute_error: 14412.1152 - root_mean_squared_error: 14572.6279 - val_loss: 107277632.0000 - val_mean_absolute_error: 10325.1279 - val_root_mean_squared_error: 10357.4912\n",
      "Epoch 58/64\n",
      "498/498 [==============================] - 11s 23ms/step - loss: 211858096.0000 - mean_absolute_error: 14394.5811 - root_mean_squared_error: 14555.3457 - val_loss: 106943736.0000 - val_mean_absolute_error: 10308.9414 - val_root_mean_squared_error: 10341.3604\n",
      "Epoch 59/64\n",
      "498/498 [==============================] - 12s 24ms/step - loss: 211383200.0000 - mean_absolute_error: 14377.9600 - root_mean_squared_error: 14539.0234 - val_loss: 106610208.0000 - val_mean_absolute_error: 10292.7539 - val_root_mean_squared_error: 10325.2217\n",
      "Epoch 60/64\n",
      "498/498 [==============================] - 11s 23ms/step - loss: 210907872.0000 - mean_absolute_error: 14361.4121 - root_mean_squared_error: 14522.6680 - val_loss: 106277168.0000 - val_mean_absolute_error: 10276.5615 - val_root_mean_squared_error: 10309.0820\n",
      "Epoch 61/64\n",
      "498/498 [==============================] - 12s 24ms/step - loss: 210470320.0000 - mean_absolute_error: 14346.1514 - root_mean_squared_error: 14507.5957 - val_loss: 105945000.0000 - val_mean_absolute_error: 10260.3906 - val_root_mean_squared_error: 10292.9590\n",
      "Epoch 62/64\n",
      "498/498 [==============================] - 11s 23ms/step - loss: 210005552.0000 - mean_absolute_error: 14329.9688 - root_mean_squared_error: 14491.5684 - val_loss: 105613296.0000 - val_mean_absolute_error: 10244.2100 - val_root_mean_squared_error: 10276.8330\n",
      "Epoch 63/64\n",
      "498/498 [==============================] - 12s 23ms/step - loss: 209561248.0000 - mean_absolute_error: 14314.3555 - root_mean_squared_error: 14476.2305 - val_loss: 105282216.0000 - val_mean_absolute_error: 10228.0391 - val_root_mean_squared_error: 10260.7119\n",
      "Epoch 64/64\n",
      "498/498 [==============================] - 12s 23ms/step - loss: 209060096.0000 - mean_absolute_error: 14297.0947 - root_mean_squared_error: 14458.9102 - val_loss: 104951312.0000 - val_mean_absolute_error: 10211.8477 - val_root_mean_squared_error: 10244.5752\n"
     ]
    }
   ],
   "source": [
    "# Write your code here. Add as many boxes as you need.\n",
    "# Train the model\n",
    "\n",
    "history = model.fit(\n",
    "    X_train_reshaped,  \n",
    "    Y_train,  \n",
    "    batch_size=64,  \n",
    "    epochs=64,  \n",
    "    validation_split=0.2,  \n",
    "    shuffle=False,  \n",
    "    verbose=1 \n",
    ")\n",
    "\n"
   ]
  },
  {
   "cell_type": "markdown",
   "metadata": {
    "id": "BgK9j0GrUs2l"
   },
   "source": [
    "Create a line plot illustrating both the **training** and **validation loss** over the training epochs."
   ]
  },
  {
   "cell_type": "code",
   "execution_count": 44,
   "metadata": {
    "id": "2u1RylwfUtR0"
   },
   "outputs": [
    {
     "data": {
      "image/png": "[encoded data removed]",
      "text/plain": [
       "<Figure size 1000x600 with 1 Axes>"
      ]
     },
     "metadata": {},
     "output_type": "display_data"
    }
   ],
   "source": [
    "# Write your code here. Add as many boxes as you need.\n",
    "import matplotlib.pyplot as plt\n",
    "\n",
    "# Extract loss and validation loss from the history object\n",
    "train_loss = history.history['loss']\n",
    "val_loss = history.history['val_loss']\n",
    "\n",
    "# Plot the training and validation loss\n",
    "plt.figure(figsize=(10, 6))\n",
    "plt.plot(train_loss, label='Training Loss', color='blue')\n",
    "plt.plot(val_loss, label='Validation Loss', color='red')\n",
    "plt.title('Training and Validation Loss Over Epochs')\n",
    "plt.xlabel('Epochs')\n",
    "plt.ylabel('Loss')\n",
    "plt.legend()\n",
    "plt.grid(True)\n",
    "plt.show()"
   ]
  },
  {
   "cell_type": "markdown",
   "metadata": {
    "id": "gyXZwAVab8Cp"
   },
   "source": [
    "Use the trained model to make predictions for the test set."
   ]
  },
  {
   "cell_type": "code",
   "execution_count": 46,
   "metadata": {
    "id": "EvMfVum6b_9b"
   },
   "outputs": [
    {
     "name": "stdout",
     "output_type": "stream",
     "text": [
      "311/311 [==============================] - 3s 6ms/step\n"
     ]
    }
   ],
   "source": [
    "# Write your code here. Add as many boxes as you need.\n",
    "y_pred = model.predict(X_test_reshaped)"
   ]
  },
  {
   "cell_type": "markdown",
   "metadata": {
    "id": "3VxAvDPtcNCh"
   },
   "source": [
    "Assess the performance of the model by using different metrics provided by the `scikit-learn` library."
   ]
  },
  {
   "cell_type": "code",
   "execution_count": 48,
   "metadata": {
    "id": "V4axpktycQhp"
   },
   "outputs": [],
   "source": [
    "# Write your code here. Add as many boxes as you need.\n",
    "from sklearn.metrics import mean_absolute_error, mean_squared_error, r2_score\n",
    "import numpy as np"
   ]
  },
  {
   "cell_type": "code",
   "execution_count": 49,
   "metadata": {},
   "outputs": [
    {
     "name": "stdout",
     "output_type": "stream",
     "text": [
      "Mean Absolute Error (MAE): 8597.289757813758\n",
      "Mean Squared Error (MSE): 74839204.11908562\n",
      "Root Mean Squared Error (RMSE): 8650.965502132443\n",
      "R-squared (R²): -53.962600458228124\n"
     ]
    }
   ],
   "source": [
    "mae = mean_absolute_error(Y_test, y_pred)\n",
    "mse = mean_squared_error(Y_test, y_pred)\n",
    "rmse = np.sqrt(mse)\n",
    "r2 = r2_score(Y_test, y_pred)\n",
    "\n",
    "print(f\"Mean Absolute Error (MAE): {mae}\")\n",
    "print(f\"Mean Squared Error (MSE): {mse}\")\n",
    "print(f\"Root Mean Squared Error (RMSE): {rmse}\")\n",
    "print(f\"R-squared (R²): {r2}\")"
   ]
  },
  {
   "cell_type": "markdown",
   "metadata": {
    "id": "X01Q7Pb9VOAI"
   },
   "source": [
    "Create a line plot in order to compare the actual and predicted mean temperatures for the test set."
   ]
  },
  {
   "cell_type": "code",
   "execution_count": 84,
   "metadata": {
    "id": "oeS852CkVPVJ"
   },
   "outputs": [
    {
     "data": {
      "image/png": "[encoded data removed]",
      "text/plain": [
       "<Figure size 1000x600 with 1 Axes>"
      ]
     },
     "metadata": {},
     "output_type": "display_data"
    }
   ],
   "source": [
    "# Write your code here. Add as many boxes as you need.\n",
    "import matplotlib.pyplot as plt\n",
    "\n",
    "# Assuming y_pred contains the model's predictions and Y_test contains the true values\n",
    "# Plot actual vs predicted temperatures\n",
    "plt.figure(figsize=(10,6))\n",
    "\n",
    "# Plotting actual temperatures (Y_test)\n",
    "plt.plot(Y_test.index, Y_test, label=\"Actual Temperatures\", color='blue', linewidth=2)\n",
    "\n",
    "# Plotting predicted temperatures (y_pred)\n",
    "plt.plot(Y_test.index, y_pred, label=\"Predicted Temperatures\", color='red', linestyle='--', linewidth=2)\n",
    "\n",
    "# Adding titles and labels\n",
    "plt.title(\"Actual vs Predicted Mean Temperatures\", fontsize=16)\n",
    "plt.xlabel(\"Time\", fontsize=14)\n",
    "plt.ylabel(\"Temperature\", fontsize=14)\n",
    "\n",
    "# Adding a legend\n",
    "plt.legend()\n",
    "\n",
    "# Display the plot\n",
    "plt.show()"
   ]
  },
  {
   "cell_type": "code",
   "execution_count": null,
   "metadata": {},
   "outputs": [],
   "source": []
  }
 ],
 "metadata": {
  "accelerator": "GPU",
  "colab": {
   "gpuType": "T4",
   "provenance": []
  },
  "kernelspec": {
   "display_name": "myenv",
   "language": "python",
   "name": "myenv"
  },
  "language_info": {
   "codemirror_mode": {
    "name": "ipython",
    "version": 3
   },
   "file_extension": ".py",
   "mimetype": "text/x-python",
   "name": "python",
   "nbconvert_exporter": "python",
   "pygments_lexer": "ipython3",
   "version": "3.10.13"
  }
 },
 "nbformat": 4,
 "nbformat_minor": 4
}
