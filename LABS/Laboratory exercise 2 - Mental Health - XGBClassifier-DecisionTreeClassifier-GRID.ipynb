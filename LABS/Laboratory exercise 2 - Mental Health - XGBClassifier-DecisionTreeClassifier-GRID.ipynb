{
 "cells": [
  {
   "cell_type": "markdown",
   "metadata": {
    "id": "rODb9vHvIEbp"
   },
   "source": [
    "# Requirements"
   ]
  },
  {
   "cell_type": "code",
   "execution_count": 2,
   "metadata": {
    "id": "U4KmHBd2cdx9"
   },
   "outputs": [],
   "source": [
    "# Add as many imports as you need.\n",
    "import pandas as pd\n",
    "import numpy as np\n",
    "from sklearn import metrics\n",
    "from xgboost import XGBClassifier\n",
    "from sklearn.impute import SimpleImputer\n",
    "from sklearn.impute import KNNImputer\n",
    "from sklearn.preprocessing import LabelEncoder\n",
    "from sklearn.tree import DecisionTreeClassifier\n",
    "from sklearn.model_selection import train_test_split\n",
    "from sklearn.metrics import classification_report, confusion_matrix\n",
    "import missingno as msno"
   ]
  },
  {
   "cell_type": "code",
   "execution_count": null,
   "metadata": {},
   "outputs": [],
   "source": []
  },
  {
   "cell_type": "markdown",
   "metadata": {
    "id": "KNMMoUiUIW3L"
   },
   "source": [
    "# Laboratory Exercise - Run Mode (8 points)"
   ]
  },
  {
   "cell_type": "markdown",
   "metadata": {
    "id": "zBYI-EypaWom"
   },
   "source": [
    "## The Mental Health Diagnosis and Treatment Monitoring Dataset\n",
    "The dataset contains information on 500 individuals, focusing on mental health diagnoses, treatment plans, and outcomes. Key features include patient demographics such as age and gender, as well as specific mental health conditions (e.g., anxiety, depression, etc.). The dataset also captures symptom severity, mood scores, sleep quality, and stress levels, all rated on a scale of 1 to 10, providing insight into the patient's mental and physical well-being. Additionally, it includes details on treatment plans, including prescribed medications (e.g., SSRIs, antidepressants, etc.), therapy types (e.g., CBT, DBT, etc.), and treatment duration. Progress tracking is also incorporated, with ratings for treatment progress and AI-detected emotional state, alongside adherence to the treatment plan. The 'outcome' attribute, which indicates whether the treatment was improved, deteriorated, or unaffected, serves as the target variable for the analysis, while the remaining attributes can be used to explore and model the factors affecting mental health treatment outcomes."
   ]
  },
  {
   "cell_type": "markdown",
   "metadata": {
    "id": "DCm1qm1mZwMr"
   },
   "source": [
    "Load the dataset into a `pandas` data frame."
   ]
  },
  {
   "cell_type": "code",
   "execution_count": 6,
   "metadata": {
    "id": "KMOn4fgcZn8s"
   },
   "outputs": [],
   "source": [
    "# Write your code here. Add as many boxes as you need.\n",
    "data = pd.read_csv('mental_health_diagnosis_treatment_data.csv')"
   ]
  },
  {
   "cell_type": "markdown",
   "metadata": {
    "id": "7yVjyyL-SENC"
   },
   "source": [
    "Preprocess the input and the output variables appropriately."
   ]
  },
  {
   "cell_type": "code",
   "execution_count": 8,
   "metadata": {
    "id": "VFMBXEUkSD5V"
   },
   "outputs": [
    {
     "data": {
      "text/html": [
       "<div>\n",
       "<style scoped>\n",
       "    .dataframe tbody tr th:only-of-type {\n",
       "        vertical-align: middle;\n",
       "    }\n",
       "\n",
       "    .dataframe tbody tr th {\n",
       "        vertical-align: top;\n",
       "    }\n",
       "\n",
       "    .dataframe thead th {\n",
       "        text-align: right;\n",
       "    }\n",
       "</style>\n",
       "<table border=\"1\" class=\"dataframe\">\n",
       "  <thead>\n",
       "    <tr style=\"text-align: right;\">\n",
       "      <th></th>\n",
       "      <th>Patient ID</th>\n",
       "      <th>Age</th>\n",
       "      <th>Gender</th>\n",
       "      <th>Diagnosis</th>\n",
       "      <th>Symptom Severity (1-10)</th>\n",
       "      <th>Mood Score (1-10)</th>\n",
       "      <th>Sleep Quality (1-10)</th>\n",
       "      <th>Physical Activity (hrs/week)</th>\n",
       "      <th>Medication</th>\n",
       "      <th>Therapy Type</th>\n",
       "      <th>Treatment Start Date</th>\n",
       "      <th>Treatment Duration (weeks)</th>\n",
       "      <th>Stress Level (1-10)</th>\n",
       "      <th>Outcome</th>\n",
       "      <th>Treatment Progress (1-10)</th>\n",
       "      <th>AI-Detected Emotional State</th>\n",
       "      <th>Adherence to Treatment (%)</th>\n",
       "    </tr>\n",
       "  </thead>\n",
       "  <tbody>\n",
       "    <tr>\n",
       "      <th>127</th>\n",
       "      <td>128</td>\n",
       "      <td>53.0</td>\n",
       "      <td>Male</td>\n",
       "      <td>Major Depressive Disorder</td>\n",
       "      <td>5</td>\n",
       "      <td>3</td>\n",
       "      <td>8</td>\n",
       "      <td>5.0</td>\n",
       "      <td>Antipsychotics</td>\n",
       "      <td>Cognitive Behavioral Therapy</td>\n",
       "      <td>2024-04-03</td>\n",
       "      <td>9</td>\n",
       "      <td>8.0</td>\n",
       "      <td>No Change</td>\n",
       "      <td>7</td>\n",
       "      <td>Depressed</td>\n",
       "      <td>71</td>\n",
       "    </tr>\n",
       "    <tr>\n",
       "      <th>126</th>\n",
       "      <td>127</td>\n",
       "      <td>47.0</td>\n",
       "      <td>Female</td>\n",
       "      <td>Bipolar Disorder</td>\n",
       "      <td>10</td>\n",
       "      <td>4</td>\n",
       "      <td>9</td>\n",
       "      <td>6.0</td>\n",
       "      <td>Antipsychotics</td>\n",
       "      <td>Interpersonal Therapy</td>\n",
       "      <td>2024-01-28</td>\n",
       "      <td>11</td>\n",
       "      <td>5.0</td>\n",
       "      <td>No Change</td>\n",
       "      <td>5</td>\n",
       "      <td>Neutral</td>\n",
       "      <td>65</td>\n",
       "    </tr>\n",
       "    <tr>\n",
       "      <th>494</th>\n",
       "      <td>495</td>\n",
       "      <td>19.0</td>\n",
       "      <td>Male</td>\n",
       "      <td>Major Depressive Disorder</td>\n",
       "      <td>8</td>\n",
       "      <td>5</td>\n",
       "      <td>5</td>\n",
       "      <td>2.0</td>\n",
       "      <td>SSRIs</td>\n",
       "      <td>Dialectical Behavioral Therapy</td>\n",
       "      <td>2024-02-05</td>\n",
       "      <td>14</td>\n",
       "      <td>NaN</td>\n",
       "      <td>Improved</td>\n",
       "      <td>10</td>\n",
       "      <td>Stressed</td>\n",
       "      <td>70</td>\n",
       "    </tr>\n",
       "    <tr>\n",
       "      <th>267</th>\n",
       "      <td>268</td>\n",
       "      <td>52.0</td>\n",
       "      <td>Female</td>\n",
       "      <td>Panic Disorder</td>\n",
       "      <td>8</td>\n",
       "      <td>6</td>\n",
       "      <td>4</td>\n",
       "      <td>3.0</td>\n",
       "      <td>Anxiolytics</td>\n",
       "      <td>Cognitive Behavioral Therapy</td>\n",
       "      <td>2024-04-09</td>\n",
       "      <td>13</td>\n",
       "      <td>10.0</td>\n",
       "      <td>Improved</td>\n",
       "      <td>9</td>\n",
       "      <td>Happy</td>\n",
       "      <td>77</td>\n",
       "    </tr>\n",
       "    <tr>\n",
       "      <th>35</th>\n",
       "      <td>36</td>\n",
       "      <td>53.0</td>\n",
       "      <td>Male</td>\n",
       "      <td>Bipolar Disorder</td>\n",
       "      <td>10</td>\n",
       "      <td>6</td>\n",
       "      <td>5</td>\n",
       "      <td>7.0</td>\n",
       "      <td>Mood Stabilizers</td>\n",
       "      <td>Cognitive Behavioral Therapy</td>\n",
       "      <td>2024-01-08</td>\n",
       "      <td>11</td>\n",
       "      <td>9.0</td>\n",
       "      <td>Deteriorated</td>\n",
       "      <td>7</td>\n",
       "      <td>Depressed</td>\n",
       "      <td>68</td>\n",
       "    </tr>\n",
       "    <tr>\n",
       "      <th>421</th>\n",
       "      <td>422</td>\n",
       "      <td>20.0</td>\n",
       "      <td>Female</td>\n",
       "      <td>Major Depressive Disorder</td>\n",
       "      <td>10</td>\n",
       "      <td>8</td>\n",
       "      <td>4</td>\n",
       "      <td>4.0</td>\n",
       "      <td>Antipsychotics</td>\n",
       "      <td>Interpersonal Therapy</td>\n",
       "      <td>2024-03-09</td>\n",
       "      <td>8</td>\n",
       "      <td>7.0</td>\n",
       "      <td>No Change</td>\n",
       "      <td>8</td>\n",
       "      <td>Anxious</td>\n",
       "      <td>83</td>\n",
       "    </tr>\n",
       "    <tr>\n",
       "      <th>410</th>\n",
       "      <td>411</td>\n",
       "      <td>51.0</td>\n",
       "      <td>Female</td>\n",
       "      <td>Major Depressive Disorder</td>\n",
       "      <td>9</td>\n",
       "      <td>5</td>\n",
       "      <td>8</td>\n",
       "      <td>1.0</td>\n",
       "      <td>Antidepressants</td>\n",
       "      <td>Cognitive Behavioral Therapy</td>\n",
       "      <td>2024-03-27</td>\n",
       "      <td>10</td>\n",
       "      <td>NaN</td>\n",
       "      <td>Deteriorated</td>\n",
       "      <td>6</td>\n",
       "      <td>Depressed</td>\n",
       "      <td>66</td>\n",
       "    </tr>\n",
       "    <tr>\n",
       "      <th>220</th>\n",
       "      <td>221</td>\n",
       "      <td>40.0</td>\n",
       "      <td>Male</td>\n",
       "      <td>Generalized Anxiety</td>\n",
       "      <td>5</td>\n",
       "      <td>3</td>\n",
       "      <td>7</td>\n",
       "      <td>4.0</td>\n",
       "      <td>Mood Stabilizers</td>\n",
       "      <td>Interpersonal Therapy</td>\n",
       "      <td>2024-01-21</td>\n",
       "      <td>9</td>\n",
       "      <td>8.0</td>\n",
       "      <td>Improved</td>\n",
       "      <td>9</td>\n",
       "      <td>Anxious</td>\n",
       "      <td>65</td>\n",
       "    </tr>\n",
       "    <tr>\n",
       "      <th>210</th>\n",
       "      <td>211</td>\n",
       "      <td>46.0</td>\n",
       "      <td>Female</td>\n",
       "      <td>Bipolar Disorder</td>\n",
       "      <td>6</td>\n",
       "      <td>5</td>\n",
       "      <td>7</td>\n",
       "      <td>8.0</td>\n",
       "      <td>SSRIs</td>\n",
       "      <td>Cognitive Behavioral Therapy</td>\n",
       "      <td>2024-03-24</td>\n",
       "      <td>14</td>\n",
       "      <td>9.0</td>\n",
       "      <td>No Change</td>\n",
       "      <td>8</td>\n",
       "      <td>Anxious</td>\n",
       "      <td>82</td>\n",
       "    </tr>\n",
       "    <tr>\n",
       "      <th>57</th>\n",
       "      <td>58</td>\n",
       "      <td>31.0</td>\n",
       "      <td>Male</td>\n",
       "      <td>Major Depressive Disorder</td>\n",
       "      <td>6</td>\n",
       "      <td>5</td>\n",
       "      <td>4</td>\n",
       "      <td>5.0</td>\n",
       "      <td>Antidepressants</td>\n",
       "      <td>Interpersonal Therapy</td>\n",
       "      <td>2024-02-11</td>\n",
       "      <td>10</td>\n",
       "      <td>7.0</td>\n",
       "      <td>No Change</td>\n",
       "      <td>7</td>\n",
       "      <td>Stressed</td>\n",
       "      <td>83</td>\n",
       "    </tr>\n",
       "  </tbody>\n",
       "</table>\n",
       "</div>"
      ],
      "text/plain": [
       "     Patient ID   Age  Gender                  Diagnosis  \\\n",
       "127         128  53.0    Male  Major Depressive Disorder   \n",
       "126         127  47.0  Female           Bipolar Disorder   \n",
       "494         495  19.0    Male  Major Depressive Disorder   \n",
       "267         268  52.0  Female             Panic Disorder   \n",
       "35           36  53.0    Male           Bipolar Disorder   \n",
       "421         422  20.0  Female  Major Depressive Disorder   \n",
       "410         411  51.0  Female  Major Depressive Disorder   \n",
       "220         221  40.0    Male        Generalized Anxiety   \n",
       "210         211  46.0  Female           Bipolar Disorder   \n",
       "57           58  31.0    Male  Major Depressive Disorder   \n",
       "\n",
       "     Symptom Severity (1-10)  Mood Score (1-10)  Sleep Quality (1-10)  \\\n",
       "127                        5                  3                     8   \n",
       "126                       10                  4                     9   \n",
       "494                        8                  5                     5   \n",
       "267                        8                  6                     4   \n",
       "35                        10                  6                     5   \n",
       "421                       10                  8                     4   \n",
       "410                        9                  5                     8   \n",
       "220                        5                  3                     7   \n",
       "210                        6                  5                     7   \n",
       "57                         6                  5                     4   \n",
       "\n",
       "     Physical Activity (hrs/week)        Medication  \\\n",
       "127                           5.0    Antipsychotics   \n",
       "126                           6.0    Antipsychotics   \n",
       "494                           2.0             SSRIs   \n",
       "267                           3.0       Anxiolytics   \n",
       "35                            7.0  Mood Stabilizers   \n",
       "421                           4.0    Antipsychotics   \n",
       "410                           1.0   Antidepressants   \n",
       "220                           4.0  Mood Stabilizers   \n",
       "210                           8.0             SSRIs   \n",
       "57                            5.0   Antidepressants   \n",
       "\n",
       "                       Therapy Type Treatment Start Date  \\\n",
       "127    Cognitive Behavioral Therapy           2024-04-03   \n",
       "126           Interpersonal Therapy           2024-01-28   \n",
       "494  Dialectical Behavioral Therapy           2024-02-05   \n",
       "267    Cognitive Behavioral Therapy           2024-04-09   \n",
       "35     Cognitive Behavioral Therapy           2024-01-08   \n",
       "421           Interpersonal Therapy           2024-03-09   \n",
       "410    Cognitive Behavioral Therapy           2024-03-27   \n",
       "220           Interpersonal Therapy           2024-01-21   \n",
       "210    Cognitive Behavioral Therapy           2024-03-24   \n",
       "57            Interpersonal Therapy           2024-02-11   \n",
       "\n",
       "     Treatment Duration (weeks)  Stress Level (1-10)       Outcome  \\\n",
       "127                           9                  8.0     No Change   \n",
       "126                          11                  5.0     No Change   \n",
       "494                          14                  NaN      Improved   \n",
       "267                          13                 10.0      Improved   \n",
       "35                           11                  9.0  Deteriorated   \n",
       "421                           8                  7.0     No Change   \n",
       "410                          10                  NaN  Deteriorated   \n",
       "220                           9                  8.0      Improved   \n",
       "210                          14                  9.0     No Change   \n",
       "57                           10                  7.0     No Change   \n",
       "\n",
       "     Treatment Progress (1-10) AI-Detected Emotional State  \\\n",
       "127                          7                   Depressed   \n",
       "126                          5                     Neutral   \n",
       "494                         10                    Stressed   \n",
       "267                          9                       Happy   \n",
       "35                           7                   Depressed   \n",
       "421                          8                     Anxious   \n",
       "410                          6                   Depressed   \n",
       "220                          9                     Anxious   \n",
       "210                          8                     Anxious   \n",
       "57                           7                    Stressed   \n",
       "\n",
       "     Adherence to Treatment (%)  \n",
       "127                          71  \n",
       "126                          65  \n",
       "494                          70  \n",
       "267                          77  \n",
       "35                           68  \n",
       "421                          83  \n",
       "410                          66  \n",
       "220                          65  \n",
       "210                          82  \n",
       "57                           83  "
      ]
     },
     "execution_count": 8,
     "metadata": {},
     "output_type": "execute_result"
    }
   ],
   "source": [
    "# Write your code here. Add as many boxes as you need.\n",
    "data.sample(10)"
   ]
  },
  {
   "cell_type": "markdown",
   "metadata": {
    "id": "5slwyyhCKRo9"
   },
   "source": [
    "Explore the dataset using visualizations of your choice."
   ]
  },
  {
   "cell_type": "code",
   "execution_count": 10,
   "metadata": {
    "id": "DFY6TKhGKOY4"
   },
   "outputs": [
    {
     "data": {
      "text/plain": [
       "<Axes: >"
      ]
     },
     "execution_count": 10,
     "metadata": {},
     "output_type": "execute_result"
    },
    {
     "data": {
      "image/png": "[encoded data removed]",
      "text/plain": [
       "<Figure size 2000x1200 with 2 Axes>"
      ]
     },
     "metadata": {},
     "output_type": "display_data"
    }
   ],
   "source": [
    "# Write your code here. Add as many boxes as you need.\n",
    "msno.heatmap(data)"
   ]
  },
  {
   "cell_type": "markdown",
   "metadata": {
    "id": "aHu0QDOtM-mK"
   },
   "source": [
    "Check if the dataset is balanced."
   ]
  },
  {
   "cell_type": "code",
   "execution_count": 12,
   "metadata": {
    "id": "y-gl5hyJM_vG"
   },
   "outputs": [
    {
     "data": {
      "text/plain": [
       "Outcome\n",
       "Deteriorated    171\n",
       "Improved        170\n",
       "No Change       159\n",
       "Name: count, dtype: int64"
      ]
     },
     "execution_count": 12,
     "metadata": {},
     "output_type": "execute_result"
    }
   ],
   "source": [
    "# Write your code here. Add as many boxes as you need.\n",
    "data['Outcome'].value_counts()"
   ]
  },
  {
   "cell_type": "markdown",
   "metadata": {
    "id": "KwGjJs4rLi0P"
   },
   "source": [
    "## Detecting Missing Values\n",
    "Calculate the percentage of missing values present in each column of the dataset."
   ]
  },
  {
   "cell_type": "code",
   "execution_count": 14,
   "metadata": {
    "id": "L1l_JV-nL3ND"
   },
   "outputs": [
    {
     "data": {
      "text/plain": [
       "Patient ID                        0\n",
       "Age                              25\n",
       "Gender                            0\n",
       "Diagnosis                         0\n",
       "Symptom Severity (1-10)           0\n",
       "Mood Score (1-10)                 0\n",
       "Sleep Quality (1-10)              0\n",
       "Physical Activity (hrs/week)     50\n",
       "Medication                        0\n",
       "Therapy Type                      0\n",
       "Treatment Start Date              0\n",
       "Treatment Duration (weeks)        0\n",
       "Stress Level (1-10)             100\n",
       "Outcome                           0\n",
       "Treatment Progress (1-10)         0\n",
       "AI-Detected Emotional State       0\n",
       "Adherence to Treatment (%)        0\n",
       "dtype: int64"
      ]
     },
     "execution_count": 14,
     "metadata": {},
     "output_type": "execute_result"
    }
   ],
   "source": [
    "# Write your code here. Add as many boxes as you need.\n",
    "data.isnull().sum()"
   ]
  },
  {
   "cell_type": "code",
   "execution_count": 15,
   "metadata": {},
   "outputs": [
    {
     "data": {
      "text/plain": [
       "Patient ID                       0.0\n",
       "Age                              5.0\n",
       "Gender                           0.0\n",
       "Diagnosis                        0.0\n",
       "Symptom Severity (1-10)          0.0\n",
       "Mood Score (1-10)                0.0\n",
       "Sleep Quality (1-10)             0.0\n",
       "Physical Activity (hrs/week)    10.0\n",
       "Medication                       0.0\n",
       "Therapy Type                     0.0\n",
       "Treatment Start Date             0.0\n",
       "Treatment Duration (weeks)       0.0\n",
       "Stress Level (1-10)             20.0\n",
       "Outcome                          0.0\n",
       "Treatment Progress (1-10)        0.0\n",
       "AI-Detected Emotional State      0.0\n",
       "Adherence to Treatment (%)       0.0\n",
       "dtype: float64"
      ]
     },
     "execution_count": 15,
     "metadata": {},
     "output_type": "execute_result"
    }
   ],
   "source": [
    "percent = data.isnull().sum() / len(data) * 100\n",
    "percent"
   ]
  },
  {
   "cell_type": "markdown",
   "metadata": {
    "id": "_5n7SWKfL46j"
   },
   "source": [
    "## Understanding the Causes Behind Missing Values\n",
    "Using visualization tools such as heatmaps, and dendrograms, illustrate the interdependence between attributes with missing values. Also, visualize the distribution of the missing values within the dataset using matrices and bar charts."
   ]
  },
  {
   "cell_type": "code",
   "execution_count": 17,
   "metadata": {
    "id": "Wa7uzbI5L4kL"
   },
   "outputs": [],
   "source": [
    "# Write your code here. Add as many boxes as you need."
   ]
  },
  {
   "cell_type": "markdown",
   "metadata": {
    "id": "99Gjo6KhMKqt"
   },
   "source": [
    "## Handling the Missing Values\n",
    "Handle the missing values using suitable method based on the insights obtained from the various visualizations."
   ]
  },
  {
   "cell_type": "code",
   "execution_count": 19,
   "metadata": {
    "id": "urmTiMn2MKgV"
   },
   "outputs": [
    {
     "data": {
      "text/html": [
       "<div>\n",
       "<style scoped>\n",
       "    .dataframe tbody tr th:only-of-type {\n",
       "        vertical-align: middle;\n",
       "    }\n",
       "\n",
       "    .dataframe tbody tr th {\n",
       "        vertical-align: top;\n",
       "    }\n",
       "\n",
       "    .dataframe thead th {\n",
       "        text-align: right;\n",
       "    }\n",
       "</style>\n",
       "<table border=\"1\" class=\"dataframe\">\n",
       "  <thead>\n",
       "    <tr style=\"text-align: right;\">\n",
       "      <th></th>\n",
       "      <th>Age</th>\n",
       "      <th>Gender</th>\n",
       "      <th>Diagnosis</th>\n",
       "      <th>Symptom Severity (1-10)</th>\n",
       "      <th>Mood Score (1-10)</th>\n",
       "      <th>Sleep Quality (1-10)</th>\n",
       "      <th>Physical Activity (hrs/week)</th>\n",
       "      <th>Medication</th>\n",
       "      <th>Therapy Type</th>\n",
       "      <th>Treatment Start Date</th>\n",
       "      <th>Treatment Duration (weeks)</th>\n",
       "      <th>Stress Level (1-10)</th>\n",
       "      <th>Outcome</th>\n",
       "      <th>Treatment Progress (1-10)</th>\n",
       "      <th>AI-Detected Emotional State</th>\n",
       "      <th>Adherence to Treatment (%)</th>\n",
       "    </tr>\n",
       "  </thead>\n",
       "  <tbody>\n",
       "    <tr>\n",
       "      <th>0</th>\n",
       "      <td>43.0</td>\n",
       "      <td>Female</td>\n",
       "      <td>Major Depressive Disorder</td>\n",
       "      <td>10</td>\n",
       "      <td>5</td>\n",
       "      <td>8</td>\n",
       "      <td>NaN</td>\n",
       "      <td>Mood Stabilizers</td>\n",
       "      <td>Interpersonal Therapy</td>\n",
       "      <td>2024-01-25</td>\n",
       "      <td>11</td>\n",
       "      <td>NaN</td>\n",
       "      <td>Deteriorated</td>\n",
       "      <td>7</td>\n",
       "      <td>Anxious</td>\n",
       "      <td>66</td>\n",
       "    </tr>\n",
       "    <tr>\n",
       "      <th>1</th>\n",
       "      <td>40.0</td>\n",
       "      <td>Female</td>\n",
       "      <td>Major Depressive Disorder</td>\n",
       "      <td>9</td>\n",
       "      <td>5</td>\n",
       "      <td>4</td>\n",
       "      <td>7.0</td>\n",
       "      <td>Antipsychotics</td>\n",
       "      <td>Interpersonal Therapy</td>\n",
       "      <td>2024-02-27</td>\n",
       "      <td>11</td>\n",
       "      <td>7.0</td>\n",
       "      <td>No Change</td>\n",
       "      <td>7</td>\n",
       "      <td>Neutral</td>\n",
       "      <td>78</td>\n",
       "    </tr>\n",
       "    <tr>\n",
       "      <th>2</th>\n",
       "      <td>55.0</td>\n",
       "      <td>Female</td>\n",
       "      <td>Major Depressive Disorder</td>\n",
       "      <td>6</td>\n",
       "      <td>3</td>\n",
       "      <td>4</td>\n",
       "      <td>NaN</td>\n",
       "      <td>SSRIs</td>\n",
       "      <td>Mindfulness-Based Therapy</td>\n",
       "      <td>2024-03-20</td>\n",
       "      <td>14</td>\n",
       "      <td>NaN</td>\n",
       "      <td>Deteriorated</td>\n",
       "      <td>5</td>\n",
       "      <td>Happy</td>\n",
       "      <td>62</td>\n",
       "    </tr>\n",
       "    <tr>\n",
       "      <th>3</th>\n",
       "      <td>34.0</td>\n",
       "      <td>Female</td>\n",
       "      <td>Major Depressive Disorder</td>\n",
       "      <td>6</td>\n",
       "      <td>3</td>\n",
       "      <td>6</td>\n",
       "      <td>5.0</td>\n",
       "      <td>SSRIs</td>\n",
       "      <td>Mindfulness-Based Therapy</td>\n",
       "      <td>2024-03-29</td>\n",
       "      <td>8</td>\n",
       "      <td>8.0</td>\n",
       "      <td>Deteriorated</td>\n",
       "      <td>10</td>\n",
       "      <td>Excited</td>\n",
       "      <td>72</td>\n",
       "    </tr>\n",
       "    <tr>\n",
       "      <th>4</th>\n",
       "      <td>52.0</td>\n",
       "      <td>Male</td>\n",
       "      <td>Panic Disorder</td>\n",
       "      <td>7</td>\n",
       "      <td>6</td>\n",
       "      <td>6</td>\n",
       "      <td>8.0</td>\n",
       "      <td>Anxiolytics</td>\n",
       "      <td>Interpersonal Therapy</td>\n",
       "      <td>2024-03-18</td>\n",
       "      <td>12</td>\n",
       "      <td>5.0</td>\n",
       "      <td>Deteriorated</td>\n",
       "      <td>6</td>\n",
       "      <td>Excited</td>\n",
       "      <td>63</td>\n",
       "    </tr>\n",
       "  </tbody>\n",
       "</table>\n",
       "</div>"
      ],
      "text/plain": [
       "    Age  Gender                  Diagnosis  Symptom Severity (1-10)  \\\n",
       "0  43.0  Female  Major Depressive Disorder                       10   \n",
       "1  40.0  Female  Major Depressive Disorder                        9   \n",
       "2  55.0  Female  Major Depressive Disorder                        6   \n",
       "3  34.0  Female  Major Depressive Disorder                        6   \n",
       "4  52.0    Male             Panic Disorder                        7   \n",
       "\n",
       "   Mood Score (1-10)  Sleep Quality (1-10)  Physical Activity (hrs/week)  \\\n",
       "0                  5                     8                           NaN   \n",
       "1                  5                     4                           7.0   \n",
       "2                  3                     4                           NaN   \n",
       "3                  3                     6                           5.0   \n",
       "4                  6                     6                           8.0   \n",
       "\n",
       "         Medication               Therapy Type Treatment Start Date  \\\n",
       "0  Mood Stabilizers      Interpersonal Therapy           2024-01-25   \n",
       "1    Antipsychotics      Interpersonal Therapy           2024-02-27   \n",
       "2             SSRIs  Mindfulness-Based Therapy           2024-03-20   \n",
       "3             SSRIs  Mindfulness-Based Therapy           2024-03-29   \n",
       "4       Anxiolytics      Interpersonal Therapy           2024-03-18   \n",
       "\n",
       "   Treatment Duration (weeks)  Stress Level (1-10)       Outcome  \\\n",
       "0                          11                  NaN  Deteriorated   \n",
       "1                          11                  7.0     No Change   \n",
       "2                          14                  NaN  Deteriorated   \n",
       "3                           8                  8.0  Deteriorated   \n",
       "4                          12                  5.0  Deteriorated   \n",
       "\n",
       "   Treatment Progress (1-10) AI-Detected Emotional State  \\\n",
       "0                          7                     Anxious   \n",
       "1                          7                     Neutral   \n",
       "2                          5                       Happy   \n",
       "3                         10                     Excited   \n",
       "4                          6                     Excited   \n",
       "\n",
       "   Adherence to Treatment (%)  \n",
       "0                          66  \n",
       "1                          78  \n",
       "2                          62  \n",
       "3                          72  \n",
       "4                          63  "
      ]
     },
     "execution_count": 19,
     "metadata": {},
     "output_type": "execute_result"
    }
   ],
   "source": [
    "# Write your code here. Add as many boxes as you need.\n",
    "data.drop(['Patient ID'],axis=1,inplace=True)\n",
    "data.head()"
   ]
  },
  {
   "cell_type": "code",
   "execution_count": 20,
   "metadata": {},
   "outputs": [],
   "source": [
    "imp = SimpleImputer(strategy='mean')\n",
    "data['Age'] = imp.fit_transform(data[['Age']])\n"
   ]
  },
  {
   "cell_type": "code",
   "execution_count": null,
   "metadata": {},
   "outputs": [],
   "source": []
  },
  {
   "cell_type": "code",
   "execution_count": 21,
   "metadata": {},
   "outputs": [
    {
     "data": {
      "text/html": [
       "<div>\n",
       "<style scoped>\n",
       "    .dataframe tbody tr th:only-of-type {\n",
       "        vertical-align: middle;\n",
       "    }\n",
       "\n",
       "    .dataframe tbody tr th {\n",
       "        vertical-align: top;\n",
       "    }\n",
       "\n",
       "    .dataframe thead th {\n",
       "        text-align: right;\n",
       "    }\n",
       "</style>\n",
       "<table border=\"1\" class=\"dataframe\">\n",
       "  <thead>\n",
       "    <tr style=\"text-align: right;\">\n",
       "      <th></th>\n",
       "      <th>Age</th>\n",
       "      <th>Gender</th>\n",
       "      <th>Diagnosis</th>\n",
       "      <th>Symptom Severity (1-10)</th>\n",
       "      <th>Mood Score (1-10)</th>\n",
       "      <th>Sleep Quality (1-10)</th>\n",
       "      <th>Physical Activity (hrs/week)</th>\n",
       "      <th>Medication</th>\n",
       "      <th>Therapy Type</th>\n",
       "      <th>Treatment Start Date</th>\n",
       "      <th>Treatment Duration (weeks)</th>\n",
       "      <th>Stress Level (1-10)</th>\n",
       "      <th>Outcome</th>\n",
       "      <th>Treatment Progress (1-10)</th>\n",
       "      <th>AI-Detected Emotional State</th>\n",
       "      <th>Adherence to Treatment (%)</th>\n",
       "    </tr>\n",
       "  </thead>\n",
       "  <tbody>\n",
       "    <tr>\n",
       "      <th>264</th>\n",
       "      <td>26.000000</td>\n",
       "      <td>Female</td>\n",
       "      <td>Bipolar Disorder</td>\n",
       "      <td>7</td>\n",
       "      <td>7</td>\n",
       "      <td>8</td>\n",
       "      <td>3.0</td>\n",
       "      <td>Benzodiazepines</td>\n",
       "      <td>Mindfulness-Based Therapy</td>\n",
       "      <td>2024-03-18</td>\n",
       "      <td>11</td>\n",
       "      <td>5.0</td>\n",
       "      <td>Deteriorated</td>\n",
       "      <td>5</td>\n",
       "      <td>Excited</td>\n",
       "      <td>68</td>\n",
       "    </tr>\n",
       "    <tr>\n",
       "      <th>476</th>\n",
       "      <td>40.000000</td>\n",
       "      <td>Male</td>\n",
       "      <td>Panic Disorder</td>\n",
       "      <td>5</td>\n",
       "      <td>5</td>\n",
       "      <td>4</td>\n",
       "      <td>7.0</td>\n",
       "      <td>Benzodiazepines</td>\n",
       "      <td>Cognitive Behavioral Therapy</td>\n",
       "      <td>2024-02-12</td>\n",
       "      <td>8</td>\n",
       "      <td>8.0</td>\n",
       "      <td>Improved</td>\n",
       "      <td>6</td>\n",
       "      <td>Happy</td>\n",
       "      <td>67</td>\n",
       "    </tr>\n",
       "    <tr>\n",
       "      <th>237</th>\n",
       "      <td>18.000000</td>\n",
       "      <td>Male</td>\n",
       "      <td>Bipolar Disorder</td>\n",
       "      <td>9</td>\n",
       "      <td>4</td>\n",
       "      <td>4</td>\n",
       "      <td>7.0</td>\n",
       "      <td>SSRIs</td>\n",
       "      <td>Interpersonal Therapy</td>\n",
       "      <td>2024-03-14</td>\n",
       "      <td>12</td>\n",
       "      <td>6.0</td>\n",
       "      <td>Improved</td>\n",
       "      <td>7</td>\n",
       "      <td>Happy</td>\n",
       "      <td>83</td>\n",
       "    </tr>\n",
       "    <tr>\n",
       "      <th>128</th>\n",
       "      <td>31.000000</td>\n",
       "      <td>Male</td>\n",
       "      <td>Bipolar Disorder</td>\n",
       "      <td>6</td>\n",
       "      <td>3</td>\n",
       "      <td>4</td>\n",
       "      <td>9.0</td>\n",
       "      <td>Mood Stabilizers</td>\n",
       "      <td>Cognitive Behavioral Therapy</td>\n",
       "      <td>2024-01-24</td>\n",
       "      <td>16</td>\n",
       "      <td>10.0</td>\n",
       "      <td>Improved</td>\n",
       "      <td>8</td>\n",
       "      <td>Anxious</td>\n",
       "      <td>82</td>\n",
       "    </tr>\n",
       "    <tr>\n",
       "      <th>291</th>\n",
       "      <td>30.000000</td>\n",
       "      <td>Female</td>\n",
       "      <td>Panic Disorder</td>\n",
       "      <td>9</td>\n",
       "      <td>7</td>\n",
       "      <td>5</td>\n",
       "      <td>8.0</td>\n",
       "      <td>Anxiolytics</td>\n",
       "      <td>Interpersonal Therapy</td>\n",
       "      <td>2024-02-28</td>\n",
       "      <td>11</td>\n",
       "      <td>5.0</td>\n",
       "      <td>Improved</td>\n",
       "      <td>9</td>\n",
       "      <td>Neutral</td>\n",
       "      <td>86</td>\n",
       "    </tr>\n",
       "    <tr>\n",
       "      <th>397</th>\n",
       "      <td>23.000000</td>\n",
       "      <td>Male</td>\n",
       "      <td>Major Depressive Disorder</td>\n",
       "      <td>9</td>\n",
       "      <td>3</td>\n",
       "      <td>5</td>\n",
       "      <td>5.0</td>\n",
       "      <td>Antipsychotics</td>\n",
       "      <td>Interpersonal Therapy</td>\n",
       "      <td>2024-03-25</td>\n",
       "      <td>10</td>\n",
       "      <td>10.0</td>\n",
       "      <td>Improved</td>\n",
       "      <td>10</td>\n",
       "      <td>Stressed</td>\n",
       "      <td>67</td>\n",
       "    </tr>\n",
       "    <tr>\n",
       "      <th>338</th>\n",
       "      <td>48.000000</td>\n",
       "      <td>Male</td>\n",
       "      <td>Panic Disorder</td>\n",
       "      <td>7</td>\n",
       "      <td>7</td>\n",
       "      <td>8</td>\n",
       "      <td>3.0</td>\n",
       "      <td>Antidepressants</td>\n",
       "      <td>Mindfulness-Based Therapy</td>\n",
       "      <td>2024-01-07</td>\n",
       "      <td>15</td>\n",
       "      <td>10.0</td>\n",
       "      <td>Deteriorated</td>\n",
       "      <td>5</td>\n",
       "      <td>Excited</td>\n",
       "      <td>76</td>\n",
       "    </tr>\n",
       "    <tr>\n",
       "      <th>189</th>\n",
       "      <td>35.000000</td>\n",
       "      <td>Male</td>\n",
       "      <td>Major Depressive Disorder</td>\n",
       "      <td>7</td>\n",
       "      <td>8</td>\n",
       "      <td>8</td>\n",
       "      <td>10.0</td>\n",
       "      <td>SSRIs</td>\n",
       "      <td>Cognitive Behavioral Therapy</td>\n",
       "      <td>2024-02-23</td>\n",
       "      <td>13</td>\n",
       "      <td>7.0</td>\n",
       "      <td>No Change</td>\n",
       "      <td>6</td>\n",
       "      <td>Excited</td>\n",
       "      <td>65</td>\n",
       "    </tr>\n",
       "    <tr>\n",
       "      <th>365</th>\n",
       "      <td>40.000000</td>\n",
       "      <td>Male</td>\n",
       "      <td>Major Depressive Disorder</td>\n",
       "      <td>6</td>\n",
       "      <td>5</td>\n",
       "      <td>8</td>\n",
       "      <td>8.0</td>\n",
       "      <td>Antidepressants</td>\n",
       "      <td>Cognitive Behavioral Therapy</td>\n",
       "      <td>2024-03-24</td>\n",
       "      <td>12</td>\n",
       "      <td>10.0</td>\n",
       "      <td>Deteriorated</td>\n",
       "      <td>6</td>\n",
       "      <td>Anxious</td>\n",
       "      <td>90</td>\n",
       "    </tr>\n",
       "    <tr>\n",
       "      <th>481</th>\n",
       "      <td>36.000000</td>\n",
       "      <td>Female</td>\n",
       "      <td>Generalized Anxiety</td>\n",
       "      <td>5</td>\n",
       "      <td>3</td>\n",
       "      <td>5</td>\n",
       "      <td>10.0</td>\n",
       "      <td>Antipsychotics</td>\n",
       "      <td>Cognitive Behavioral Therapy</td>\n",
       "      <td>2024-02-22</td>\n",
       "      <td>14</td>\n",
       "      <td>6.0</td>\n",
       "      <td>Improved</td>\n",
       "      <td>5</td>\n",
       "      <td>Stressed</td>\n",
       "      <td>77</td>\n",
       "    </tr>\n",
       "    <tr>\n",
       "      <th>489</th>\n",
       "      <td>60.000000</td>\n",
       "      <td>Male</td>\n",
       "      <td>Bipolar Disorder</td>\n",
       "      <td>8</td>\n",
       "      <td>3</td>\n",
       "      <td>7</td>\n",
       "      <td>6.0</td>\n",
       "      <td>Benzodiazepines</td>\n",
       "      <td>Dialectical Behavioral Therapy</td>\n",
       "      <td>2024-02-08</td>\n",
       "      <td>10</td>\n",
       "      <td>9.0</td>\n",
       "      <td>Improved</td>\n",
       "      <td>8</td>\n",
       "      <td>Anxious</td>\n",
       "      <td>87</td>\n",
       "    </tr>\n",
       "    <tr>\n",
       "      <th>5</th>\n",
       "      <td>28.000000</td>\n",
       "      <td>Male</td>\n",
       "      <td>Panic Disorder</td>\n",
       "      <td>8</td>\n",
       "      <td>7</td>\n",
       "      <td>6</td>\n",
       "      <td>4.0</td>\n",
       "      <td>SSRIs</td>\n",
       "      <td>Cognitive Behavioral Therapy</td>\n",
       "      <td>2024-01-11</td>\n",
       "      <td>13</td>\n",
       "      <td>9.0</td>\n",
       "      <td>No Change</td>\n",
       "      <td>7</td>\n",
       "      <td>Stressed</td>\n",
       "      <td>82</td>\n",
       "    </tr>\n",
       "    <tr>\n",
       "      <th>215</th>\n",
       "      <td>21.000000</td>\n",
       "      <td>Female</td>\n",
       "      <td>Generalized Anxiety</td>\n",
       "      <td>7</td>\n",
       "      <td>4</td>\n",
       "      <td>7</td>\n",
       "      <td>8.0</td>\n",
       "      <td>Anxiolytics</td>\n",
       "      <td>Cognitive Behavioral Therapy</td>\n",
       "      <td>2024-01-13</td>\n",
       "      <td>8</td>\n",
       "      <td>8.0</td>\n",
       "      <td>No Change</td>\n",
       "      <td>8</td>\n",
       "      <td>Stressed</td>\n",
       "      <td>89</td>\n",
       "    </tr>\n",
       "    <tr>\n",
       "      <th>394</th>\n",
       "      <td>38.623158</td>\n",
       "      <td>Male</td>\n",
       "      <td>Panic Disorder</td>\n",
       "      <td>9</td>\n",
       "      <td>4</td>\n",
       "      <td>4</td>\n",
       "      <td>NaN</td>\n",
       "      <td>Antipsychotics</td>\n",
       "      <td>Interpersonal Therapy</td>\n",
       "      <td>2024-04-06</td>\n",
       "      <td>14</td>\n",
       "      <td>NaN</td>\n",
       "      <td>Deteriorated</td>\n",
       "      <td>6</td>\n",
       "      <td>Depressed</td>\n",
       "      <td>77</td>\n",
       "    </tr>\n",
       "    <tr>\n",
       "      <th>93</th>\n",
       "      <td>22.000000</td>\n",
       "      <td>Female</td>\n",
       "      <td>Bipolar Disorder</td>\n",
       "      <td>8</td>\n",
       "      <td>3</td>\n",
       "      <td>8</td>\n",
       "      <td>NaN</td>\n",
       "      <td>Antidepressants</td>\n",
       "      <td>Mindfulness-Based Therapy</td>\n",
       "      <td>2024-03-02</td>\n",
       "      <td>14</td>\n",
       "      <td>NaN</td>\n",
       "      <td>No Change</td>\n",
       "      <td>6</td>\n",
       "      <td>Stressed</td>\n",
       "      <td>75</td>\n",
       "    </tr>\n",
       "  </tbody>\n",
       "</table>\n",
       "</div>"
      ],
      "text/plain": [
       "           Age  Gender                  Diagnosis  Symptom Severity (1-10)  \\\n",
       "264  26.000000  Female           Bipolar Disorder                        7   \n",
       "476  40.000000    Male             Panic Disorder                        5   \n",
       "237  18.000000    Male           Bipolar Disorder                        9   \n",
       "128  31.000000    Male           Bipolar Disorder                        6   \n",
       "291  30.000000  Female             Panic Disorder                        9   \n",
       "397  23.000000    Male  Major Depressive Disorder                        9   \n",
       "338  48.000000    Male             Panic Disorder                        7   \n",
       "189  35.000000    Male  Major Depressive Disorder                        7   \n",
       "365  40.000000    Male  Major Depressive Disorder                        6   \n",
       "481  36.000000  Female        Generalized Anxiety                        5   \n",
       "489  60.000000    Male           Bipolar Disorder                        8   \n",
       "5    28.000000    Male             Panic Disorder                        8   \n",
       "215  21.000000  Female        Generalized Anxiety                        7   \n",
       "394  38.623158    Male             Panic Disorder                        9   \n",
       "93   22.000000  Female           Bipolar Disorder                        8   \n",
       "\n",
       "     Mood Score (1-10)  Sleep Quality (1-10)  Physical Activity (hrs/week)  \\\n",
       "264                  7                     8                           3.0   \n",
       "476                  5                     4                           7.0   \n",
       "237                  4                     4                           7.0   \n",
       "128                  3                     4                           9.0   \n",
       "291                  7                     5                           8.0   \n",
       "397                  3                     5                           5.0   \n",
       "338                  7                     8                           3.0   \n",
       "189                  8                     8                          10.0   \n",
       "365                  5                     8                           8.0   \n",
       "481                  3                     5                          10.0   \n",
       "489                  3                     7                           6.0   \n",
       "5                    7                     6                           4.0   \n",
       "215                  4                     7                           8.0   \n",
       "394                  4                     4                           NaN   \n",
       "93                   3                     8                           NaN   \n",
       "\n",
       "           Medication                    Therapy Type Treatment Start Date  \\\n",
       "264   Benzodiazepines       Mindfulness-Based Therapy           2024-03-18   \n",
       "476   Benzodiazepines    Cognitive Behavioral Therapy           2024-02-12   \n",
       "237             SSRIs           Interpersonal Therapy           2024-03-14   \n",
       "128  Mood Stabilizers    Cognitive Behavioral Therapy           2024-01-24   \n",
       "291       Anxiolytics           Interpersonal Therapy           2024-02-28   \n",
       "397    Antipsychotics           Interpersonal Therapy           2024-03-25   \n",
       "338   Antidepressants       Mindfulness-Based Therapy           2024-01-07   \n",
       "189             SSRIs    Cognitive Behavioral Therapy           2024-02-23   \n",
       "365   Antidepressants    Cognitive Behavioral Therapy           2024-03-24   \n",
       "481    Antipsychotics    Cognitive Behavioral Therapy           2024-02-22   \n",
       "489   Benzodiazepines  Dialectical Behavioral Therapy           2024-02-08   \n",
       "5               SSRIs    Cognitive Behavioral Therapy           2024-01-11   \n",
       "215       Anxiolytics    Cognitive Behavioral Therapy           2024-01-13   \n",
       "394    Antipsychotics           Interpersonal Therapy           2024-04-06   \n",
       "93    Antidepressants       Mindfulness-Based Therapy           2024-03-02   \n",
       "\n",
       "     Treatment Duration (weeks)  Stress Level (1-10)       Outcome  \\\n",
       "264                          11                  5.0  Deteriorated   \n",
       "476                           8                  8.0      Improved   \n",
       "237                          12                  6.0      Improved   \n",
       "128                          16                 10.0      Improved   \n",
       "291                          11                  5.0      Improved   \n",
       "397                          10                 10.0      Improved   \n",
       "338                          15                 10.0  Deteriorated   \n",
       "189                          13                  7.0     No Change   \n",
       "365                          12                 10.0  Deteriorated   \n",
       "481                          14                  6.0      Improved   \n",
       "489                          10                  9.0      Improved   \n",
       "5                            13                  9.0     No Change   \n",
       "215                           8                  8.0     No Change   \n",
       "394                          14                  NaN  Deteriorated   \n",
       "93                           14                  NaN     No Change   \n",
       "\n",
       "     Treatment Progress (1-10) AI-Detected Emotional State  \\\n",
       "264                          5                     Excited   \n",
       "476                          6                       Happy   \n",
       "237                          7                       Happy   \n",
       "128                          8                     Anxious   \n",
       "291                          9                     Neutral   \n",
       "397                         10                    Stressed   \n",
       "338                          5                     Excited   \n",
       "189                          6                     Excited   \n",
       "365                          6                     Anxious   \n",
       "481                          5                    Stressed   \n",
       "489                          8                     Anxious   \n",
       "5                            7                    Stressed   \n",
       "215                          8                    Stressed   \n",
       "394                          6                   Depressed   \n",
       "93                           6                    Stressed   \n",
       "\n",
       "     Adherence to Treatment (%)  \n",
       "264                          68  \n",
       "476                          67  \n",
       "237                          83  \n",
       "128                          82  \n",
       "291                          86  \n",
       "397                          67  \n",
       "338                          76  \n",
       "189                          65  \n",
       "365                          90  \n",
       "481                          77  \n",
       "489                          87  \n",
       "5                            82  \n",
       "215                          89  \n",
       "394                          77  \n",
       "93                           75  "
      ]
     },
     "execution_count": 21,
     "metadata": {},
     "output_type": "execute_result"
    }
   ],
   "source": [
    "data.sample(15)"
   ]
  },
  {
   "cell_type": "code",
   "execution_count": 22,
   "metadata": {},
   "outputs": [
    {
     "data": {
      "text/plain": [
       "Age                               0\n",
       "Gender                            0\n",
       "Diagnosis                         0\n",
       "Symptom Severity (1-10)           0\n",
       "Mood Score (1-10)                 0\n",
       "Sleep Quality (1-10)              0\n",
       "Physical Activity (hrs/week)     50\n",
       "Medication                        0\n",
       "Therapy Type                      0\n",
       "Treatment Start Date              0\n",
       "Treatment Duration (weeks)        0\n",
       "Stress Level (1-10)             100\n",
       "Outcome                           0\n",
       "Treatment Progress (1-10)         0\n",
       "AI-Detected Emotional State       0\n",
       "Adherence to Treatment (%)        0\n",
       "dtype: int64"
      ]
     },
     "execution_count": 22,
     "metadata": {},
     "output_type": "execute_result"
    }
   ],
   "source": [
    "data.isnull().sum()"
   ]
  },
  {
   "cell_type": "code",
   "execution_count": 23,
   "metadata": {},
   "outputs": [],
   "source": [
    "data['Physical Activity (hrs/week)'] = imp.fit_transform(data[['Physical Activity (hrs/week)']])"
   ]
  },
  {
   "cell_type": "code",
   "execution_count": 24,
   "metadata": {},
   "outputs": [
    {
     "data": {
      "text/plain": [
       "Age                               0\n",
       "Gender                            0\n",
       "Diagnosis                         0\n",
       "Symptom Severity (1-10)           0\n",
       "Mood Score (1-10)                 0\n",
       "Sleep Quality (1-10)              0\n",
       "Physical Activity (hrs/week)      0\n",
       "Medication                        0\n",
       "Therapy Type                      0\n",
       "Treatment Start Date              0\n",
       "Treatment Duration (weeks)        0\n",
       "Stress Level (1-10)             100\n",
       "Outcome                           0\n",
       "Treatment Progress (1-10)         0\n",
       "AI-Detected Emotional State       0\n",
       "Adherence to Treatment (%)        0\n",
       "dtype: int64"
      ]
     },
     "execution_count": 24,
     "metadata": {},
     "output_type": "execute_result"
    }
   ],
   "source": [
    "data.isnull().sum()"
   ]
  },
  {
   "cell_type": "code",
   "execution_count": 25,
   "metadata": {},
   "outputs": [],
   "source": [
    "imp = SimpleImputer(strategy='most_frequent')\n",
    "data['Stress Level (1-10)'] = imp.fit_transform(data[['Stress Level (1-10)']])"
   ]
  },
  {
   "cell_type": "code",
   "execution_count": 26,
   "metadata": {},
   "outputs": [
    {
     "data": {
      "text/plain": [
       "Age                             0\n",
       "Gender                          0\n",
       "Diagnosis                       0\n",
       "Symptom Severity (1-10)         0\n",
       "Mood Score (1-10)               0\n",
       "Sleep Quality (1-10)            0\n",
       "Physical Activity (hrs/week)    0\n",
       "Medication                      0\n",
       "Therapy Type                    0\n",
       "Treatment Start Date            0\n",
       "Treatment Duration (weeks)      0\n",
       "Stress Level (1-10)             0\n",
       "Outcome                         0\n",
       "Treatment Progress (1-10)       0\n",
       "AI-Detected Emotional State     0\n",
       "Adherence to Treatment (%)      0\n",
       "dtype: int64"
      ]
     },
     "execution_count": 26,
     "metadata": {},
     "output_type": "execute_result"
    }
   ],
   "source": [
    "data.isnull().sum()"
   ]
  },
  {
   "cell_type": "code",
   "execution_count": 27,
   "metadata": {},
   "outputs": [],
   "source": [
    "def label(data,columns):\n",
    "    enc = LabelEncoder()\n",
    "    data_copy = data.copy()\n",
    "\n",
    "    for c in columns:\n",
    "        data_copy[c] = enc.fit_transform(data_copy[[c]].astype(str).values.ravel())\n",
    "    return data_copy"
   ]
  },
  {
   "cell_type": "code",
   "execution_count": 28,
   "metadata": {},
   "outputs": [],
   "source": [
    "data = label(data=data,columns=['Gender','Diagnosis','Medication','Therapy Type','Outcome','AI-Detected Emotional State'])"
   ]
  },
  {
   "cell_type": "code",
   "execution_count": 29,
   "metadata": {},
   "outputs": [
    {
     "data": {
      "text/html": [
       "<div>\n",
       "<style scoped>\n",
       "    .dataframe tbody tr th:only-of-type {\n",
       "        vertical-align: middle;\n",
       "    }\n",
       "\n",
       "    .dataframe tbody tr th {\n",
       "        vertical-align: top;\n",
       "    }\n",
       "\n",
       "    .dataframe thead th {\n",
       "        text-align: right;\n",
       "    }\n",
       "</style>\n",
       "<table border=\"1\" class=\"dataframe\">\n",
       "  <thead>\n",
       "    <tr style=\"text-align: right;\">\n",
       "      <th></th>\n",
       "      <th>Age</th>\n",
       "      <th>Gender</th>\n",
       "      <th>Diagnosis</th>\n",
       "      <th>Symptom Severity (1-10)</th>\n",
       "      <th>Mood Score (1-10)</th>\n",
       "      <th>Sleep Quality (1-10)</th>\n",
       "      <th>Physical Activity (hrs/week)</th>\n",
       "      <th>Medication</th>\n",
       "      <th>Therapy Type</th>\n",
       "      <th>Treatment Start Date</th>\n",
       "      <th>Treatment Duration (weeks)</th>\n",
       "      <th>Stress Level (1-10)</th>\n",
       "      <th>Outcome</th>\n",
       "      <th>Treatment Progress (1-10)</th>\n",
       "      <th>AI-Detected Emotional State</th>\n",
       "      <th>Adherence to Treatment (%)</th>\n",
       "    </tr>\n",
       "  </thead>\n",
       "  <tbody>\n",
       "    <tr>\n",
       "      <th>0</th>\n",
       "      <td>43.0</td>\n",
       "      <td>0</td>\n",
       "      <td>2</td>\n",
       "      <td>10</td>\n",
       "      <td>5</td>\n",
       "      <td>8</td>\n",
       "      <td>5.275556</td>\n",
       "      <td>4</td>\n",
       "      <td>2</td>\n",
       "      <td>2024-01-25</td>\n",
       "      <td>11</td>\n",
       "      <td>9.0</td>\n",
       "      <td>0</td>\n",
       "      <td>7</td>\n",
       "      <td>0</td>\n",
       "      <td>66</td>\n",
       "    </tr>\n",
       "    <tr>\n",
       "      <th>1</th>\n",
       "      <td>40.0</td>\n",
       "      <td>0</td>\n",
       "      <td>2</td>\n",
       "      <td>9</td>\n",
       "      <td>5</td>\n",
       "      <td>4</td>\n",
       "      <td>7.000000</td>\n",
       "      <td>1</td>\n",
       "      <td>2</td>\n",
       "      <td>2024-02-27</td>\n",
       "      <td>11</td>\n",
       "      <td>7.0</td>\n",
       "      <td>2</td>\n",
       "      <td>7</td>\n",
       "      <td>4</td>\n",
       "      <td>78</td>\n",
       "    </tr>\n",
       "    <tr>\n",
       "      <th>2</th>\n",
       "      <td>55.0</td>\n",
       "      <td>0</td>\n",
       "      <td>2</td>\n",
       "      <td>6</td>\n",
       "      <td>3</td>\n",
       "      <td>4</td>\n",
       "      <td>5.275556</td>\n",
       "      <td>5</td>\n",
       "      <td>3</td>\n",
       "      <td>2024-03-20</td>\n",
       "      <td>14</td>\n",
       "      <td>9.0</td>\n",
       "      <td>0</td>\n",
       "      <td>5</td>\n",
       "      <td>3</td>\n",
       "      <td>62</td>\n",
       "    </tr>\n",
       "    <tr>\n",
       "      <th>3</th>\n",
       "      <td>34.0</td>\n",
       "      <td>0</td>\n",
       "      <td>2</td>\n",
       "      <td>6</td>\n",
       "      <td>3</td>\n",
       "      <td>6</td>\n",
       "      <td>5.000000</td>\n",
       "      <td>5</td>\n",
       "      <td>3</td>\n",
       "      <td>2024-03-29</td>\n",
       "      <td>8</td>\n",
       "      <td>8.0</td>\n",
       "      <td>0</td>\n",
       "      <td>10</td>\n",
       "      <td>2</td>\n",
       "      <td>72</td>\n",
       "    </tr>\n",
       "    <tr>\n",
       "      <th>4</th>\n",
       "      <td>52.0</td>\n",
       "      <td>1</td>\n",
       "      <td>3</td>\n",
       "      <td>7</td>\n",
       "      <td>6</td>\n",
       "      <td>6</td>\n",
       "      <td>8.000000</td>\n",
       "      <td>2</td>\n",
       "      <td>2</td>\n",
       "      <td>2024-03-18</td>\n",
       "      <td>12</td>\n",
       "      <td>5.0</td>\n",
       "      <td>0</td>\n",
       "      <td>6</td>\n",
       "      <td>2</td>\n",
       "      <td>63</td>\n",
       "    </tr>\n",
       "  </tbody>\n",
       "</table>\n",
       "</div>"
      ],
      "text/plain": [
       "    Age  Gender  Diagnosis  Symptom Severity (1-10)  Mood Score (1-10)  \\\n",
       "0  43.0       0          2                       10                  5   \n",
       "1  40.0       0          2                        9                  5   \n",
       "2  55.0       0          2                        6                  3   \n",
       "3  34.0       0          2                        6                  3   \n",
       "4  52.0       1          3                        7                  6   \n",
       "\n",
       "   Sleep Quality (1-10)  Physical Activity (hrs/week)  Medication  \\\n",
       "0                     8                      5.275556           4   \n",
       "1                     4                      7.000000           1   \n",
       "2                     4                      5.275556           5   \n",
       "3                     6                      5.000000           5   \n",
       "4                     6                      8.000000           2   \n",
       "\n",
       "   Therapy Type Treatment Start Date  Treatment Duration (weeks)  \\\n",
       "0             2           2024-01-25                          11   \n",
       "1             2           2024-02-27                          11   \n",
       "2             3           2024-03-20                          14   \n",
       "3             3           2024-03-29                           8   \n",
       "4             2           2024-03-18                          12   \n",
       "\n",
       "   Stress Level (1-10)  Outcome  Treatment Progress (1-10)  \\\n",
       "0                  9.0        0                          7   \n",
       "1                  7.0        2                          7   \n",
       "2                  9.0        0                          5   \n",
       "3                  8.0        0                         10   \n",
       "4                  5.0        0                          6   \n",
       "\n",
       "   AI-Detected Emotional State  Adherence to Treatment (%)  \n",
       "0                            0                          66  \n",
       "1                            4                          78  \n",
       "2                            3                          62  \n",
       "3                            2                          72  \n",
       "4                            2                          63  "
      ]
     },
     "execution_count": 29,
     "metadata": {},
     "output_type": "execute_result"
    }
   ],
   "source": [
    "data.head()"
   ]
  },
  {
   "cell_type": "code",
   "execution_count": null,
   "metadata": {},
   "outputs": [],
   "source": []
  },
  {
   "cell_type": "markdown",
   "metadata": {
    "id": "tls69_PrbJKW"
   },
   "source": [
    "## Dataset Splitting\n",
    "Partition the dataset into training and testing sets with an 80:20 ratio."
   ]
  },
  {
   "cell_type": "code",
   "execution_count": 31,
   "metadata": {},
   "outputs": [],
   "source": [
    "input = data.copy()\n",
    "input.drop(['Outcome'],axis=1,inplace=True)\n",
    "input.drop(['Treatment Start Date'],axis=1,inplace=True)"
   ]
  },
  {
   "cell_type": "code",
   "execution_count": 32,
   "metadata": {},
   "outputs": [
    {
     "data": {
      "text/plain": [
       "0      0\n",
       "1      2\n",
       "2      0\n",
       "3      0\n",
       "4      0\n",
       "      ..\n",
       "495    1\n",
       "496    0\n",
       "497    0\n",
       "498    1\n",
       "499    0\n",
       "Name: Outcome, Length: 500, dtype: int32"
      ]
     },
     "execution_count": 32,
     "metadata": {},
     "output_type": "execute_result"
    }
   ],
   "source": [
    "target = data.copy()['Outcome']\n",
    "target"
   ]
  },
  {
   "cell_type": "code",
   "execution_count": 33,
   "metadata": {
    "id": "PjGGGMxebeoB"
   },
   "outputs": [],
   "source": [
    "# Write your code here. Add as many boxes as you need.\n",
    "\n",
    "X_train, X_test, Y_train, Y_test = train_test_split(input, target, test_size=0.2)"
   ]
  },
  {
   "cell_type": "markdown",
   "metadata": {
    "id": "qhiEJI_xJ0Bt"
   },
   "source": [
    "## Feature Scaling\n",
    "Standardize the features appropriately."
   ]
  },
  {
   "cell_type": "code",
   "execution_count": 35,
   "metadata": {
    "id": "nwQFchgSKK8p"
   },
   "outputs": [],
   "source": [
    "# Write your code here. Add as many boxes as you need."
   ]
  },
  {
   "cell_type": "markdown",
   "metadata": {
    "id": "VIkAR1Hibiwr"
   },
   "source": [
    "## Model Selection"
   ]
  },
  {
   "cell_type": "markdown",
   "metadata": {
    "id": "qWn1pafKbnxH"
   },
   "source": [
    "Choose and train an approriate model for the given task."
   ]
  },
  {
   "cell_type": "code",
   "execution_count": 38,
   "metadata": {
    "id": "IXFIrQthbnkb"
   },
   "outputs": [
    {
     "name": "stdout",
     "output_type": "stream",
     "text": [
      "              precision    recall  f1-score   support\n",
      "\n",
      "           0       0.47      0.34      0.39        41\n",
      "           1       0.26      0.36      0.30        28\n",
      "           2       0.34      0.35      0.35        31\n",
      "\n",
      "    accuracy                           0.35       100\n",
      "   macro avg       0.36      0.35      0.35       100\n",
      "weighted avg       0.37      0.35      0.35       100\n",
      "\n"
     ]
    },
    {
     "data": {
      "text/plain": [
       "0.35"
      ]
     },
     "execution_count": 38,
     "metadata": {},
     "output_type": "execute_result"
    }
   ],
   "source": [
    "# Write your code here. Add as many boxes as you need.\n",
    "from sklearn.metrics import accuracy_score\n",
    "model = XGBClassifier(max_depth=4, min_child_weight=3, n_estimators=100, n_jobs=-1, learning_rate=0.1)\n",
    "model.fit(X_train, Y_train)\n",
    "\n",
    "y_pred = model.predict(X_test)\n",
    "print(classification_report(Y_test, y_pred))\n",
    "accuracy_score(Y_test,y_pred)"
   ]
  },
  {
   "cell_type": "code",
   "execution_count": 39,
   "metadata": {},
   "outputs": [
    {
     "name": "stdout",
     "output_type": "stream",
     "text": [
      "              precision    recall  f1-score   support\n",
      "\n",
      "           0       0.38      0.32      0.35        41\n",
      "           1       0.23      0.54      0.32        28\n",
      "           2       0.00      0.00      0.00        31\n",
      "\n",
      "    accuracy                           0.28       100\n",
      "   macro avg       0.20      0.28      0.22       100\n",
      "weighted avg       0.22      0.28      0.23       100\n",
      "\n"
     ]
    },
    {
     "name": "stderr",
     "output_type": "stream",
     "text": [
      "C:\\Users\\kolov\\anaconda3\\Lib\\site-packages\\sklearn\\metrics\\_classification.py:1531: UndefinedMetricWarning: Precision is ill-defined and being set to 0.0 in labels with no predicted samples. Use `zero_division` parameter to control this behavior.\n",
      "  _warn_prf(average, modifier, f\"{metric.capitalize()} is\", len(result))\n",
      "C:\\Users\\kolov\\anaconda3\\Lib\\site-packages\\sklearn\\metrics\\_classification.py:1531: UndefinedMetricWarning: Precision is ill-defined and being set to 0.0 in labels with no predicted samples. Use `zero_division` parameter to control this behavior.\n",
      "  _warn_prf(average, modifier, f\"{metric.capitalize()} is\", len(result))\n",
      "C:\\Users\\kolov\\anaconda3\\Lib\\site-packages\\sklearn\\metrics\\_classification.py:1531: UndefinedMetricWarning: Precision is ill-defined and being set to 0.0 in labels with no predicted samples. Use `zero_division` parameter to control this behavior.\n",
      "  _warn_prf(average, modifier, f\"{metric.capitalize()} is\", len(result))\n"
     ]
    }
   ],
   "source": [
    "tree = DecisionTreeClassifier(max_depth=2)\n",
    "tree = tree.fit(X_train,Y_train)\n",
    "y_pred = tree.predict(X_test)\n",
    "print(classification_report(Y_test, y_pred))"
   ]
  },
  {
   "cell_type": "markdown",
   "metadata": {
    "id": "gyXZwAVab8Cp"
   },
   "source": [
    "Use the trained model to make predictions for the test set."
   ]
  },
  {
   "cell_type": "code",
   "execution_count": 41,
   "metadata": {},
   "outputs": [
    {
     "data": {
      "text/plain": [
       "50"
      ]
     },
     "execution_count": 41,
     "metadata": {},
     "output_type": "execute_result"
    }
   ],
   "source": [
    "from sklearn.model_selection import KFold, RepeatedKFold\n",
    "#podatochnoto m-vo: (1,2,3,4,5) 4-train 1-test x5 vo plus 1 iteracii\n",
    "rkf = RepeatedKFold(n_splits=5)\n",
    "rkf.get_n_splits(input, target)"
   ]
  },
  {
   "cell_type": "code",
   "execution_count": 42,
   "metadata": {
    "id": "EvMfVum6b_9b"
   },
   "outputs": [],
   "source": [
    "# Write your code here. Add as many boxes as you need.\n",
    "model2 = DecisionTreeClassifier()\n",
    "param_grid = {\n",
    "    'criterion':[\"gini\", \"entropy\", \"log_loss\"],\n",
    "    'max_depth': [3,5,7,10],\n",
    "    'min_samples_split': [4,8,12]\n",
    "}\n"
   ]
  },
  {
   "cell_type": "code",
   "execution_count": 43,
   "metadata": {},
   "outputs": [],
   "source": [
    "from sklearn.model_selection import GridSearchCV\n",
    "\n",
    "cv = GridSearchCV(estimator=model2,param_grid=param_grid,cv=6)"
   ]
  },
  {
   "cell_type": "code",
   "execution_count": 44,
   "metadata": {},
   "outputs": [
    {
     "data": {
      "text/html": [
       "<style>#sk-container-id-1 {\n",
       "  /* Definition of color scheme common for light and dark mode */\n",
       "  --sklearn-color-text: black;\n",
       "  --sklearn-color-line: gray;\n",
       "  /* Definition of color scheme for unfitted estimators */\n",
       "  --sklearn-color-unfitted-level-0: #fff5e6;\n",
       "  --sklearn-color-unfitted-level-1: #f6e4d2;\n",
       "  --sklearn-color-unfitted-level-2: #ffe0b3;\n",
       "  --sklearn-color-unfitted-level-3: chocolate;\n",
       "  /* Definition of color scheme for fitted estimators */\n",
       "  --sklearn-color-fitted-level-0: #f0f8ff;\n",
       "  --sklearn-color-fitted-level-1: #d4ebff;\n",
       "  --sklearn-color-fitted-level-2: #b3dbfd;\n",
       "  --sklearn-color-fitted-level-3: cornflowerblue;\n",
       "\n",
       "  /* Specific color for light theme */\n",
       "  --sklearn-color-text-on-default-background: var(--sg-text-color, var(--theme-code-foreground, var(--jp-content-font-color1, black)));\n",
       "  --sklearn-color-background: var(--sg-background-color, var(--theme-background, var(--jp-layout-color0, white)));\n",
       "  --sklearn-color-border-box: var(--sg-text-color, var(--theme-code-foreground, var(--jp-content-font-color1, black)));\n",
       "  --sklearn-color-icon: #696969;\n",
       "\n",
       "  @media (prefers-color-scheme: dark) {\n",
       "    /* Redefinition of color scheme for dark theme */\n",
       "    --sklearn-color-text-on-default-background: var(--sg-text-color, var(--theme-code-foreground, var(--jp-content-font-color1, white)));\n",
       "    --sklearn-color-background: var(--sg-background-color, var(--theme-background, var(--jp-layout-color0, #111)));\n",
       "    --sklearn-color-border-box: var(--sg-text-color, var(--theme-code-foreground, var(--jp-content-font-color1, white)));\n",
       "    --sklearn-color-icon: #878787;\n",
       "  }\n",
       "}\n",
       "\n",
       "#sk-container-id-1 {\n",
       "  color: var(--sklearn-color-text);\n",
       "}\n",
       "\n",
       "#sk-container-id-1 pre {\n",
       "  padding: 0;\n",
       "}\n",
       "\n",
       "#sk-container-id-1 input.sk-hidden--visually {\n",
       "  border: 0;\n",
       "  clip: rect(1px 1px 1px 1px);\n",
       "  clip: rect(1px, 1px, 1px, 1px);\n",
       "  height: 1px;\n",
       "  margin: -1px;\n",
       "  overflow: hidden;\n",
       "  padding: 0;\n",
       "  position: absolute;\n",
       "  width: 1px;\n",
       "}\n",
       "\n",
       "#sk-container-id-1 div.sk-dashed-wrapped {\n",
       "  border: 1px dashed var(--sklearn-color-line);\n",
       "  margin: 0 0.4em 0.5em 0.4em;\n",
       "  box-sizing: border-box;\n",
       "  padding-bottom: 0.4em;\n",
       "  background-color: var(--sklearn-color-background);\n",
       "}\n",
       "\n",
       "#sk-container-id-1 div.sk-container {\n",
       "  /* jupyter's `normalize.less` sets `[hidden] { display: none; }`\n",
       "     but bootstrap.min.css set `[hidden] { display: none !important; }`\n",
       "     so we also need the `!important` here to be able to override the\n",
       "     default hidden behavior on the sphinx rendered scikit-learn.org.\n",
       "     See: https://github.com/scikit-learn/scikit-learn/issues/21755 */\n",
       "  display: inline-block !important;\n",
       "  position: relative;\n",
       "}\n",
       "\n",
       "#sk-container-id-1 div.sk-text-repr-fallback {\n",
       "  display: none;\n",
       "}\n",
       "\n",
       "div.sk-parallel-item,\n",
       "div.sk-serial,\n",
       "div.sk-item {\n",
       "  /* draw centered vertical line to link estimators */\n",
       "  background-image: linear-gradient(var(--sklearn-color-text-on-default-background), var(--sklearn-color-text-on-default-background));\n",
       "  background-size: 2px 100%;\n",
       "  background-repeat: no-repeat;\n",
       "  background-position: center center;\n",
       "}\n",
       "\n",
       "/* Parallel-specific style estimator block */\n",
       "\n",
       "#sk-container-id-1 div.sk-parallel-item::after {\n",
       "  content: \"\";\n",
       "  width: 100%;\n",
       "  border-bottom: 2px solid var(--sklearn-color-text-on-default-background);\n",
       "  flex-grow: 1;\n",
       "}\n",
       "\n",
       "#sk-container-id-1 div.sk-parallel {\n",
       "  display: flex;\n",
       "  align-items: stretch;\n",
       "  justify-content: center;\n",
       "  background-color: var(--sklearn-color-background);\n",
       "  position: relative;\n",
       "}\n",
       "\n",
       "#sk-container-id-1 div.sk-parallel-item {\n",
       "  display: flex;\n",
       "  flex-direction: column;\n",
       "}\n",
       "\n",
       "#sk-container-id-1 div.sk-parallel-item:first-child::after {\n",
       "  align-self: flex-end;\n",
       "  width: 50%;\n",
       "}\n",
       "\n",
       "#sk-container-id-1 div.sk-parallel-item:last-child::after {\n",
       "  align-self: flex-start;\n",
       "  width: 50%;\n",
       "}\n",
       "\n",
       "#sk-container-id-1 div.sk-parallel-item:only-child::after {\n",
       "  width: 0;\n",
       "}\n",
       "\n",
       "/* Serial-specific style estimator block */\n",
       "\n",
       "#sk-container-id-1 div.sk-serial {\n",
       "  display: flex;\n",
       "  flex-direction: column;\n",
       "  align-items: center;\n",
       "  background-color: var(--sklearn-color-background);\n",
       "  padding-right: 1em;\n",
       "  padding-left: 1em;\n",
       "}\n",
       "\n",
       "\n",
       "/* Toggleable style: style used for estimator/Pipeline/ColumnTransformer box that is\n",
       "clickable and can be expanded/collapsed.\n",
       "- Pipeline and ColumnTransformer use this feature and define the default style\n",
       "- Estimators will overwrite some part of the style using the `sk-estimator` class\n",
       "*/\n",
       "\n",
       "/* Pipeline and ColumnTransformer style (default) */\n",
       "\n",
       "#sk-container-id-1 div.sk-toggleable {\n",
       "  /* Default theme specific background. It is overwritten whether we have a\n",
       "  specific estimator or a Pipeline/ColumnTransformer */\n",
       "  background-color: var(--sklearn-color-background);\n",
       "}\n",
       "\n",
       "/* Toggleable label */\n",
       "#sk-container-id-1 label.sk-toggleable__label {\n",
       "  cursor: pointer;\n",
       "  display: block;\n",
       "  width: 100%;\n",
       "  margin-bottom: 0;\n",
       "  padding: 0.5em;\n",
       "  box-sizing: border-box;\n",
       "  text-align: center;\n",
       "}\n",
       "\n",
       "#sk-container-id-1 label.sk-toggleable__label-arrow:before {\n",
       "  /* Arrow on the left of the label */\n",
       "  content: \"▸\";\n",
       "  float: left;\n",
       "  margin-right: 0.25em;\n",
       "  color: var(--sklearn-color-icon);\n",
       "}\n",
       "\n",
       "#sk-container-id-1 label.sk-toggleable__label-arrow:hover:before {\n",
       "  color: var(--sklearn-color-text);\n",
       "}\n",
       "\n",
       "/* Toggleable content - dropdown */\n",
       "\n",
       "#sk-container-id-1 div.sk-toggleable__content {\n",
       "  max-height: 0;\n",
       "  max-width: 0;\n",
       "  overflow: hidden;\n",
       "  text-align: left;\n",
       "  /* unfitted */\n",
       "  background-color: var(--sklearn-color-unfitted-level-0);\n",
       "}\n",
       "\n",
       "#sk-container-id-1 div.sk-toggleable__content.fitted {\n",
       "  /* fitted */\n",
       "  background-color: var(--sklearn-color-fitted-level-0);\n",
       "}\n",
       "\n",
       "#sk-container-id-1 div.sk-toggleable__content pre {\n",
       "  margin: 0.2em;\n",
       "  border-radius: 0.25em;\n",
       "  color: var(--sklearn-color-text);\n",
       "  /* unfitted */\n",
       "  background-color: var(--sklearn-color-unfitted-level-0);\n",
       "}\n",
       "\n",
       "#sk-container-id-1 div.sk-toggleable__content.fitted pre {\n",
       "  /* unfitted */\n",
       "  background-color: var(--sklearn-color-fitted-level-0);\n",
       "}\n",
       "\n",
       "#sk-container-id-1 input.sk-toggleable__control:checked~div.sk-toggleable__content {\n",
       "  /* Expand drop-down */\n",
       "  max-height: 200px;\n",
       "  max-width: 100%;\n",
       "  overflow: auto;\n",
       "}\n",
       "\n",
       "#sk-container-id-1 input.sk-toggleable__control:checked~label.sk-toggleable__label-arrow:before {\n",
       "  content: \"▾\";\n",
       "}\n",
       "\n",
       "/* Pipeline/ColumnTransformer-specific style */\n",
       "\n",
       "#sk-container-id-1 div.sk-label input.sk-toggleable__control:checked~label.sk-toggleable__label {\n",
       "  color: var(--sklearn-color-text);\n",
       "  background-color: var(--sklearn-color-unfitted-level-2);\n",
       "}\n",
       "\n",
       "#sk-container-id-1 div.sk-label.fitted input.sk-toggleable__control:checked~label.sk-toggleable__label {\n",
       "  background-color: var(--sklearn-color-fitted-level-2);\n",
       "}\n",
       "\n",
       "/* Estimator-specific style */\n",
       "\n",
       "/* Colorize estimator box */\n",
       "#sk-container-id-1 div.sk-estimator input.sk-toggleable__control:checked~label.sk-toggleable__label {\n",
       "  /* unfitted */\n",
       "  background-color: var(--sklearn-color-unfitted-level-2);\n",
       "}\n",
       "\n",
       "#sk-container-id-1 div.sk-estimator.fitted input.sk-toggleable__control:checked~label.sk-toggleable__label {\n",
       "  /* fitted */\n",
       "  background-color: var(--sklearn-color-fitted-level-2);\n",
       "}\n",
       "\n",
       "#sk-container-id-1 div.sk-label label.sk-toggleable__label,\n",
       "#sk-container-id-1 div.sk-label label {\n",
       "  /* The background is the default theme color */\n",
       "  color: var(--sklearn-color-text-on-default-background);\n",
       "}\n",
       "\n",
       "/* On hover, darken the color of the background */\n",
       "#sk-container-id-1 div.sk-label:hover label.sk-toggleable__label {\n",
       "  color: var(--sklearn-color-text);\n",
       "  background-color: var(--sklearn-color-unfitted-level-2);\n",
       "}\n",
       "\n",
       "/* Label box, darken color on hover, fitted */\n",
       "#sk-container-id-1 div.sk-label.fitted:hover label.sk-toggleable__label.fitted {\n",
       "  color: var(--sklearn-color-text);\n",
       "  background-color: var(--sklearn-color-fitted-level-2);\n",
       "}\n",
       "\n",
       "/* Estimator label */\n",
       "\n",
       "#sk-container-id-1 div.sk-label label {\n",
       "  font-family: monospace;\n",
       "  font-weight: bold;\n",
       "  display: inline-block;\n",
       "  line-height: 1.2em;\n",
       "}\n",
       "\n",
       "#sk-container-id-1 div.sk-label-container {\n",
       "  text-align: center;\n",
       "}\n",
       "\n",
       "/* Estimator-specific */\n",
       "#sk-container-id-1 div.sk-estimator {\n",
       "  font-family: monospace;\n",
       "  border: 1px dotted var(--sklearn-color-border-box);\n",
       "  border-radius: 0.25em;\n",
       "  box-sizing: border-box;\n",
       "  margin-bottom: 0.5em;\n",
       "  /* unfitted */\n",
       "  background-color: var(--sklearn-color-unfitted-level-0);\n",
       "}\n",
       "\n",
       "#sk-container-id-1 div.sk-estimator.fitted {\n",
       "  /* fitted */\n",
       "  background-color: var(--sklearn-color-fitted-level-0);\n",
       "}\n",
       "\n",
       "/* on hover */\n",
       "#sk-container-id-1 div.sk-estimator:hover {\n",
       "  /* unfitted */\n",
       "  background-color: var(--sklearn-color-unfitted-level-2);\n",
       "}\n",
       "\n",
       "#sk-container-id-1 div.sk-estimator.fitted:hover {\n",
       "  /* fitted */\n",
       "  background-color: var(--sklearn-color-fitted-level-2);\n",
       "}\n",
       "\n",
       "/* Specification for estimator info (e.g. \"i\" and \"?\") */\n",
       "\n",
       "/* Common style for \"i\" and \"?\" */\n",
       "\n",
       ".sk-estimator-doc-link,\n",
       "a:link.sk-estimator-doc-link,\n",
       "a:visited.sk-estimator-doc-link {\n",
       "  float: right;\n",
       "  font-size: smaller;\n",
       "  line-height: 1em;\n",
       "  font-family: monospace;\n",
       "  background-color: var(--sklearn-color-background);\n",
       "  border-radius: 1em;\n",
       "  height: 1em;\n",
       "  width: 1em;\n",
       "  text-decoration: none !important;\n",
       "  margin-left: 1ex;\n",
       "  /* unfitted */\n",
       "  border: var(--sklearn-color-unfitted-level-1) 1pt solid;\n",
       "  color: var(--sklearn-color-unfitted-level-1);\n",
       "}\n",
       "\n",
       ".sk-estimator-doc-link.fitted,\n",
       "a:link.sk-estimator-doc-link.fitted,\n",
       "a:visited.sk-estimator-doc-link.fitted {\n",
       "  /* fitted */\n",
       "  border: var(--sklearn-color-fitted-level-1) 1pt solid;\n",
       "  color: var(--sklearn-color-fitted-level-1);\n",
       "}\n",
       "\n",
       "/* On hover */\n",
       "div.sk-estimator:hover .sk-estimator-doc-link:hover,\n",
       ".sk-estimator-doc-link:hover,\n",
       "div.sk-label-container:hover .sk-estimator-doc-link:hover,\n",
       ".sk-estimator-doc-link:hover {\n",
       "  /* unfitted */\n",
       "  background-color: var(--sklearn-color-unfitted-level-3);\n",
       "  color: var(--sklearn-color-background);\n",
       "  text-decoration: none;\n",
       "}\n",
       "\n",
       "div.sk-estimator.fitted:hover .sk-estimator-doc-link.fitted:hover,\n",
       ".sk-estimator-doc-link.fitted:hover,\n",
       "div.sk-label-container:hover .sk-estimator-doc-link.fitted:hover,\n",
       ".sk-estimator-doc-link.fitted:hover {\n",
       "  /* fitted */\n",
       "  background-color: var(--sklearn-color-fitted-level-3);\n",
       "  color: var(--sklearn-color-background);\n",
       "  text-decoration: none;\n",
       "}\n",
       "\n",
       "/* Span, style for the box shown on hovering the info icon */\n",
       ".sk-estimator-doc-link span {\n",
       "  display: none;\n",
       "  z-index: 9999;\n",
       "  position: relative;\n",
       "  font-weight: normal;\n",
       "  right: .2ex;\n",
       "  padding: .5ex;\n",
       "  margin: .5ex;\n",
       "  width: min-content;\n",
       "  min-width: 20ex;\n",
       "  max-width: 50ex;\n",
       "  color: var(--sklearn-color-text);\n",
       "  box-shadow: 2pt 2pt 4pt #999;\n",
       "  /* unfitted */\n",
       "  background: var(--sklearn-color-unfitted-level-0);\n",
       "  border: .5pt solid var(--sklearn-color-unfitted-level-3);\n",
       "}\n",
       "\n",
       ".sk-estimator-doc-link.fitted span {\n",
       "  /* fitted */\n",
       "  background: var(--sklearn-color-fitted-level-0);\n",
       "  border: var(--sklearn-color-fitted-level-3);\n",
       "}\n",
       "\n",
       ".sk-estimator-doc-link:hover span {\n",
       "  display: block;\n",
       "}\n",
       "\n",
       "/* \"?\"-specific style due to the `<a>` HTML tag */\n",
       "\n",
       "#sk-container-id-1 a.estimator_doc_link {\n",
       "  float: right;\n",
       "  font-size: 1rem;\n",
       "  line-height: 1em;\n",
       "  font-family: monospace;\n",
       "  background-color: var(--sklearn-color-background);\n",
       "  border-radius: 1rem;\n",
       "  height: 1rem;\n",
       "  width: 1rem;\n",
       "  text-decoration: none;\n",
       "  /* unfitted */\n",
       "  color: var(--sklearn-color-unfitted-level-1);\n",
       "  border: var(--sklearn-color-unfitted-level-1) 1pt solid;\n",
       "}\n",
       "\n",
       "#sk-container-id-1 a.estimator_doc_link.fitted {\n",
       "  /* fitted */\n",
       "  border: var(--sklearn-color-fitted-level-1) 1pt solid;\n",
       "  color: var(--sklearn-color-fitted-level-1);\n",
       "}\n",
       "\n",
       "/* On hover */\n",
       "#sk-container-id-1 a.estimator_doc_link:hover {\n",
       "  /* unfitted */\n",
       "  background-color: var(--sklearn-color-unfitted-level-3);\n",
       "  color: var(--sklearn-color-background);\n",
       "  text-decoration: none;\n",
       "}\n",
       "\n",
       "#sk-container-id-1 a.estimator_doc_link.fitted:hover {\n",
       "  /* fitted */\n",
       "  background-color: var(--sklearn-color-fitted-level-3);\n",
       "}\n",
       "</style><div id=\"sk-container-id-1\" class=\"sk-top-container\"><div class=\"sk-text-repr-fallback\"><pre>GridSearchCV(cv=6, estimator=DecisionTreeClassifier(),\n",
       "             param_grid={&#x27;criterion&#x27;: [&#x27;gini&#x27;, &#x27;entropy&#x27;, &#x27;log_loss&#x27;],\n",
       "                         &#x27;max_depth&#x27;: [3, 5, 7, 10],\n",
       "                         &#x27;min_samples_split&#x27;: [4, 8, 12]})</pre><b>In a Jupyter environment, please rerun this cell to show the HTML representation or trust the notebook. <br />On GitHub, the HTML representation is unable to render, please try loading this page with nbviewer.org.</b></div><div class=\"sk-container\" hidden><div class=\"sk-item sk-dashed-wrapped\"><div class=\"sk-label-container\"><div class=\"sk-label fitted sk-toggleable\"><input class=\"sk-toggleable__control sk-hidden--visually\" id=\"sk-estimator-id-1\" type=\"checkbox\" ><label for=\"sk-estimator-id-1\" class=\"sk-toggleable__label fitted sk-toggleable__label-arrow fitted\">&nbsp;&nbsp;GridSearchCV<a class=\"sk-estimator-doc-link fitted\" rel=\"noreferrer\" target=\"_blank\" href=\"https://scikit-learn.org/1.5/modules/generated/sklearn.model_selection.GridSearchCV.html\">?<span>Documentation for GridSearchCV</span></a><span class=\"sk-estimator-doc-link fitted\">i<span>Fitted</span></span></label><div class=\"sk-toggleable__content fitted\"><pre>GridSearchCV(cv=6, estimator=DecisionTreeClassifier(),\n",
       "             param_grid={&#x27;criterion&#x27;: [&#x27;gini&#x27;, &#x27;entropy&#x27;, &#x27;log_loss&#x27;],\n",
       "                         &#x27;max_depth&#x27;: [3, 5, 7, 10],\n",
       "                         &#x27;min_samples_split&#x27;: [4, 8, 12]})</pre></div> </div></div><div class=\"sk-parallel\"><div class=\"sk-parallel-item\"><div class=\"sk-item\"><div class=\"sk-label-container\"><div class=\"sk-label fitted sk-toggleable\"><input class=\"sk-toggleable__control sk-hidden--visually\" id=\"sk-estimator-id-2\" type=\"checkbox\" ><label for=\"sk-estimator-id-2\" class=\"sk-toggleable__label fitted sk-toggleable__label-arrow fitted\">best_estimator_: DecisionTreeClassifier</label><div class=\"sk-toggleable__content fitted\"><pre>DecisionTreeClassifier(max_depth=7, min_samples_split=8)</pre></div> </div></div><div class=\"sk-serial\"><div class=\"sk-item\"><div class=\"sk-estimator fitted sk-toggleable\"><input class=\"sk-toggleable__control sk-hidden--visually\" id=\"sk-estimator-id-3\" type=\"checkbox\" ><label for=\"sk-estimator-id-3\" class=\"sk-toggleable__label fitted sk-toggleable__label-arrow fitted\">&nbsp;DecisionTreeClassifier<a class=\"sk-estimator-doc-link fitted\" rel=\"noreferrer\" target=\"_blank\" href=\"https://scikit-learn.org/1.5/modules/generated/sklearn.tree.DecisionTreeClassifier.html\">?<span>Documentation for DecisionTreeClassifier</span></a></label><div class=\"sk-toggleable__content fitted\"><pre>DecisionTreeClassifier(max_depth=7, min_samples_split=8)</pre></div> </div></div></div></div></div></div></div></div></div>"
      ],
      "text/plain": [
       "GridSearchCV(cv=6, estimator=DecisionTreeClassifier(),\n",
       "             param_grid={'criterion': ['gini', 'entropy', 'log_loss'],\n",
       "                         'max_depth': [3, 5, 7, 10],\n",
       "                         'min_samples_split': [4, 8, 12]})"
      ]
     },
     "execution_count": 44,
     "metadata": {},
     "output_type": "execute_result"
    }
   ],
   "source": [
    "cv.fit(input,target)"
   ]
  },
  {
   "cell_type": "code",
   "execution_count": 45,
   "metadata": {},
   "outputs": [
    {
     "data": {
      "text/plain": [
       "0.3682587492828457"
      ]
     },
     "execution_count": 45,
     "metadata": {},
     "output_type": "execute_result"
    }
   ],
   "source": [
    "cv.best_score_"
   ]
  },
  {
   "cell_type": "code",
   "execution_count": 46,
   "metadata": {},
   "outputs": [],
   "source": [
    "model2 = cv.best_estimator_"
   ]
  },
  {
   "cell_type": "code",
   "execution_count": 47,
   "metadata": {},
   "outputs": [],
   "source": [
    "y_pred = model2.predict(X_test)"
   ]
  },
  {
   "cell_type": "code",
   "execution_count": 48,
   "metadata": {},
   "outputs": [
    {
     "data": {
      "text/plain": [
       "0.68"
      ]
     },
     "execution_count": 48,
     "metadata": {},
     "output_type": "execute_result"
    }
   ],
   "source": [
    "from sklearn.metrics import accuracy_score\n",
    "\n",
    "accuracy_score(Y_test,y_pred)"
   ]
  },
  {
   "cell_type": "markdown",
   "metadata": {
    "id": "3VxAvDPtcNCh"
   },
   "source": [
    "Assess the performance of the model by using different classification metrics."
   ]
  },
  {
   "cell_type": "code",
   "execution_count": 50,
   "metadata": {
    "id": "V4axpktycQhp"
   },
   "outputs": [],
   "source": [
    "# Write your code here. Add as many boxes as you need."
   ]
  },
  {
   "cell_type": "markdown",
   "metadata": {
    "id": "RwnD_qSpIeXG"
   },
   "source": [
    "# Laboratory Exercise - Bonus Task (+ 2 points)"
   ]
  },
  {
   "cell_type": "markdown",
   "metadata": {
    "id": "lSTuVpyYd2is"
   },
   "source": [
    "As part of the bonus task in this laboratory assignment, your objective is to fine-tune at least one hyper-parameter using a cross-validation with grid search. This involves systematically experimenting with various values for the hyper-parameter(s) and evaluating the model's performance using cross-validation. Upon determining the most suitable value(s) for the hyper-parameter(s), evaluate the model's performance on a test set for final assessment.\n",
    "\n",
    "Hint: Use the `GridCVSearch` from the `scikit-learn` library. Check the documentation at https://scikit-learn.org/stable/modules/generated/sklearn.model_selection.GridSearchCV.html."
   ]
  },
  {
   "cell_type": "markdown",
   "metadata": {
    "id": "yZriA4d4eWLJ"
   },
   "source": [
    "## Dataset Splitting\n",
    "Partition the dataset into training and testing sets with an 90:10 ratio."
   ]
  },
  {
   "cell_type": "code",
   "execution_count": 54,
   "metadata": {
    "id": "ile-T3vmIfsm"
   },
   "outputs": [],
   "source": [
    "# Write your code here. Add as many boxes as you need.\n",
    "X_train, X_test, Y_train, Y_test = train_test_split(input, target, test_size=0.1)"
   ]
  },
  {
   "cell_type": "markdown",
   "metadata": {
    "id": "pq6fQdFSVmXM"
   },
   "source": [
    "## Feature Scaling\n",
    "Standardize the features appropriately."
   ]
  },
  {
   "cell_type": "code",
   "execution_count": 56,
   "metadata": {},
   "outputs": [],
   "source": [
    "from sklearn.preprocessing import StandardScaler"
   ]
  },
  {
   "cell_type": "code",
   "execution_count": 57,
   "metadata": {
    "id": "BfTeMwTpVm-H"
   },
   "outputs": [],
   "source": [
    "# Write your code here. Add as many boxes as you need.\n",
    "scaler = StandardScaler()\n",
    "scaler.fit(X_train)\n",
    "X_train = scaler.transform(X_train)\n",
    "X_test = scaler.transform(X_test)"
   ]
  },
  {
   "cell_type": "code",
   "execution_count": 108,
   "metadata": {},
   "outputs": [
    {
     "name": "stdout",
     "output_type": "stream",
     "text": [
      "              precision    recall  f1-score   support\n",
      "\n",
      "           0       0.45      0.43      0.44        21\n",
      "           1       0.44      0.64      0.52        11\n",
      "           2       0.36      0.28      0.31        18\n",
      "\n",
      "    accuracy                           0.42        50\n",
      "   macro avg       0.41      0.45      0.42        50\n",
      "weighted avg       0.41      0.42      0.41        50\n",
      "\n",
      "Best Parameters: {'learning_rate': 0.2, 'max_depth': 7, 'min_child_weight': 5, 'n_estimators': 100}\n",
      "Test Accuracy:               precision    recall  f1-score   support\n",
      "\n",
      "           0       0.38      0.29      0.32        21\n",
      "           1       0.50      0.73      0.59        11\n",
      "           2       0.33      0.33      0.33        18\n",
      "\n",
      "    accuracy                           0.40        50\n",
      "   macro avg       0.40      0.45      0.42        50\n",
      "weighted avg       0.39      0.40      0.39        50\n",
      "\n"
     ]
    }
   ],
   "source": [
    "model = XGBClassifier(max_depth=4, min_child_weight=3, n_estimators=100, n_jobs=-1, learning_rate=0.1)\n",
    "model.fit(X_train, Y_train)\n",
    "y_pred = model.predict(X_test)\n",
    "print(classification_report(Y_test, y_pred))\n",
    "\n",
    "params = {\n",
    "    'max_depth': [3,5,7,9],\n",
    "    'min_child_weight': [1,3,5,7,10],\n",
    "    'n_estimators': [100,50],\n",
    "    'learning_rate': [0.1,0.2]\n",
    "}\n",
    "\n",
    "cv = GridSearchCV(estimator=model,param_grid=params,cv=5)\n",
    "cv.fit(X_train, Y_train)\n",
    "print(\"Best Parameters:\", cv.best_params_)\n",
    "best_knn = cv.best_estimator_\n",
    "y_pred = best_knn.predict(X_test)\n",
    "print(\"Test Accuracy:\", classification_report(Y_test, y_pred))\n"
   ]
  },
  {
   "cell_type": "code",
   "execution_count": null,
   "metadata": {},
   "outputs": [],
   "source": []
  },
  {
   "cell_type": "markdown",
   "metadata": {
    "id": "E9myidoNgjmy"
   },
   "source": [
    "## Fine-tuning the Hyperparameters\n",
    "Experiment with various values for the chosen hyperparameter(s) and evaluate the model's performance using cross-validation."
   ]
  },
  {
   "cell_type": "code",
   "execution_count": 60,
   "metadata": {
    "id": "Vb5WJwEggm1f"
   },
   "outputs": [],
   "source": [
    "# Write your code here. Add as many boxes as you need."
   ]
  },
  {
   "cell_type": "markdown",
   "metadata": {
    "id": "OzxTQJABiWAp"
   },
   "source": [
    "## Final Assessment of the Model Performance\n",
    "Upon determining the most suitable hyperparameter(s), evaluate the model's performance on a test set for final assessment."
   ]
  },
  {
   "cell_type": "code",
   "execution_count": 62,
   "metadata": {
    "id": "oK__muPhicCr"
   },
   "outputs": [],
   "source": [
    "# Write your code here. Add as many boxes as you need.\n"
   ]
  },
  {
   "cell_type": "code",
   "execution_count": null,
   "metadata": {},
   "outputs": [],
   "source": []
  }
 ],
 "metadata": {
  "colab": {
   "authorship_tag": "ABX9TyNL+RdwCyqpe1Ge4ordOQpb",
   "provenance": [
    {
     "file_id": "1_k1YeAPztMAAg0n95ZXVbRCx9xTp9m_Y",
     "timestamp": 1731608289708
    },
    {
     "file_id": "1nq7g_dDSicnHsGKtAscx6N1Xm4l6RSLk",
     "timestamp": 1731607907468
    },
    {
     "file_id": "170uEex-Tcf-aP3QNjLR2HRZiYSW7z2JA",
     "timestamp": 1731602659718
    },
    {
     "file_id": "17BAr_KtYVe5MO7sUTFRP4Ce4UfPVE1mG",
     "timestamp": 1699906967954
    },
    {
     "file_id": "1qdHYdGh6WVC1ZgxyABQyhsjz8Pmn2VBJ",
     "timestamp": 1699902041131
    }
   ]
  },
  "kernelspec": {
   "display_name": "Python 3 (ipykernel)",
   "language": "python",
   "name": "python3"
  },
  "language_info": {
   "codemirror_mode": {
    "name": "ipython",
    "version": 3
   },
   "file_extension": ".py",
   "mimetype": "text/x-python",
   "name": "python",
   "nbconvert_exporter": "python",
   "pygments_lexer": "ipython3",
   "version": "3.12.7"
  }
 },
 "nbformat": 4,
 "nbformat_minor": 4
}
