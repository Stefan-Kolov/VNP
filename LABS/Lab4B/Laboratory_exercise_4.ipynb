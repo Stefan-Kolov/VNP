{
 "cells": [
  {
   "cell_type": "markdown",
   "metadata": {
    "id": "t7JOxuK9Jje2"
   },
   "source": [
    "# Laboratory exercise 4\n",
    "\n",
    "## Warm-Up Mode (2 points)\n",
    "\n",
    "**Task Description**  \n",
    "Using the given dataset, develop and implement **3** different neural networks to predict the **air quality level**. Each network should differ in the following ways:  \n",
    "\n",
    "- **layer configurations** - use different numbers and types of layers;\n",
    "- **activation functions** - try different activation functions;\n",
    "- **neurons per layer** - experiment with different numbers of neurons in each layer; and\n",
    "- **number of layers** - build networks with varying depths.\n",
    "\n",
    "After developing the models, evaluate and compare the performance of all **3** approaches.\n",
    "\n",
    "**About the Dataset**  \n",
    "This dataset focuses on air quality assessment across various regions. The dataset contains 5,000 samples and captures critical environmental and demographic factors that influence pollution levels.\n",
    "\n",
    "**Features**:  \n",
    "- **Temperature (°C)**: Average temperature of the region.  \n",
    "- **Humidity (%)**: Relative humidity recorded in the region.  \n",
    "- **PM2.5 Concentration (µg/m³)**: Levels of fine particulate matter.  \n",
    "- **PM10 Concentration (µg/m³)**: Levels of coarse particulate matter.  \n",
    "- **NO2 Concentration (ppb)**: Nitrogen dioxide levels.  \n",
    "- **SO2 Concentration (ppb)**: Sulfur dioxide levels.  \n",
    "- **CO Concentration (ppm)**: Carbon monoxide levels.  \n",
    "- **Proximity to Industrial Areas (km)**: Distance to the nearest industrial zone.  \n",
    "- **Population Density (people/km²)**: Number of people per square kilometer in the region.  \n",
    "\n",
    "**Target Variable**: **Air Quality**  \n",
    "- **Good**: Clean air with low pollution levels.  \n",
    "- **Moderate**: Acceptable air quality but with some pollutants present.  \n",
    "- **Poor**: Noticeable pollution that may cause health issues for sensitive groups.  \n",
    "- **Hazardous**: Highly polluted air posing serious health risks to the population.  "
   ]
  },
  {
   "cell_type": "code",
   "execution_count": 1,
   "metadata": {},
   "outputs": [],
   "source": [
    "import pandas as pd\n",
    "import numpy as np\n",
    "import matplotlib.pyplot as plt\n",
    "from sklearn.model_selection import train_test_split\n",
    "from sklearn.preprocessing import LabelEncoder, StandardScaler\n",
    "from tensorflow.keras.models import Sequential\n",
    "from tensorflow.keras.layers import Dense, Dropout\n",
    "from tensorflow.keras.optimizers import Adam\n",
    "from sklearn.metrics import classification_report"
   ]
  },
  {
   "cell_type": "code",
   "execution_count": 3,
   "metadata": {},
   "outputs": [
    {
     "data": {
      "text/html": [
       "<div>\n",
       "<style scoped>\n",
       "    .dataframe tbody tr th:only-of-type {\n",
       "        vertical-align: middle;\n",
       "    }\n",
       "\n",
       "    .dataframe tbody tr th {\n",
       "        vertical-align: top;\n",
       "    }\n",
       "\n",
       "    .dataframe thead th {\n",
       "        text-align: right;\n",
       "    }\n",
       "</style>\n",
       "<table border=\"1\" class=\"dataframe\">\n",
       "  <thead>\n",
       "    <tr style=\"text-align: right;\">\n",
       "      <th></th>\n",
       "      <th>Temperature</th>\n",
       "      <th>Humidity</th>\n",
       "      <th>PM2.5</th>\n",
       "      <th>PM10</th>\n",
       "      <th>NO2</th>\n",
       "      <th>SO2</th>\n",
       "      <th>CO</th>\n",
       "      <th>Proximity_to_Industrial_Areas</th>\n",
       "      <th>Population_Density</th>\n",
       "      <th>Air Quality</th>\n",
       "    </tr>\n",
       "  </thead>\n",
       "  <tbody>\n",
       "    <tr>\n",
       "      <th>0</th>\n",
       "      <td>29.8</td>\n",
       "      <td>59.1</td>\n",
       "      <td>5.2</td>\n",
       "      <td>17.9</td>\n",
       "      <td>18.9</td>\n",
       "      <td>9.2</td>\n",
       "      <td>1.72</td>\n",
       "      <td>6.3</td>\n",
       "      <td>319</td>\n",
       "      <td>Moderate</td>\n",
       "    </tr>\n",
       "    <tr>\n",
       "      <th>1</th>\n",
       "      <td>28.3</td>\n",
       "      <td>75.6</td>\n",
       "      <td>2.3</td>\n",
       "      <td>12.2</td>\n",
       "      <td>30.8</td>\n",
       "      <td>9.7</td>\n",
       "      <td>1.64</td>\n",
       "      <td>6.0</td>\n",
       "      <td>611</td>\n",
       "      <td>Moderate</td>\n",
       "    </tr>\n",
       "    <tr>\n",
       "      <th>2</th>\n",
       "      <td>23.1</td>\n",
       "      <td>74.7</td>\n",
       "      <td>26.7</td>\n",
       "      <td>33.8</td>\n",
       "      <td>24.4</td>\n",
       "      <td>12.6</td>\n",
       "      <td>1.63</td>\n",
       "      <td>5.2</td>\n",
       "      <td>619</td>\n",
       "      <td>Moderate</td>\n",
       "    </tr>\n",
       "    <tr>\n",
       "      <th>3</th>\n",
       "      <td>27.1</td>\n",
       "      <td>39.1</td>\n",
       "      <td>6.1</td>\n",
       "      <td>6.3</td>\n",
       "      <td>13.5</td>\n",
       "      <td>5.3</td>\n",
       "      <td>1.15</td>\n",
       "      <td>11.1</td>\n",
       "      <td>551</td>\n",
       "      <td>Good</td>\n",
       "    </tr>\n",
       "    <tr>\n",
       "      <th>4</th>\n",
       "      <td>26.5</td>\n",
       "      <td>70.7</td>\n",
       "      <td>6.9</td>\n",
       "      <td>16.0</td>\n",
       "      <td>21.9</td>\n",
       "      <td>5.6</td>\n",
       "      <td>1.01</td>\n",
       "      <td>12.7</td>\n",
       "      <td>303</td>\n",
       "      <td>Good</td>\n",
       "    </tr>\n",
       "  </tbody>\n",
       "</table>\n",
       "</div>"
      ],
      "text/plain": [
       "   Temperature  Humidity  PM2.5  PM10   NO2   SO2    CO  \\\n",
       "0         29.8      59.1    5.2  17.9  18.9   9.2  1.72   \n",
       "1         28.3      75.6    2.3  12.2  30.8   9.7  1.64   \n",
       "2         23.1      74.7   26.7  33.8  24.4  12.6  1.63   \n",
       "3         27.1      39.1    6.1   6.3  13.5   5.3  1.15   \n",
       "4         26.5      70.7    6.9  16.0  21.9   5.6  1.01   \n",
       "\n",
       "   Proximity_to_Industrial_Areas  Population_Density Air Quality  \n",
       "0                            6.3                 319    Moderate  \n",
       "1                            6.0                 611    Moderate  \n",
       "2                            5.2                 619    Moderate  \n",
       "3                           11.1                 551        Good  \n",
       "4                           12.7                 303        Good  "
      ]
     },
     "execution_count": 3,
     "metadata": {},
     "output_type": "execute_result"
    }
   ],
   "source": [
    "data = pd.read_csv('pollution_dataset.csv')\n",
    "data.head()"
   ]
  },
  {
   "cell_type": "code",
   "execution_count": 5,
   "metadata": {},
   "outputs": [],
   "source": [
    "encoder = LabelEncoder()\n",
    "data['Air Quality'] = encoder.fit_transform(data['Air Quality'])"
   ]
  },
  {
   "cell_type": "code",
   "execution_count": 7,
   "metadata": {},
   "outputs": [
    {
     "data": {
      "text/html": [
       "<div>\n",
       "<style scoped>\n",
       "    .dataframe tbody tr th:only-of-type {\n",
       "        vertical-align: middle;\n",
       "    }\n",
       "\n",
       "    .dataframe tbody tr th {\n",
       "        vertical-align: top;\n",
       "    }\n",
       "\n",
       "    .dataframe thead th {\n",
       "        text-align: right;\n",
       "    }\n",
       "</style>\n",
       "<table border=\"1\" class=\"dataframe\">\n",
       "  <thead>\n",
       "    <tr style=\"text-align: right;\">\n",
       "      <th></th>\n",
       "      <th>Temperature</th>\n",
       "      <th>Humidity</th>\n",
       "      <th>PM2.5</th>\n",
       "      <th>PM10</th>\n",
       "      <th>NO2</th>\n",
       "      <th>SO2</th>\n",
       "      <th>CO</th>\n",
       "      <th>Proximity_to_Industrial_Areas</th>\n",
       "      <th>Population_Density</th>\n",
       "      <th>Air Quality</th>\n",
       "    </tr>\n",
       "  </thead>\n",
       "  <tbody>\n",
       "    <tr>\n",
       "      <th>0</th>\n",
       "      <td>29.8</td>\n",
       "      <td>59.1</td>\n",
       "      <td>5.2</td>\n",
       "      <td>17.9</td>\n",
       "      <td>18.9</td>\n",
       "      <td>9.2</td>\n",
       "      <td>1.72</td>\n",
       "      <td>6.3</td>\n",
       "      <td>319</td>\n",
       "      <td>2</td>\n",
       "    </tr>\n",
       "    <tr>\n",
       "      <th>1</th>\n",
       "      <td>28.3</td>\n",
       "      <td>75.6</td>\n",
       "      <td>2.3</td>\n",
       "      <td>12.2</td>\n",
       "      <td>30.8</td>\n",
       "      <td>9.7</td>\n",
       "      <td>1.64</td>\n",
       "      <td>6.0</td>\n",
       "      <td>611</td>\n",
       "      <td>2</td>\n",
       "    </tr>\n",
       "    <tr>\n",
       "      <th>2</th>\n",
       "      <td>23.1</td>\n",
       "      <td>74.7</td>\n",
       "      <td>26.7</td>\n",
       "      <td>33.8</td>\n",
       "      <td>24.4</td>\n",
       "      <td>12.6</td>\n",
       "      <td>1.63</td>\n",
       "      <td>5.2</td>\n",
       "      <td>619</td>\n",
       "      <td>2</td>\n",
       "    </tr>\n",
       "    <tr>\n",
       "      <th>3</th>\n",
       "      <td>27.1</td>\n",
       "      <td>39.1</td>\n",
       "      <td>6.1</td>\n",
       "      <td>6.3</td>\n",
       "      <td>13.5</td>\n",
       "      <td>5.3</td>\n",
       "      <td>1.15</td>\n",
       "      <td>11.1</td>\n",
       "      <td>551</td>\n",
       "      <td>0</td>\n",
       "    </tr>\n",
       "    <tr>\n",
       "      <th>4</th>\n",
       "      <td>26.5</td>\n",
       "      <td>70.7</td>\n",
       "      <td>6.9</td>\n",
       "      <td>16.0</td>\n",
       "      <td>21.9</td>\n",
       "      <td>5.6</td>\n",
       "      <td>1.01</td>\n",
       "      <td>12.7</td>\n",
       "      <td>303</td>\n",
       "      <td>0</td>\n",
       "    </tr>\n",
       "  </tbody>\n",
       "</table>\n",
       "</div>"
      ],
      "text/plain": [
       "   Temperature  Humidity  PM2.5  PM10   NO2   SO2    CO  \\\n",
       "0         29.8      59.1    5.2  17.9  18.9   9.2  1.72   \n",
       "1         28.3      75.6    2.3  12.2  30.8   9.7  1.64   \n",
       "2         23.1      74.7   26.7  33.8  24.4  12.6  1.63   \n",
       "3         27.1      39.1    6.1   6.3  13.5   5.3  1.15   \n",
       "4         26.5      70.7    6.9  16.0  21.9   5.6  1.01   \n",
       "\n",
       "   Proximity_to_Industrial_Areas  Population_Density  Air Quality  \n",
       "0                            6.3                 319            2  \n",
       "1                            6.0                 611            2  \n",
       "2                            5.2                 619            2  \n",
       "3                           11.1                 551            0  \n",
       "4                           12.7                 303            0  "
      ]
     },
     "execution_count": 7,
     "metadata": {},
     "output_type": "execute_result"
    }
   ],
   "source": [
    "data.head()"
   ]
  },
  {
   "cell_type": "code",
   "execution_count": 9,
   "metadata": {},
   "outputs": [],
   "source": [
    "input = data.drop('Air Quality', axis=1)\n",
    "target = data['Air Quality']"
   ]
  },
  {
   "cell_type": "code",
   "execution_count": 11,
   "metadata": {},
   "outputs": [],
   "source": [
    "scaler = StandardScaler()\n",
    "input = scaler.fit_transform(input)"
   ]
  },
  {
   "cell_type": "code",
   "execution_count": 13,
   "metadata": {},
   "outputs": [],
   "source": [
    "X_train, X_test, y_train, y_test = train_test_split(input, target, test_size=0.2, random_state=42)"
   ]
  },
  {
   "cell_type": "code",
   "execution_count": 15,
   "metadata": {},
   "outputs": [],
   "source": [
    "def Model(layers, activations, input_dim):\n",
    "    model = Sequential()\n",
    "    for i, (neurons, activation) in enumerate(zip(layers, activations)):\n",
    "        if i == 0:\n",
    "            model.add(Dense(neurons, activation=activation, input_dim=input_dim))\n",
    "        else:\n",
    "            model.add(Dense(neurons,activation=activation))\n",
    "    model.add(Dense(4, activation='softmax'))\n",
    "    model.compile(optimizer=Adam(learning_rate=0.001), loss='sparse_categorical_crossentropy', metrics=['accuracy'])\n",
    "    return model"
   ]
  },
  {
   "cell_type": "code",
   "execution_count": 19,
   "metadata": {},
   "outputs": [
    {
     "name": "stdout",
     "output_type": "stream",
     "text": [
      "Epoch 1/20\n",
      "100/100 [==============================] - 1s 4ms/step - loss: 0.9335 - accuracy: 0.6972 - val_loss: 0.5872 - val_accuracy: 0.8112\n",
      "Epoch 2/20\n",
      "100/100 [==============================] - 0s 2ms/step - loss: 0.4521 - accuracy: 0.8516 - val_loss: 0.3614 - val_accuracy: 0.8750\n",
      "Epoch 3/20\n",
      "100/100 [==============================] - 0s 1ms/step - loss: 0.3197 - accuracy: 0.8822 - val_loss: 0.2823 - val_accuracy: 0.9075\n",
      "Epoch 4/20\n",
      "100/100 [==============================] - 0s 1ms/step - loss: 0.2666 - accuracy: 0.8988 - val_loss: 0.2466 - val_accuracy: 0.9175\n",
      "Epoch 5/20\n",
      "100/100 [==============================] - 0s 1ms/step - loss: 0.2349 - accuracy: 0.9150 - val_loss: 0.2248 - val_accuracy: 0.9162\n",
      "Epoch 6/20\n",
      "100/100 [==============================] - 0s 2ms/step - loss: 0.2131 - accuracy: 0.9219 - val_loss: 0.2056 - val_accuracy: 0.9175\n",
      "Epoch 7/20\n",
      "100/100 [==============================] - 0s 2ms/step - loss: 0.1964 - accuracy: 0.9259 - val_loss: 0.1956 - val_accuracy: 0.9275\n",
      "Epoch 8/20\n",
      "100/100 [==============================] - 0s 2ms/step - loss: 0.1836 - accuracy: 0.9294 - val_loss: 0.1874 - val_accuracy: 0.9287\n",
      "Epoch 9/20\n",
      "100/100 [==============================] - 0s 2ms/step - loss: 0.1744 - accuracy: 0.9347 - val_loss: 0.1825 - val_accuracy: 0.9300\n",
      "Epoch 10/20\n",
      "100/100 [==============================] - 0s 2ms/step - loss: 0.1673 - accuracy: 0.9359 - val_loss: 0.1811 - val_accuracy: 0.9237\n",
      "Epoch 11/20\n",
      "100/100 [==============================] - 0s 2ms/step - loss: 0.1615 - accuracy: 0.9366 - val_loss: 0.1827 - val_accuracy: 0.9275\n",
      "Epoch 12/20\n",
      "100/100 [==============================] - 0s 2ms/step - loss: 0.1569 - accuracy: 0.9425 - val_loss: 0.1749 - val_accuracy: 0.9362\n",
      "Epoch 13/20\n",
      "100/100 [==============================] - 0s 1ms/step - loss: 0.1535 - accuracy: 0.9406 - val_loss: 0.1729 - val_accuracy: 0.9287\n",
      "Epoch 14/20\n",
      "100/100 [==============================] - 0s 1ms/step - loss: 0.1496 - accuracy: 0.9416 - val_loss: 0.1766 - val_accuracy: 0.9262\n",
      "Epoch 15/20\n",
      "100/100 [==============================] - 0s 1ms/step - loss: 0.1481 - accuracy: 0.9416 - val_loss: 0.1695 - val_accuracy: 0.9388\n",
      "Epoch 16/20\n",
      "100/100 [==============================] - 0s 1ms/step - loss: 0.1441 - accuracy: 0.9425 - val_loss: 0.1694 - val_accuracy: 0.9275\n",
      "Epoch 17/20\n",
      "100/100 [==============================] - 0s 1ms/step - loss: 0.1438 - accuracy: 0.9431 - val_loss: 0.1742 - val_accuracy: 0.9362\n",
      "Epoch 18/20\n",
      "100/100 [==============================] - 0s 1ms/step - loss: 0.1403 - accuracy: 0.9447 - val_loss: 0.1697 - val_accuracy: 0.9362\n",
      "Epoch 19/20\n",
      "100/100 [==============================] - 0s 1ms/step - loss: 0.1387 - accuracy: 0.9434 - val_loss: 0.1640 - val_accuracy: 0.9362\n",
      "Epoch 20/20\n",
      "100/100 [==============================] - 0s 1ms/step - loss: 0.1366 - accuracy: 0.9463 - val_loss: 0.1654 - val_accuracy: 0.9362\n"
     ]
    }
   ],
   "source": [
    "model_1 = Model(layers=[32, 16], activations=['relu', 'relu'], input_dim=X_train.shape[1])\n",
    "history_1 = model_1.fit(X_train, y_train, epochs=20, batch_size=32, verbose=1, validation_split=0.2)"
   ]
  },
  {
   "cell_type": "code",
   "execution_count": 21,
   "metadata": {},
   "outputs": [
    {
     "name": "stdout",
     "output_type": "stream",
     "text": [
      "Epoch 1/20\n",
      "100/100 [==============================] - 1s 3ms/step - loss: 0.7044 - accuracy: 0.7716 - val_loss: 0.3885 - val_accuracy: 0.8363\n",
      "Epoch 2/20\n",
      "100/100 [==============================] - 0s 2ms/step - loss: 0.3078 - accuracy: 0.8756 - val_loss: 0.2469 - val_accuracy: 0.9100\n",
      "Epoch 3/20\n",
      "100/100 [==============================] - 0s 2ms/step - loss: 0.2231 - accuracy: 0.9144 - val_loss: 0.1952 - val_accuracy: 0.9300\n",
      "Epoch 4/20\n",
      "100/100 [==============================] - 0s 2ms/step - loss: 0.1804 - accuracy: 0.9356 - val_loss: 0.1878 - val_accuracy: 0.9212\n",
      "Epoch 5/20\n",
      "100/100 [==============================] - 0s 2ms/step - loss: 0.1650 - accuracy: 0.9384 - val_loss: 0.1679 - val_accuracy: 0.9325\n",
      "Epoch 6/20\n",
      "100/100 [==============================] - 0s 2ms/step - loss: 0.1541 - accuracy: 0.9362 - val_loss: 0.1650 - val_accuracy: 0.9300\n",
      "Epoch 7/20\n",
      "100/100 [==============================] - 0s 2ms/step - loss: 0.1525 - accuracy: 0.9381 - val_loss: 0.1719 - val_accuracy: 0.9300\n",
      "Epoch 8/20\n",
      "100/100 [==============================] - 0s 2ms/step - loss: 0.1467 - accuracy: 0.9419 - val_loss: 0.1671 - val_accuracy: 0.9362\n",
      "Epoch 9/20\n",
      "100/100 [==============================] - 0s 2ms/step - loss: 0.1435 - accuracy: 0.9438 - val_loss: 0.1646 - val_accuracy: 0.9312\n",
      "Epoch 10/20\n",
      "100/100 [==============================] - 0s 2ms/step - loss: 0.1416 - accuracy: 0.9406 - val_loss: 0.1599 - val_accuracy: 0.9350\n",
      "Epoch 11/20\n",
      "100/100 [==============================] - 0s 2ms/step - loss: 0.1377 - accuracy: 0.9453 - val_loss: 0.1632 - val_accuracy: 0.9312\n",
      "Epoch 12/20\n",
      "100/100 [==============================] - 0s 2ms/step - loss: 0.1331 - accuracy: 0.9459 - val_loss: 0.1589 - val_accuracy: 0.9400\n",
      "Epoch 13/20\n",
      "100/100 [==============================] - 0s 2ms/step - loss: 0.1336 - accuracy: 0.9478 - val_loss: 0.1569 - val_accuracy: 0.9388\n",
      "Epoch 14/20\n",
      "100/100 [==============================] - 0s 2ms/step - loss: 0.1307 - accuracy: 0.9475 - val_loss: 0.1517 - val_accuracy: 0.9350\n",
      "Epoch 15/20\n",
      "100/100 [==============================] - 0s 2ms/step - loss: 0.1268 - accuracy: 0.9500 - val_loss: 0.1608 - val_accuracy: 0.9375\n",
      "Epoch 16/20\n",
      "100/100 [==============================] - 0s 2ms/step - loss: 0.1259 - accuracy: 0.9513 - val_loss: 0.1554 - val_accuracy: 0.9312\n",
      "Epoch 17/20\n",
      "100/100 [==============================] - 0s 2ms/step - loss: 0.1239 - accuracy: 0.9525 - val_loss: 0.1721 - val_accuracy: 0.9300\n",
      "Epoch 18/20\n",
      "100/100 [==============================] - 0s 2ms/step - loss: 0.1260 - accuracy: 0.9491 - val_loss: 0.1570 - val_accuracy: 0.9325\n",
      "Epoch 19/20\n",
      "100/100 [==============================] - 0s 2ms/step - loss: 0.1190 - accuracy: 0.9497 - val_loss: 0.1584 - val_accuracy: 0.9362\n",
      "Epoch 20/20\n",
      "100/100 [==============================] - 0s 2ms/step - loss: 0.1196 - accuracy: 0.9522 - val_loss: 0.1565 - val_accuracy: 0.9362\n"
     ]
    }
   ],
   "source": [
    "model_2 = Model(layers=[64, 32, 16], activations=['tanh', 'relu', 'relu'], input_dim=X_train.shape[1])\n",
    "history_2 = model_2.fit(X_train, y_train, epochs=20, batch_size=32, verbose=1, validation_split=0.2)"
   ]
  },
  {
   "cell_type": "code",
   "execution_count": 23,
   "metadata": {},
   "outputs": [
    {
     "name": "stdout",
     "output_type": "stream",
     "text": [
      "Epoch 1/20\n",
      "100/100 [==============================] - 1s 4ms/step - loss: 0.6134 - accuracy: 0.7234 - val_loss: 0.3115 - val_accuracy: 0.8550\n",
      "Epoch 2/20\n",
      "100/100 [==============================] - 0s 2ms/step - loss: 0.2573 - accuracy: 0.8988 - val_loss: 0.2142 - val_accuracy: 0.9225\n",
      "Epoch 3/20\n",
      "100/100 [==============================] - 0s 2ms/step - loss: 0.1964 - accuracy: 0.9241 - val_loss: 0.1937 - val_accuracy: 0.9162\n",
      "Epoch 4/20\n",
      "100/100 [==============================] - 0s 2ms/step - loss: 0.1753 - accuracy: 0.9297 - val_loss: 0.1832 - val_accuracy: 0.9287\n",
      "Epoch 5/20\n",
      "100/100 [==============================] - 0s 2ms/step - loss: 0.1558 - accuracy: 0.9375 - val_loss: 0.1686 - val_accuracy: 0.9262\n",
      "Epoch 6/20\n",
      "100/100 [==============================] - 0s 2ms/step - loss: 0.1485 - accuracy: 0.9419 - val_loss: 0.1736 - val_accuracy: 0.9212\n",
      "Epoch 7/20\n",
      "100/100 [==============================] - 0s 2ms/step - loss: 0.1358 - accuracy: 0.9466 - val_loss: 0.1709 - val_accuracy: 0.9275\n",
      "Epoch 8/20\n",
      "100/100 [==============================] - 0s 2ms/step - loss: 0.1311 - accuracy: 0.9463 - val_loss: 0.1543 - val_accuracy: 0.9325\n",
      "Epoch 9/20\n",
      "100/100 [==============================] - 0s 2ms/step - loss: 0.1247 - accuracy: 0.9525 - val_loss: 0.1524 - val_accuracy: 0.9325\n",
      "Epoch 10/20\n",
      "100/100 [==============================] - 0s 2ms/step - loss: 0.1205 - accuracy: 0.9509 - val_loss: 0.1575 - val_accuracy: 0.9362\n",
      "Epoch 11/20\n",
      "100/100 [==============================] - 0s 2ms/step - loss: 0.1144 - accuracy: 0.9553 - val_loss: 0.1603 - val_accuracy: 0.9362\n",
      "Epoch 12/20\n",
      "100/100 [==============================] - 0s 2ms/step - loss: 0.1101 - accuracy: 0.9547 - val_loss: 0.1533 - val_accuracy: 0.9400\n",
      "Epoch 13/20\n",
      "100/100 [==============================] - 0s 2ms/step - loss: 0.1043 - accuracy: 0.9594 - val_loss: 0.1760 - val_accuracy: 0.9275\n",
      "Epoch 14/20\n",
      "100/100 [==============================] - 0s 2ms/step - loss: 0.1003 - accuracy: 0.9609 - val_loss: 0.1654 - val_accuracy: 0.9325\n",
      "Epoch 15/20\n",
      "100/100 [==============================] - 0s 2ms/step - loss: 0.0999 - accuracy: 0.9619 - val_loss: 0.1676 - val_accuracy: 0.9350\n",
      "Epoch 16/20\n",
      "100/100 [==============================] - 0s 2ms/step - loss: 0.0933 - accuracy: 0.9628 - val_loss: 0.1678 - val_accuracy: 0.9337\n",
      "Epoch 17/20\n",
      "100/100 [==============================] - 0s 2ms/step - loss: 0.0929 - accuracy: 0.9603 - val_loss: 0.1829 - val_accuracy: 0.9287\n",
      "Epoch 18/20\n",
      "100/100 [==============================] - 0s 2ms/step - loss: 0.0965 - accuracy: 0.9609 - val_loss: 0.1681 - val_accuracy: 0.9337\n",
      "Epoch 19/20\n",
      "100/100 [==============================] - 0s 2ms/step - loss: 0.0992 - accuracy: 0.9625 - val_loss: 0.2056 - val_accuracy: 0.9237\n",
      "Epoch 20/20\n",
      "100/100 [==============================] - 0s 2ms/step - loss: 0.0955 - accuracy: 0.9634 - val_loss: 0.1890 - val_accuracy: 0.9287\n"
     ]
    }
   ],
   "source": [
    "model_3 = Model(layers=[128, 64, 32, 16], activations=['relu', 'relu', 'relu', 'relu'], input_dim=X_train.shape[1])\n",
    "history_3 = model_3.fit(X_train, y_train, epochs=20, batch_size=32, verbose=1, validation_split=0.2)"
   ]
  },
  {
   "cell_type": "code",
   "execution_count": 41,
   "metadata": {},
   "outputs": [
    {
     "name": "stdout",
     "output_type": "stream",
     "text": [
      "Model 1\n",
      "Accuracy: 0.95\n"
     ]
    }
   ],
   "source": [
    "print(\"Model 1\")\n",
    "model1 = model_1.evaluate(X_test, y_test, verbose=0)\n",
    "print(\"Accuracy: {:.2f}\".format(model1[1]))"
   ]
  },
  {
   "cell_type": "code",
   "execution_count": 45,
   "metadata": {},
   "outputs": [
    {
     "name": "stdout",
     "output_type": "stream",
     "text": [
      "Model 2\n",
      "Accuracy: 0.94\n"
     ]
    }
   ],
   "source": [
    "print(\"Model 2\")\n",
    "model2 = model_2.evaluate(X_test, y_test, verbose=0)\n",
    "print(\"Accuracy: {:.2f}\".format(model2[1]))"
   ]
  },
  {
   "cell_type": "code",
   "execution_count": 47,
   "metadata": {},
   "outputs": [
    {
     "name": "stdout",
     "output_type": "stream",
     "text": [
      "Model 3\n",
      "Accuracy: 0.94\n"
     ]
    }
   ],
   "source": [
    "print(\"Model 3\")\n",
    "model3 = model_3.evaluate(X_test, y_test, verbose=0)\n",
    "print(\"Accuracy: {:.2f}\".format(model3[1]))"
   ]
  }
 ],
 "metadata": {
  "colab": {
   "provenance": []
  },
  "kernelspec": {
   "display_name": "myenv",
   "language": "python",
   "name": "myenv"
  },
  "language_info": {
   "codemirror_mode": {
    "name": "ipython",
    "version": 3
   },
   "file_extension": ".py",
   "mimetype": "text/x-python",
   "name": "python",
   "nbconvert_exporter": "python",
   "pygments_lexer": "ipython3",
   "version": "3.10.13"
  }
 },
 "nbformat": 4,
 "nbformat_minor": 4
}
