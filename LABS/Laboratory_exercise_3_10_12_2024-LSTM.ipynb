{
 "cells": [
  {
   "cell_type": "markdown",
   "metadata": {
    "id": "rODb9vHvIEbp"
   },
   "source": [
    "# Requirements"
   ]
  },
  {
   "cell_type": "code",
   "execution_count": 1,
   "metadata": {
    "id": "-rgNa1IOH9KV"
   },
   "outputs": [],
   "source": [
    "import pandas as pd\n",
    "import numpy as np\n",
    "from sklearn import metrics\n",
    "from xgboost import XGBClassifier\n",
    "from sklearn.impute import SimpleImputer\n",
    "from sklearn.impute import KNNImputer\n",
    "from sklearn.preprocessing import LabelEncoder\n",
    "from sklearn.tree import DecisionTreeClassifier\n",
    "from sklearn.model_selection import train_test_split\n",
    "from sklearn.metrics import classification_report, confusion_matrix\n",
    "from sklearn.metrics import accuracy_score\n",
    "from sklearn.model_selection import KFold, RepeatedKFold\n",
    "from sklearn.model_selection import GridSearchCV\n",
    "from sklearn.preprocessing import StandardScaler"
   ]
  },
  {
   "cell_type": "code",
   "execution_count": 3,
   "metadata": {
    "id": "U4KmHBd2cdx9"
   },
   "outputs": [],
   "source": [
    "# Add as many imports as you need."
   ]
  },
  {
   "cell_type": "markdown",
   "metadata": {
    "id": "_rAh_91OIjeS"
   },
   "source": [
    "## Introduction\n",
    "In this laboratory assignment, the focus is on time series forecasting, specifically targeting the prediction of the current **close price** for Bitcoin. To accomplish this, you will use data from the preceding 7 days, and past statistics. \n"
   ]
  },
  {
   "cell_type": "markdown",
   "metadata": {
    "id": "zBYI-EypaWom"
   },
   "source": [
    "## The Amazon Stock Price Dataset"
   ]
  },
  {
   "cell_type": "markdown",
   "metadata": {
    "id": "iAtPoYzAZo1v"
   },
   "source": [
    "The dataset comprises the following columns:\n",
    "- date - the date of the recorded price\n",
    "- symbol - the resource for prediction\n",
    "- open - the open price of BTC\n",
    "- high - the high price of BTC\n",
    "- low - the low price of BTC\n",
    "- volumeBTC - the volume of trades BTC\n",
    "- volumeUSD - the volume of trades USD\n",
    "- close - the close price of BTC\n",
    "\n",
    "Target:\n",
    "close"
   ]
  },
  {
   "cell_type": "markdown",
   "metadata": {
    "id": "DCm1qm1mZwMr"
   },
   "source": [
    "Load the dataset into a `pandas` data frame."
   ]
  },
  {
   "cell_type": "code",
   "execution_count": 3,
   "metadata": {
    "id": "KMOn4fgcZn8s"
   },
   "outputs": [
    {
     "data": {
      "text/html": [
       "<div>\n",
       "<style scoped>\n",
       "    .dataframe tbody tr th:only-of-type {\n",
       "        vertical-align: middle;\n",
       "    }\n",
       "\n",
       "    .dataframe tbody tr th {\n",
       "        vertical-align: top;\n",
       "    }\n",
       "\n",
       "    .dataframe thead th {\n",
       "        text-align: right;\n",
       "    }\n",
       "</style>\n",
       "<table border=\"1\" class=\"dataframe\">\n",
       "  <thead>\n",
       "    <tr style=\"text-align: right;\">\n",
       "      <th></th>\n",
       "      <th>date</th>\n",
       "      <th>symbol</th>\n",
       "      <th>open</th>\n",
       "      <th>high</th>\n",
       "      <th>low</th>\n",
       "      <th>close</th>\n",
       "      <th>Volume BTC</th>\n",
       "      <th>Volume USD</th>\n",
       "    </tr>\n",
       "  </thead>\n",
       "  <tbody>\n",
       "    <tr>\n",
       "      <th>0</th>\n",
       "      <td>3/1/2022 0:00</td>\n",
       "      <td>BTC/USD</td>\n",
       "      <td>43221.71</td>\n",
       "      <td>43626.49</td>\n",
       "      <td>43185.48</td>\n",
       "      <td>43185.48</td>\n",
       "      <td>49.006289</td>\n",
       "      <td>2.116360e+06</td>\n",
       "    </tr>\n",
       "    <tr>\n",
       "      <th>1</th>\n",
       "      <td>2/28/2022 0:00</td>\n",
       "      <td>BTC/USD</td>\n",
       "      <td>37717.10</td>\n",
       "      <td>44256.08</td>\n",
       "      <td>37468.99</td>\n",
       "      <td>43178.98</td>\n",
       "      <td>3160.618070</td>\n",
       "      <td>1.364723e+08</td>\n",
       "    </tr>\n",
       "    <tr>\n",
       "      <th>2</th>\n",
       "      <td>2/27/2022 0:00</td>\n",
       "      <td>BTC/USD</td>\n",
       "      <td>39146.66</td>\n",
       "      <td>39886.92</td>\n",
       "      <td>37015.74</td>\n",
       "      <td>37712.68</td>\n",
       "      <td>1701.817043</td>\n",
       "      <td>6.418008e+07</td>\n",
       "    </tr>\n",
       "    <tr>\n",
       "      <th>3</th>\n",
       "      <td>2/26/2022 0:00</td>\n",
       "      <td>BTC/USD</td>\n",
       "      <td>39242.64</td>\n",
       "      <td>40330.99</td>\n",
       "      <td>38600.00</td>\n",
       "      <td>39146.66</td>\n",
       "      <td>912.724087</td>\n",
       "      <td>3.573010e+07</td>\n",
       "    </tr>\n",
       "    <tr>\n",
       "      <th>4</th>\n",
       "      <td>2/25/2022 0:00</td>\n",
       "      <td>BTC/USD</td>\n",
       "      <td>38360.93</td>\n",
       "      <td>39727.97</td>\n",
       "      <td>38027.61</td>\n",
       "      <td>39231.64</td>\n",
       "      <td>2202.851827</td>\n",
       "      <td>8.642149e+07</td>\n",
       "    </tr>\n",
       "  </tbody>\n",
       "</table>\n",
       "</div>"
      ],
      "text/plain": [
       "             date   symbol      open      high       low     close  \\\n",
       "0   3/1/2022 0:00  BTC/USD  43221.71  43626.49  43185.48  43185.48   \n",
       "1  2/28/2022 0:00  BTC/USD  37717.10  44256.08  37468.99  43178.98   \n",
       "2  2/27/2022 0:00  BTC/USD  39146.66  39886.92  37015.74  37712.68   \n",
       "3  2/26/2022 0:00  BTC/USD  39242.64  40330.99  38600.00  39146.66   \n",
       "4  2/25/2022 0:00  BTC/USD  38360.93  39727.97  38027.61  39231.64   \n",
       "\n",
       "    Volume BTC    Volume USD  \n",
       "0    49.006289  2.116360e+06  \n",
       "1  3160.618070  1.364723e+08  \n",
       "2  1701.817043  6.418008e+07  \n",
       "3   912.724087  3.573010e+07  \n",
       "4  2202.851827  8.642149e+07  "
      ]
     },
     "execution_count": 3,
     "metadata": {},
     "output_type": "execute_result"
    }
   ],
   "source": [
    "# Write your code here. Add as many boxes as you need.\n",
    "data = pd.read_csv('BTC-Daily.csv')\n",
    "data.head()"
   ]
  },
  {
   "cell_type": "code",
   "execution_count": 5,
   "metadata": {},
   "outputs": [
    {
     "data": {
      "text/plain": [
       "date          0\n",
       "symbol        0\n",
       "open          0\n",
       "high          0\n",
       "low           0\n",
       "close         0\n",
       "Volume BTC    0\n",
       "Volume USD    0\n",
       "dtype: int64"
      ]
     },
     "execution_count": 5,
     "metadata": {},
     "output_type": "execute_result"
    }
   ],
   "source": [
    "data.isnull().sum()"
   ]
  },
  {
   "cell_type": "code",
   "execution_count": 7,
   "metadata": {},
   "outputs": [
    {
     "name": "stdout",
     "output_type": "stream",
     "text": [
      "<class 'pandas.core.frame.DataFrame'>\n",
      "RangeIndex: 2651 entries, 0 to 2650\n",
      "Data columns (total 8 columns):\n",
      " #   Column      Non-Null Count  Dtype  \n",
      "---  ------      --------------  -----  \n",
      " 0   date        2651 non-null   object \n",
      " 1   symbol      2651 non-null   object \n",
      " 2   open        2651 non-null   float64\n",
      " 3   high        2651 non-null   float64\n",
      " 4   low         2651 non-null   float64\n",
      " 5   close       2651 non-null   float64\n",
      " 6   Volume BTC  2651 non-null   float64\n",
      " 7   Volume USD  2651 non-null   float64\n",
      "dtypes: float64(6), object(2)\n",
      "memory usage: 165.8+ KB\n"
     ]
    }
   ],
   "source": [
    "data.info()"
   ]
  },
  {
   "cell_type": "markdown",
   "metadata": {
    "id": "5slwyyhCKRo9"
   },
   "source": [
    "Explore the dataset using visualizations of your choice."
   ]
  },
  {
   "cell_type": "code",
   "execution_count": 9,
   "metadata": {},
   "outputs": [],
   "source": [
    "import matplotlib.pyplot as plt"
   ]
  },
  {
   "cell_type": "code",
   "execution_count": 11,
   "metadata": {
    "id": "DFY6TKhGKOY4"
   },
   "outputs": [
    {
     "data": {
      "image/png": "[encoded data removed]",
      "text/plain": [
       "<Figure size 640x480 with 6 Axes>"
      ]
     },
     "metadata": {},
     "output_type": "display_data"
    }
   ],
   "source": [
    "# Write your code here. Add as many boxes as you need.\n",
    "data.hist()\n",
    "plt.show()"
   ]
  },
  {
   "cell_type": "code",
   "execution_count": 13,
   "metadata": {},
   "outputs": [
    {
     "data": {
      "text/html": [
       "<div>\n",
       "<style scoped>\n",
       "    .dataframe tbody tr th:only-of-type {\n",
       "        vertical-align: middle;\n",
       "    }\n",
       "\n",
       "    .dataframe tbody tr th {\n",
       "        vertical-align: top;\n",
       "    }\n",
       "\n",
       "    .dataframe thead th {\n",
       "        text-align: right;\n",
       "    }\n",
       "</style>\n",
       "<table border=\"1\" class=\"dataframe\">\n",
       "  <thead>\n",
       "    <tr style=\"text-align: right;\">\n",
       "      <th></th>\n",
       "      <th>date</th>\n",
       "      <th>symbol</th>\n",
       "      <th>open</th>\n",
       "      <th>high</th>\n",
       "      <th>low</th>\n",
       "      <th>close</th>\n",
       "      <th>Volume BTC</th>\n",
       "      <th>Volume USD</th>\n",
       "    </tr>\n",
       "  </thead>\n",
       "  <tbody>\n",
       "    <tr>\n",
       "      <th>0</th>\n",
       "      <td>3/1/2022 0:00</td>\n",
       "      <td>BTC/USD</td>\n",
       "      <td>43221.71</td>\n",
       "      <td>43626.49</td>\n",
       "      <td>43185.48</td>\n",
       "      <td>43185.48</td>\n",
       "      <td>49.006289</td>\n",
       "      <td>2.116360e+06</td>\n",
       "    </tr>\n",
       "    <tr>\n",
       "      <th>1</th>\n",
       "      <td>2/28/2022 0:00</td>\n",
       "      <td>BTC/USD</td>\n",
       "      <td>37717.10</td>\n",
       "      <td>44256.08</td>\n",
       "      <td>37468.99</td>\n",
       "      <td>43178.98</td>\n",
       "      <td>3160.618070</td>\n",
       "      <td>1.364723e+08</td>\n",
       "    </tr>\n",
       "    <tr>\n",
       "      <th>2</th>\n",
       "      <td>2/27/2022 0:00</td>\n",
       "      <td>BTC/USD</td>\n",
       "      <td>39146.66</td>\n",
       "      <td>39886.92</td>\n",
       "      <td>37015.74</td>\n",
       "      <td>37712.68</td>\n",
       "      <td>1701.817043</td>\n",
       "      <td>6.418008e+07</td>\n",
       "    </tr>\n",
       "    <tr>\n",
       "      <th>3</th>\n",
       "      <td>2/26/2022 0:00</td>\n",
       "      <td>BTC/USD</td>\n",
       "      <td>39242.64</td>\n",
       "      <td>40330.99</td>\n",
       "      <td>38600.00</td>\n",
       "      <td>39146.66</td>\n",
       "      <td>912.724087</td>\n",
       "      <td>3.573010e+07</td>\n",
       "    </tr>\n",
       "    <tr>\n",
       "      <th>4</th>\n",
       "      <td>2/25/2022 0:00</td>\n",
       "      <td>BTC/USD</td>\n",
       "      <td>38360.93</td>\n",
       "      <td>39727.97</td>\n",
       "      <td>38027.61</td>\n",
       "      <td>39231.64</td>\n",
       "      <td>2202.851827</td>\n",
       "      <td>8.642149e+07</td>\n",
       "    </tr>\n",
       "  </tbody>\n",
       "</table>\n",
       "</div>"
      ],
      "text/plain": [
       "             date   symbol      open      high       low     close  \\\n",
       "0   3/1/2022 0:00  BTC/USD  43221.71  43626.49  43185.48  43185.48   \n",
       "1  2/28/2022 0:00  BTC/USD  37717.10  44256.08  37468.99  43178.98   \n",
       "2  2/27/2022 0:00  BTC/USD  39146.66  39886.92  37015.74  37712.68   \n",
       "3  2/26/2022 0:00  BTC/USD  39242.64  40330.99  38600.00  39146.66   \n",
       "4  2/25/2022 0:00  BTC/USD  38360.93  39727.97  38027.61  39231.64   \n",
       "\n",
       "    Volume BTC    Volume USD  \n",
       "0    49.006289  2.116360e+06  \n",
       "1  3160.618070  1.364723e+08  \n",
       "2  1701.817043  6.418008e+07  \n",
       "3   912.724087  3.573010e+07  \n",
       "4  2202.851827  8.642149e+07  "
      ]
     },
     "execution_count": 13,
     "metadata": {},
     "output_type": "execute_result"
    }
   ],
   "source": [
    "data.head()"
   ]
  },
  {
   "cell_type": "code",
   "execution_count": 15,
   "metadata": {},
   "outputs": [],
   "source": [
    "label = LabelEncoder()\n",
    "data['symbol'] = label.fit_transform(data['symbol'])"
   ]
  },
  {
   "cell_type": "code",
   "execution_count": 17,
   "metadata": {},
   "outputs": [
    {
     "data": {
      "text/html": [
       "<div>\n",
       "<style scoped>\n",
       "    .dataframe tbody tr th:only-of-type {\n",
       "        vertical-align: middle;\n",
       "    }\n",
       "\n",
       "    .dataframe tbody tr th {\n",
       "        vertical-align: top;\n",
       "    }\n",
       "\n",
       "    .dataframe thead th {\n",
       "        text-align: right;\n",
       "    }\n",
       "</style>\n",
       "<table border=\"1\" class=\"dataframe\">\n",
       "  <thead>\n",
       "    <tr style=\"text-align: right;\">\n",
       "      <th></th>\n",
       "      <th>date</th>\n",
       "      <th>symbol</th>\n",
       "      <th>open</th>\n",
       "      <th>high</th>\n",
       "      <th>low</th>\n",
       "      <th>close</th>\n",
       "      <th>Volume BTC</th>\n",
       "      <th>Volume USD</th>\n",
       "    </tr>\n",
       "  </thead>\n",
       "  <tbody>\n",
       "    <tr>\n",
       "      <th>0</th>\n",
       "      <td>3/1/2022 0:00</td>\n",
       "      <td>0</td>\n",
       "      <td>43221.71</td>\n",
       "      <td>43626.49</td>\n",
       "      <td>43185.48</td>\n",
       "      <td>43185.48</td>\n",
       "      <td>49.006289</td>\n",
       "      <td>2.116360e+06</td>\n",
       "    </tr>\n",
       "    <tr>\n",
       "      <th>1</th>\n",
       "      <td>2/28/2022 0:00</td>\n",
       "      <td>0</td>\n",
       "      <td>37717.10</td>\n",
       "      <td>44256.08</td>\n",
       "      <td>37468.99</td>\n",
       "      <td>43178.98</td>\n",
       "      <td>3160.618070</td>\n",
       "      <td>1.364723e+08</td>\n",
       "    </tr>\n",
       "    <tr>\n",
       "      <th>2</th>\n",
       "      <td>2/27/2022 0:00</td>\n",
       "      <td>0</td>\n",
       "      <td>39146.66</td>\n",
       "      <td>39886.92</td>\n",
       "      <td>37015.74</td>\n",
       "      <td>37712.68</td>\n",
       "      <td>1701.817043</td>\n",
       "      <td>6.418008e+07</td>\n",
       "    </tr>\n",
       "    <tr>\n",
       "      <th>3</th>\n",
       "      <td>2/26/2022 0:00</td>\n",
       "      <td>0</td>\n",
       "      <td>39242.64</td>\n",
       "      <td>40330.99</td>\n",
       "      <td>38600.00</td>\n",
       "      <td>39146.66</td>\n",
       "      <td>912.724087</td>\n",
       "      <td>3.573010e+07</td>\n",
       "    </tr>\n",
       "    <tr>\n",
       "      <th>4</th>\n",
       "      <td>2/25/2022 0:00</td>\n",
       "      <td>0</td>\n",
       "      <td>38360.93</td>\n",
       "      <td>39727.97</td>\n",
       "      <td>38027.61</td>\n",
       "      <td>39231.64</td>\n",
       "      <td>2202.851827</td>\n",
       "      <td>8.642149e+07</td>\n",
       "    </tr>\n",
       "  </tbody>\n",
       "</table>\n",
       "</div>"
      ],
      "text/plain": [
       "             date  symbol      open      high       low     close  \\\n",
       "0   3/1/2022 0:00       0  43221.71  43626.49  43185.48  43185.48   \n",
       "1  2/28/2022 0:00       0  37717.10  44256.08  37468.99  43178.98   \n",
       "2  2/27/2022 0:00       0  39146.66  39886.92  37015.74  37712.68   \n",
       "3  2/26/2022 0:00       0  39242.64  40330.99  38600.00  39146.66   \n",
       "4  2/25/2022 0:00       0  38360.93  39727.97  38027.61  39231.64   \n",
       "\n",
       "    Volume BTC    Volume USD  \n",
       "0    49.006289  2.116360e+06  \n",
       "1  3160.618070  1.364723e+08  \n",
       "2  1701.817043  6.418008e+07  \n",
       "3   912.724087  3.573010e+07  \n",
       "4  2202.851827  8.642149e+07  "
      ]
     },
     "execution_count": 17,
     "metadata": {},
     "output_type": "execute_result"
    }
   ],
   "source": [
    "data.head()"
   ]
  },
  {
   "cell_type": "code",
   "execution_count": 19,
   "metadata": {},
   "outputs": [
    {
     "name": "stdout",
     "output_type": "stream",
     "text": [
      "<class 'pandas.core.frame.DataFrame'>\n",
      "DatetimeIndex: 2651 entries, 2022-03-01 to 2014-11-28\n",
      "Data columns (total 7 columns):\n",
      " #   Column      Non-Null Count  Dtype  \n",
      "---  ------      --------------  -----  \n",
      " 0   symbol      2651 non-null   int32  \n",
      " 1   open        2651 non-null   float64\n",
      " 2   high        2651 non-null   float64\n",
      " 3   low         2651 non-null   float64\n",
      " 4   close       2651 non-null   float64\n",
      " 5   Volume BTC  2651 non-null   float64\n",
      " 6   Volume USD  2651 non-null   float64\n",
      "dtypes: float64(6), int32(1)\n",
      "memory usage: 155.3 KB\n"
     ]
    }
   ],
   "source": [
    "data['date'] = pd.to_datetime(data['date'])\n",
    "data.set_index('date', inplace=True)\n",
    "data.info()"
   ]
  },
  {
   "cell_type": "code",
   "execution_count": 21,
   "metadata": {},
   "outputs": [
    {
     "data": {
      "text/html": [
       "<div>\n",
       "<style scoped>\n",
       "    .dataframe tbody tr th:only-of-type {\n",
       "        vertical-align: middle;\n",
       "    }\n",
       "\n",
       "    .dataframe tbody tr th {\n",
       "        vertical-align: top;\n",
       "    }\n",
       "\n",
       "    .dataframe thead th {\n",
       "        text-align: right;\n",
       "    }\n",
       "</style>\n",
       "<table border=\"1\" class=\"dataframe\">\n",
       "  <thead>\n",
       "    <tr style=\"text-align: right;\">\n",
       "      <th></th>\n",
       "      <th>symbol</th>\n",
       "      <th>open</th>\n",
       "      <th>high</th>\n",
       "      <th>low</th>\n",
       "      <th>close</th>\n",
       "      <th>Volume BTC</th>\n",
       "      <th>Volume USD</th>\n",
       "    </tr>\n",
       "    <tr>\n",
       "      <th>date</th>\n",
       "      <th></th>\n",
       "      <th></th>\n",
       "      <th></th>\n",
       "      <th></th>\n",
       "      <th></th>\n",
       "      <th></th>\n",
       "      <th></th>\n",
       "    </tr>\n",
       "  </thead>\n",
       "  <tbody>\n",
       "    <tr>\n",
       "      <th>2022-03-01</th>\n",
       "      <td>0</td>\n",
       "      <td>43221.71</td>\n",
       "      <td>43626.49</td>\n",
       "      <td>43185.48</td>\n",
       "      <td>43185.48</td>\n",
       "      <td>49.006289</td>\n",
       "      <td>2.116360e+06</td>\n",
       "    </tr>\n",
       "    <tr>\n",
       "      <th>2022-02-28</th>\n",
       "      <td>0</td>\n",
       "      <td>37717.10</td>\n",
       "      <td>44256.08</td>\n",
       "      <td>37468.99</td>\n",
       "      <td>43178.98</td>\n",
       "      <td>3160.618070</td>\n",
       "      <td>1.364723e+08</td>\n",
       "    </tr>\n",
       "    <tr>\n",
       "      <th>2022-02-27</th>\n",
       "      <td>0</td>\n",
       "      <td>39146.66</td>\n",
       "      <td>39886.92</td>\n",
       "      <td>37015.74</td>\n",
       "      <td>37712.68</td>\n",
       "      <td>1701.817043</td>\n",
       "      <td>6.418008e+07</td>\n",
       "    </tr>\n",
       "    <tr>\n",
       "      <th>2022-02-26</th>\n",
       "      <td>0</td>\n",
       "      <td>39242.64</td>\n",
       "      <td>40330.99</td>\n",
       "      <td>38600.00</td>\n",
       "      <td>39146.66</td>\n",
       "      <td>912.724087</td>\n",
       "      <td>3.573010e+07</td>\n",
       "    </tr>\n",
       "    <tr>\n",
       "      <th>2022-02-25</th>\n",
       "      <td>0</td>\n",
       "      <td>38360.93</td>\n",
       "      <td>39727.97</td>\n",
       "      <td>38027.61</td>\n",
       "      <td>39231.64</td>\n",
       "      <td>2202.851827</td>\n",
       "      <td>8.642149e+07</td>\n",
       "    </tr>\n",
       "  </tbody>\n",
       "</table>\n",
       "</div>"
      ],
      "text/plain": [
       "            symbol      open      high       low     close   Volume BTC  \\\n",
       "date                                                                      \n",
       "2022-03-01       0  43221.71  43626.49  43185.48  43185.48    49.006289   \n",
       "2022-02-28       0  37717.10  44256.08  37468.99  43178.98  3160.618070   \n",
       "2022-02-27       0  39146.66  39886.92  37015.74  37712.68  1701.817043   \n",
       "2022-02-26       0  39242.64  40330.99  38600.00  39146.66   912.724087   \n",
       "2022-02-25       0  38360.93  39727.97  38027.61  39231.64  2202.851827   \n",
       "\n",
       "              Volume USD  \n",
       "date                      \n",
       "2022-03-01  2.116360e+06  \n",
       "2022-02-28  1.364723e+08  \n",
       "2022-02-27  6.418008e+07  \n",
       "2022-02-26  3.573010e+07  \n",
       "2022-02-25  8.642149e+07  "
      ]
     },
     "execution_count": 21,
     "metadata": {},
     "output_type": "execute_result"
    }
   ],
   "source": [
    "data.head()"
   ]
  },
  {
   "cell_type": "code",
   "execution_count": null,
   "metadata": {},
   "outputs": [],
   "source": []
  },
  {
   "cell_type": "markdown",
   "metadata": {
    "id": "hZceBEFuiGpI"
   },
   "source": [
    "# Feauture Extraction\n",
    "Select the relevant features for prediction and apply a lag of up to 7 days to each chosen feature\n",
    "\n",
    "Hint: Use `df['column_name'].shift(period)`. Check the documentation at https://pandas.pydata.org/docs/reference/api/pandas.DataFrame.shift.html."
   ]
  },
  {
   "cell_type": "code",
   "execution_count": 23,
   "metadata": {
    "id": "qHwGg9ieiFL1"
   },
   "outputs": [
    {
     "data": {
      "text/html": [
       "<div>\n",
       "<style scoped>\n",
       "    .dataframe tbody tr th:only-of-type {\n",
       "        vertical-align: middle;\n",
       "    }\n",
       "\n",
       "    .dataframe tbody tr th {\n",
       "        vertical-align: top;\n",
       "    }\n",
       "\n",
       "    .dataframe thead th {\n",
       "        text-align: right;\n",
       "    }\n",
       "</style>\n",
       "<table border=\"1\" class=\"dataframe\">\n",
       "  <thead>\n",
       "    <tr style=\"text-align: right;\">\n",
       "      <th></th>\n",
       "      <th>symbol</th>\n",
       "      <th>close</th>\n",
       "      <th>open_lag_1</th>\n",
       "      <th>high_lag_1</th>\n",
       "      <th>low_lag_1</th>\n",
       "      <th>volumeBTC_lag_1</th>\n",
       "      <th>volumeUSD_lag_1</th>\n",
       "      <th>open_lag_2</th>\n",
       "      <th>high_lag_2</th>\n",
       "      <th>low_lag_2</th>\n",
       "      <th>...</th>\n",
       "      <th>open_lag_6</th>\n",
       "      <th>high_lag_6</th>\n",
       "      <th>low_lag_6</th>\n",
       "      <th>volumeBTC_lag_6</th>\n",
       "      <th>volumeUSD_lag_6</th>\n",
       "      <th>open_lag_7</th>\n",
       "      <th>high_lag_7</th>\n",
       "      <th>low_lag_7</th>\n",
       "      <th>volumeBTC_lag_7</th>\n",
       "      <th>volumeUSD_lag_7</th>\n",
       "    </tr>\n",
       "    <tr>\n",
       "      <th>date</th>\n",
       "      <th></th>\n",
       "      <th></th>\n",
       "      <th></th>\n",
       "      <th></th>\n",
       "      <th></th>\n",
       "      <th></th>\n",
       "      <th></th>\n",
       "      <th></th>\n",
       "      <th></th>\n",
       "      <th></th>\n",
       "      <th></th>\n",
       "      <th></th>\n",
       "      <th></th>\n",
       "      <th></th>\n",
       "      <th></th>\n",
       "      <th></th>\n",
       "      <th></th>\n",
       "      <th></th>\n",
       "      <th></th>\n",
       "      <th></th>\n",
       "      <th></th>\n",
       "    </tr>\n",
       "  </thead>\n",
       "  <tbody>\n",
       "    <tr>\n",
       "      <th>2020-01-10</th>\n",
       "      <td>0</td>\n",
       "      <td>8200.00</td>\n",
       "      <td>8200.00</td>\n",
       "      <td>8286.00</td>\n",
       "      <td>8000.0</td>\n",
       "      <td>3.788327e+03</td>\n",
       "      <td>3.036807e+07</td>\n",
       "      <td>8008.10</td>\n",
       "      <td>8190.00</td>\n",
       "      <td>7960.00</td>\n",
       "      <td>...</td>\n",
       "      <td>8810.62</td>\n",
       "      <td>8852.35</td>\n",
       "      <td>8573.91</td>\n",
       "      <td>6.713258e+03</td>\n",
       "      <td>5.847349e+07</td>\n",
       "      <td>8715.39</td>\n",
       "      <td>9015.22</td>\n",
       "      <td>8661.52</td>\n",
       "      <td>9.363159e+03</td>\n",
       "      <td>8.326311e+07</td>\n",
       "    </tr>\n",
       "    <tr>\n",
       "      <th>2016-04-09</th>\n",
       "      <td>0</td>\n",
       "      <td>418.37</td>\n",
       "      <td>418.59</td>\n",
       "      <td>421.79</td>\n",
       "      <td>417.2</td>\n",
       "      <td>7.280359e+05</td>\n",
       "      <td>1.735020e+03</td>\n",
       "      <td>420.40</td>\n",
       "      <td>422.80</td>\n",
       "      <td>418.00</td>\n",
       "      <td>...</td>\n",
       "      <td>424.40</td>\n",
       "      <td>430.00</td>\n",
       "      <td>423.07</td>\n",
       "      <td>1.871353e+06</td>\n",
       "      <td>4.378600e+03</td>\n",
       "      <td>429.29</td>\n",
       "      <td>432.87</td>\n",
       "      <td>427.12</td>\n",
       "      <td>7.842825e+05</td>\n",
       "      <td>1.824130e+03</td>\n",
       "    </tr>\n",
       "    <tr>\n",
       "      <th>2021-11-22</th>\n",
       "      <td>0</td>\n",
       "      <td>56294.11</td>\n",
       "      <td>56283.80</td>\n",
       "      <td>57897.54</td>\n",
       "      <td>55128.6</td>\n",
       "      <td>2.732085e+03</td>\n",
       "      <td>1.573134e+08</td>\n",
       "      <td>57583.91</td>\n",
       "      <td>57750.20</td>\n",
       "      <td>55894.62</td>\n",
       "      <td>...</td>\n",
       "      <td>54764.24</td>\n",
       "      <td>57482.42</td>\n",
       "      <td>53308.93</td>\n",
       "      <td>1.377555e+03</td>\n",
       "      <td>7.898698e+07</td>\n",
       "      <td>57327.32</td>\n",
       "      <td>58931.07</td>\n",
       "      <td>56750.00</td>\n",
       "      <td>2.069735e+03</td>\n",
       "      <td>1.197241e+08</td>\n",
       "    </tr>\n",
       "    <tr>\n",
       "      <th>2019-05-29</th>\n",
       "      <td>0</td>\n",
       "      <td>8663.41</td>\n",
       "      <td>8663.07</td>\n",
       "      <td>9096.79</td>\n",
       "      <td>8000.0</td>\n",
       "      <td>1.525959e+04</td>\n",
       "      <td>1.263152e+08</td>\n",
       "      <td>8277.76</td>\n",
       "      <td>8589.99</td>\n",
       "      <td>8109.74</td>\n",
       "      <td>...</td>\n",
       "      <td>8103.63</td>\n",
       "      <td>8103.63</td>\n",
       "      <td>7432.84</td>\n",
       "      <td>1.548570e+04</td>\n",
       "      <td>1.187061e+08</td>\n",
       "      <td>7673.41</td>\n",
       "      <td>7924.48</td>\n",
       "      <td>7570.90</td>\n",
       "      <td>9.193712e+03</td>\n",
       "      <td>7.158169e+07</td>\n",
       "    </tr>\n",
       "    <tr>\n",
       "      <th>2016-05-22</th>\n",
       "      <td>0</td>\n",
       "      <td>437.85</td>\n",
       "      <td>438.72</td>\n",
       "      <td>442.91</td>\n",
       "      <td>436.4</td>\n",
       "      <td>1.126275e+06</td>\n",
       "      <td>2.555940e+03</td>\n",
       "      <td>442.63</td>\n",
       "      <td>446.37</td>\n",
       "      <td>441.00</td>\n",
       "      <td>...</td>\n",
       "      <td>470.58</td>\n",
       "      <td>529.08</td>\n",
       "      <td>468.00</td>\n",
       "      <td>6.154346e+06</td>\n",
       "      <td>1.246498e+04</td>\n",
       "      <td>522.13</td>\n",
       "      <td>540.00</td>\n",
       "      <td>485.00</td>\n",
       "      <td>4.221704e+06</td>\n",
       "      <td>8.124920e+03</td>\n",
       "    </tr>\n",
       "  </tbody>\n",
       "</table>\n",
       "<p>5 rows × 37 columns</p>\n",
       "</div>"
      ],
      "text/plain": [
       "            symbol     close  open_lag_1  high_lag_1  low_lag_1  \\\n",
       "date                                                              \n",
       "2020-01-10       0   8200.00     8200.00     8286.00     8000.0   \n",
       "2016-04-09       0    418.37      418.59      421.79      417.2   \n",
       "2021-11-22       0  56294.11    56283.80    57897.54    55128.6   \n",
       "2019-05-29       0   8663.41     8663.07     9096.79     8000.0   \n",
       "2016-05-22       0    437.85      438.72      442.91      436.4   \n",
       "\n",
       "            volumeBTC_lag_1  volumeUSD_lag_1  open_lag_2  high_lag_2  \\\n",
       "date                                                                   \n",
       "2020-01-10     3.788327e+03     3.036807e+07     8008.10     8190.00   \n",
       "2016-04-09     7.280359e+05     1.735020e+03      420.40      422.80   \n",
       "2021-11-22     2.732085e+03     1.573134e+08    57583.91    57750.20   \n",
       "2019-05-29     1.525959e+04     1.263152e+08     8277.76     8589.99   \n",
       "2016-05-22     1.126275e+06     2.555940e+03      442.63      446.37   \n",
       "\n",
       "            low_lag_2  ...  open_lag_6  high_lag_6  low_lag_6  \\\n",
       "date                   ...                                      \n",
       "2020-01-10    7960.00  ...     8810.62     8852.35    8573.91   \n",
       "2016-04-09     418.00  ...      424.40      430.00     423.07   \n",
       "2021-11-22   55894.62  ...    54764.24    57482.42   53308.93   \n",
       "2019-05-29    8109.74  ...     8103.63     8103.63    7432.84   \n",
       "2016-05-22     441.00  ...      470.58      529.08     468.00   \n",
       "\n",
       "            volumeBTC_lag_6  volumeUSD_lag_6  open_lag_7  high_lag_7  \\\n",
       "date                                                                   \n",
       "2020-01-10     6.713258e+03     5.847349e+07     8715.39     9015.22   \n",
       "2016-04-09     1.871353e+06     4.378600e+03      429.29      432.87   \n",
       "2021-11-22     1.377555e+03     7.898698e+07    57327.32    58931.07   \n",
       "2019-05-29     1.548570e+04     1.187061e+08     7673.41     7924.48   \n",
       "2016-05-22     6.154346e+06     1.246498e+04      522.13      540.00   \n",
       "\n",
       "            low_lag_7  volumeBTC_lag_7  volumeUSD_lag_7  \n",
       "date                                                     \n",
       "2020-01-10    8661.52     9.363159e+03     8.326311e+07  \n",
       "2016-04-09     427.12     7.842825e+05     1.824130e+03  \n",
       "2021-11-22   56750.00     2.069735e+03     1.197241e+08  \n",
       "2019-05-29    7570.90     9.193712e+03     7.158169e+07  \n",
       "2016-05-22     485.00     4.221704e+06     8.124920e+03  \n",
       "\n",
       "[5 rows x 37 columns]"
      ]
     },
     "execution_count": 23,
     "metadata": {},
     "output_type": "execute_result"
    }
   ],
   "source": [
    "# Write your code here. Add as many boxes as you need.\n",
    "for lag in range(1, 8):  # lag between 1 day and 7 days\n",
    "    data[f'open_lag_{lag}'] = data['open'].shift(lag)\n",
    "    data[f'high_lag_{lag}'] = data['high'].shift(lag)\n",
    "    data[f'low_lag_{lag}'] = data['low'].shift(lag)\n",
    "    data[f'volumeBTC_lag_{lag}'] = data['Volume BTC'].shift(lag)\n",
    "    data[f'volumeUSD_lag_{lag}'] = data['Volume USD'].shift(lag)\n",
    "\n",
    "data = data.dropna(axis=0)\n",
    "data = data.drop(['open','high','low','Volume BTC','Volume USD'], axis= 1)\n",
    "data.sample(5)"
   ]
  },
  {
   "cell_type": "markdown",
   "metadata": {
    "id": "tls69_PrbJKW"
   },
   "source": [
    "## Dataset Splitting\n",
    "Partition the dataset into training and testing sets with an 80:20 ratio.\n",
    "\n",
    "**WARNING: DO NOT SHUFFLE THE DATASET.**\n",
    "\n"
   ]
  },
  {
   "cell_type": "code",
   "execution_count": 25,
   "metadata": {
    "id": "PjGGGMxebeoB"
   },
   "outputs": [],
   "source": [
    "# Write your code here. Add as many boxes as you need.\n",
    "input = data.drop(['close'], axis=1)\n",
    "target = data['close']"
   ]
  },
  {
   "cell_type": "code",
   "execution_count": 27,
   "metadata": {},
   "outputs": [
    {
     "data": {
      "text/html": [
       "<div>\n",
       "<style scoped>\n",
       "    .dataframe tbody tr th:only-of-type {\n",
       "        vertical-align: middle;\n",
       "    }\n",
       "\n",
       "    .dataframe tbody tr th {\n",
       "        vertical-align: top;\n",
       "    }\n",
       "\n",
       "    .dataframe thead th {\n",
       "        text-align: right;\n",
       "    }\n",
       "</style>\n",
       "<table border=\"1\" class=\"dataframe\">\n",
       "  <thead>\n",
       "    <tr style=\"text-align: right;\">\n",
       "      <th></th>\n",
       "      <th>symbol</th>\n",
       "      <th>open_lag_1</th>\n",
       "      <th>high_lag_1</th>\n",
       "      <th>low_lag_1</th>\n",
       "      <th>volumeBTC_lag_1</th>\n",
       "      <th>volumeUSD_lag_1</th>\n",
       "      <th>open_lag_2</th>\n",
       "      <th>high_lag_2</th>\n",
       "      <th>low_lag_2</th>\n",
       "      <th>volumeBTC_lag_2</th>\n",
       "      <th>...</th>\n",
       "      <th>open_lag_6</th>\n",
       "      <th>high_lag_6</th>\n",
       "      <th>low_lag_6</th>\n",
       "      <th>volumeBTC_lag_6</th>\n",
       "      <th>volumeUSD_lag_6</th>\n",
       "      <th>open_lag_7</th>\n",
       "      <th>high_lag_7</th>\n",
       "      <th>low_lag_7</th>\n",
       "      <th>volumeBTC_lag_7</th>\n",
       "      <th>volumeUSD_lag_7</th>\n",
       "    </tr>\n",
       "    <tr>\n",
       "      <th>date</th>\n",
       "      <th></th>\n",
       "      <th></th>\n",
       "      <th></th>\n",
       "      <th></th>\n",
       "      <th></th>\n",
       "      <th></th>\n",
       "      <th></th>\n",
       "      <th></th>\n",
       "      <th></th>\n",
       "      <th></th>\n",
       "      <th></th>\n",
       "      <th></th>\n",
       "      <th></th>\n",
       "      <th></th>\n",
       "      <th></th>\n",
       "      <th></th>\n",
       "      <th></th>\n",
       "      <th></th>\n",
       "      <th></th>\n",
       "      <th></th>\n",
       "      <th></th>\n",
       "    </tr>\n",
       "  </thead>\n",
       "  <tbody>\n",
       "    <tr>\n",
       "      <th>2022-02-22</th>\n",
       "      <td>0</td>\n",
       "      <td>38269.94</td>\n",
       "      <td>39303.24</td>\n",
       "      <td>37060.16</td>\n",
       "      <td>1778.275258</td>\n",
       "      <td>6.628375e+07</td>\n",
       "      <td>37253.26</td>\n",
       "      <td>39720.00</td>\n",
       "      <td>34324.05</td>\n",
       "      <td>6302.850957</td>\n",
       "      <td>...</td>\n",
       "      <td>37717.10</td>\n",
       "      <td>44256.08</td>\n",
       "      <td>37468.99</td>\n",
       "      <td>3160.618070</td>\n",
       "      <td>1.364723e+08</td>\n",
       "      <td>43221.71</td>\n",
       "      <td>43626.49</td>\n",
       "      <td>43185.48</td>\n",
       "      <td>49.006289</td>\n",
       "      <td>2.116360e+06</td>\n",
       "    </tr>\n",
       "    <tr>\n",
       "      <th>2022-02-21</th>\n",
       "      <td>0</td>\n",
       "      <td>37036.98</td>\n",
       "      <td>38463.88</td>\n",
       "      <td>36368.99</td>\n",
       "      <td>2388.759035</td>\n",
       "      <td>9.141766e+07</td>\n",
       "      <td>38269.94</td>\n",
       "      <td>39303.24</td>\n",
       "      <td>37060.16</td>\n",
       "      <td>1778.275258</td>\n",
       "      <td>...</td>\n",
       "      <td>39146.66</td>\n",
       "      <td>39886.92</td>\n",
       "      <td>37015.74</td>\n",
       "      <td>1701.817043</td>\n",
       "      <td>6.418008e+07</td>\n",
       "      <td>37717.10</td>\n",
       "      <td>44256.08</td>\n",
       "      <td>37468.99</td>\n",
       "      <td>3160.618070</td>\n",
       "      <td>1.364723e+08</td>\n",
       "    </tr>\n",
       "    <tr>\n",
       "      <th>2022-02-20</th>\n",
       "      <td>0</td>\n",
       "      <td>38384.09</td>\n",
       "      <td>39494.11</td>\n",
       "      <td>36810.72</td>\n",
       "      <td>3501.420364</td>\n",
       "      <td>1.298208e+08</td>\n",
       "      <td>37036.98</td>\n",
       "      <td>38463.88</td>\n",
       "      <td>36368.99</td>\n",
       "      <td>2388.759035</td>\n",
       "      <td>...</td>\n",
       "      <td>39242.64</td>\n",
       "      <td>40330.99</td>\n",
       "      <td>38600.00</td>\n",
       "      <td>912.724087</td>\n",
       "      <td>3.573010e+07</td>\n",
       "      <td>39146.66</td>\n",
       "      <td>39886.92</td>\n",
       "      <td>37015.74</td>\n",
       "      <td>1701.817043</td>\n",
       "      <td>6.418008e+07</td>\n",
       "    </tr>\n",
       "    <tr>\n",
       "      <th>2022-02-19</th>\n",
       "      <td>0</td>\n",
       "      <td>40108.62</td>\n",
       "      <td>40151.62</td>\n",
       "      <td>37974.18</td>\n",
       "      <td>1283.511547</td>\n",
       "      <td>4.925334e+07</td>\n",
       "      <td>38384.09</td>\n",
       "      <td>39494.11</td>\n",
       "      <td>36810.72</td>\n",
       "      <td>3501.420364</td>\n",
       "      <td>...</td>\n",
       "      <td>38360.93</td>\n",
       "      <td>39727.97</td>\n",
       "      <td>38027.61</td>\n",
       "      <td>2202.851827</td>\n",
       "      <td>8.642149e+07</td>\n",
       "      <td>39242.64</td>\n",
       "      <td>40330.99</td>\n",
       "      <td>38600.00</td>\n",
       "      <td>912.724087</td>\n",
       "      <td>3.573010e+07</td>\n",
       "    </tr>\n",
       "    <tr>\n",
       "      <th>2022-02-18</th>\n",
       "      <td>0</td>\n",
       "      <td>40008.75</td>\n",
       "      <td>40471.27</td>\n",
       "      <td>39587.08</td>\n",
       "      <td>695.654296</td>\n",
       "      <td>2.790201e+07</td>\n",
       "      <td>40108.62</td>\n",
       "      <td>40151.62</td>\n",
       "      <td>37974.18</td>\n",
       "      <td>1283.511547</td>\n",
       "      <td>...</td>\n",
       "      <td>37253.26</td>\n",
       "      <td>39720.00</td>\n",
       "      <td>34324.05</td>\n",
       "      <td>6302.850957</td>\n",
       "      <td>2.418838e+08</td>\n",
       "      <td>38360.93</td>\n",
       "      <td>39727.97</td>\n",
       "      <td>38027.61</td>\n",
       "      <td>2202.851827</td>\n",
       "      <td>8.642149e+07</td>\n",
       "    </tr>\n",
       "  </tbody>\n",
       "</table>\n",
       "<p>5 rows × 36 columns</p>\n",
       "</div>"
      ],
      "text/plain": [
       "            symbol  open_lag_1  high_lag_1  low_lag_1  volumeBTC_lag_1  \\\n",
       "date                                                                     \n",
       "2022-02-22       0    38269.94    39303.24   37060.16      1778.275258   \n",
       "2022-02-21       0    37036.98    38463.88   36368.99      2388.759035   \n",
       "2022-02-20       0    38384.09    39494.11   36810.72      3501.420364   \n",
       "2022-02-19       0    40108.62    40151.62   37974.18      1283.511547   \n",
       "2022-02-18       0    40008.75    40471.27   39587.08       695.654296   \n",
       "\n",
       "            volumeUSD_lag_1  open_lag_2  high_lag_2  low_lag_2  \\\n",
       "date                                                             \n",
       "2022-02-22     6.628375e+07    37253.26    39720.00   34324.05   \n",
       "2022-02-21     9.141766e+07    38269.94    39303.24   37060.16   \n",
       "2022-02-20     1.298208e+08    37036.98    38463.88   36368.99   \n",
       "2022-02-19     4.925334e+07    38384.09    39494.11   36810.72   \n",
       "2022-02-18     2.790201e+07    40108.62    40151.62   37974.18   \n",
       "\n",
       "            volumeBTC_lag_2  ...  open_lag_6  high_lag_6  low_lag_6  \\\n",
       "date                         ...                                      \n",
       "2022-02-22      6302.850957  ...    37717.10    44256.08   37468.99   \n",
       "2022-02-21      1778.275258  ...    39146.66    39886.92   37015.74   \n",
       "2022-02-20      2388.759035  ...    39242.64    40330.99   38600.00   \n",
       "2022-02-19      3501.420364  ...    38360.93    39727.97   38027.61   \n",
       "2022-02-18      1283.511547  ...    37253.26    39720.00   34324.05   \n",
       "\n",
       "            volumeBTC_lag_6  volumeUSD_lag_6  open_lag_7  high_lag_7  \\\n",
       "date                                                                   \n",
       "2022-02-22      3160.618070     1.364723e+08    43221.71    43626.49   \n",
       "2022-02-21      1701.817043     6.418008e+07    37717.10    44256.08   \n",
       "2022-02-20       912.724087     3.573010e+07    39146.66    39886.92   \n",
       "2022-02-19      2202.851827     8.642149e+07    39242.64    40330.99   \n",
       "2022-02-18      6302.850957     2.418838e+08    38360.93    39727.97   \n",
       "\n",
       "            low_lag_7  volumeBTC_lag_7  volumeUSD_lag_7  \n",
       "date                                                     \n",
       "2022-02-22   43185.48        49.006289     2.116360e+06  \n",
       "2022-02-21   37468.99      3160.618070     1.364723e+08  \n",
       "2022-02-20   37015.74      1701.817043     6.418008e+07  \n",
       "2022-02-19   38600.00       912.724087     3.573010e+07  \n",
       "2022-02-18   38027.61      2202.851827     8.642149e+07  \n",
       "\n",
       "[5 rows x 36 columns]"
      ]
     },
     "execution_count": 27,
     "metadata": {},
     "output_type": "execute_result"
    }
   ],
   "source": [
    "input.head()"
   ]
  },
  {
   "cell_type": "code",
   "execution_count": 29,
   "metadata": {},
   "outputs": [],
   "source": [
    "X_train, X_test, Y_train, Y_test = train_test_split(input, target, test_size=0.2, shuffle = False)"
   ]
  },
  {
   "cell_type": "code",
   "execution_count": 31,
   "metadata": {},
   "outputs": [],
   "source": [
    "from sklearn.preprocessing import MinMaxScaler"
   ]
  },
  {
   "cell_type": "code",
   "execution_count": 26,
   "metadata": {},
   "outputs": [],
   "source": [
    "#scaler = MinMaxScaler()\n",
    "#X_train = scaler.fit_transform(X_train)\n",
    "#X_test = scaler.transform(X_test)"
   ]
  },
  {
   "cell_type": "code",
   "execution_count": 45,
   "metadata": {},
   "outputs": [],
   "source": [
    "#columns_to_keep = (X_train.shape[1] // lag) * lag\n",
    "#X_train = X_train[:, :columns_to_keep]\n",
    "#X_train = X_train.reshape(X_train.shape[0], lag, (X_train.shape[1] // lag))\n"
   ]
  },
  {
   "cell_type": "code",
   "execution_count": 47,
   "metadata": {},
   "outputs": [],
   "source": [
    "#columns_to_keep = (X_test.shape[1] // lag) * lag\n",
    "#X_test = X_test[:, :columns_to_keep] \n",
    "#X_test = X_test.reshape(X_test.shape[0], lag, (X_test.shape[1] // lag))\n"
   ]
  },
  {
   "cell_type": "code",
   "execution_count": 38,
   "metadata": {},
   "outputs": [],
   "source": [
    "import numpy as np"
   ]
  },
  {
   "cell_type": "code",
   "execution_count": 40,
   "metadata": {},
   "outputs": [],
   "source": [
    "X_train = np.array(X_train)\n",
    "Y_train = np.array(Y_train)\n",
    "X_test = np.array(X_test)\n",
    "Y_test = np.array(Y_test)"
   ]
  },
  {
   "cell_type": "code",
   "execution_count": 42,
   "metadata": {},
   "outputs": [],
   "source": [
    "X_train = np.reshape(X_train,(X_train.shape[0],1,X_train.shape[1]))"
   ]
  },
  {
   "cell_type": "markdown",
   "metadata": {
    "id": "VIkAR1Hibiwr"
   },
   "source": [
    "## Neural Networks"
   ]
  },
  {
   "cell_type": "markdown",
   "metadata": {
    "id": "qWn1pafKbnxH"
   },
   "source": [
    "Create an LSTM model and train it using the `train` function."
   ]
  },
  {
   "cell_type": "code",
   "execution_count": 44,
   "metadata": {},
   "outputs": [],
   "source": [
    "from keras.models import Sequential\n",
    "from keras.layers import Input, LSTM, Dense"
   ]
  },
  {
   "cell_type": "code",
   "execution_count": 46,
   "metadata": {},
   "outputs": [],
   "source": [
    "#model = Sequential([\n",
    "    #Input(shape=(lag, X_train.shape[2])), # (timesteps, features)\n",
    "    #LSTM(64, activation=\"relu\", return_sequences=True),\n",
    "    #LSTM(32, activation=\"relu\"),\n",
    "    #Dense(1, activation=\"linear\")\n",
    "#])\n",
    "\n",
    "model = Sequential()\n",
    "model.add(LSTM(100,activation='relu',input_shape=(X_train.shape[1],X_train.shape[2]),return_sequences=True))\n",
    "model.add(LSTM(64,activation='relu'))\n",
    "model.add(Dense(1,activation='linear'))\n",
    "          "
   ]
  },
  {
   "cell_type": "code",
   "execution_count": null,
   "metadata": {},
   "outputs": [],
   "source": []
  },
  {
   "cell_type": "code",
   "execution_count": 48,
   "metadata": {},
   "outputs": [
    {
     "name": "stdout",
     "output_type": "stream",
     "text": [
      "Model: \"sequential\"\n",
      "_________________________________________________________________\n",
      " Layer (type)                Output Shape              Param #   \n",
      "=================================================================\n",
      " lstm (LSTM)                 (None, 1, 100)            54800     \n",
      "                                                                 \n",
      " lstm_1 (LSTM)               (None, 64)                42240     \n",
      "                                                                 \n",
      " dense (Dense)               (None, 1)                 65        \n",
      "                                                                 \n",
      "=================================================================\n",
      "Total params: 97,105\n",
      "Trainable params: 97,105\n",
      "Non-trainable params: 0\n",
      "_________________________________________________________________\n"
     ]
    }
   ],
   "source": [
    "model.summary()"
   ]
  },
  {
   "cell_type": "code",
   "execution_count": 56,
   "metadata": {},
   "outputs": [],
   "source": [
    "model.compile(\n",
    "    loss=\"mse\",\n",
    "    optimizer=\"adam\",\n",
    "    metrics=[\"accuracy\"],\n",
    ")"
   ]
  },
  {
   "cell_type": "code",
   "execution_count": 58,
   "metadata": {},
   "outputs": [
    {
     "name": "stdout",
     "output_type": "stream",
     "text": [
      "Epoch 1/64\n",
      "212/212 [==============================] - 4s 5ms/step - loss: 1587523747840.0000 - accuracy: 0.0000e+00 - val_loss: 10671644672.0000 - val_accuracy: 0.0000e+00\n",
      "Epoch 2/64\n",
      "212/212 [==============================] - 1s 3ms/step - loss: 292051255296.0000 - accuracy: 0.0000e+00 - val_loss: 2968386048.0000 - val_accuracy: 0.0000e+00\n",
      "Epoch 3/64\n",
      "212/212 [==============================] - 1s 3ms/step - loss: 118895902720.0000 - accuracy: 0.0000e+00 - val_loss: 1577610496.0000 - val_accuracy: 0.0000e+00\n",
      "Epoch 4/64\n",
      "212/212 [==============================] - 0s 2ms/step - loss: 70782255104.0000 - accuracy: 0.0000e+00 - val_loss: 1119819008.0000 - val_accuracy: 0.0000e+00\n",
      "Epoch 5/64\n",
      "212/212 [==============================] - 1s 2ms/step - loss: 26008424448.0000 - accuracy: 0.0000e+00 - val_loss: 1066790464.0000 - val_accuracy: 0.0000e+00\n",
      "Epoch 6/64\n",
      "212/212 [==============================] - 0s 2ms/step - loss: 20853286912.0000 - accuracy: 0.0000e+00 - val_loss: 587864064.0000 - val_accuracy: 0.0000e+00\n",
      "Epoch 7/64\n",
      "212/212 [==============================] - 0s 2ms/step - loss: 15139551232.0000 - accuracy: 0.0000e+00 - val_loss: 536624224.0000 - val_accuracy: 0.0000e+00\n",
      "Epoch 8/64\n",
      "212/212 [==============================] - 1s 2ms/step - loss: 8344196096.0000 - accuracy: 0.0000e+00 - val_loss: 448831136.0000 - val_accuracy: 0.0000e+00\n",
      "Epoch 9/64\n",
      "212/212 [==============================] - 1s 2ms/step - loss: 16946118656.0000 - accuracy: 0.0000e+00 - val_loss: 364542528.0000 - val_accuracy: 0.0000e+00\n",
      "Epoch 10/64\n",
      "212/212 [==============================] - 1s 3ms/step - loss: 6351627264.0000 - accuracy: 0.0000e+00 - val_loss: 397457248.0000 - val_accuracy: 0.0000e+00\n",
      "Epoch 11/64\n",
      "212/212 [==============================] - 1s 3ms/step - loss: 5217139712.0000 - accuracy: 0.0000e+00 - val_loss: 360378976.0000 - val_accuracy: 0.0000e+00\n",
      "Epoch 12/64\n",
      "212/212 [==============================] - 1s 3ms/step - loss: 2712381952.0000 - accuracy: 0.0000e+00 - val_loss: 328545920.0000 - val_accuracy: 0.0000e+00\n",
      "Epoch 13/64\n",
      "212/212 [==============================] - 1s 3ms/step - loss: 2116740608.0000 - accuracy: 0.0000e+00 - val_loss: 260900032.0000 - val_accuracy: 0.0000e+00\n",
      "Epoch 14/64\n",
      "212/212 [==============================] - 1s 2ms/step - loss: 1647688192.0000 - accuracy: 0.0000e+00 - val_loss: 229961792.0000 - val_accuracy: 0.0000e+00\n",
      "Epoch 15/64\n",
      "212/212 [==============================] - 0s 2ms/step - loss: 1082133248.0000 - accuracy: 0.0000e+00 - val_loss: 185386496.0000 - val_accuracy: 0.0000e+00\n",
      "Epoch 16/64\n",
      "212/212 [==============================] - 0s 2ms/step - loss: 910781120.0000 - accuracy: 0.0000e+00 - val_loss: 216516768.0000 - val_accuracy: 0.0000e+00\n",
      "Epoch 17/64\n",
      "212/212 [==============================] - 0s 2ms/step - loss: 871332160.0000 - accuracy: 0.0000e+00 - val_loss: 196490896.0000 - val_accuracy: 0.0000e+00\n",
      "Epoch 18/64\n",
      "212/212 [==============================] - 0s 2ms/step - loss: 772803584.0000 - accuracy: 0.0000e+00 - val_loss: 186463568.0000 - val_accuracy: 0.0000e+00\n",
      "Epoch 19/64\n",
      "212/212 [==============================] - 0s 2ms/step - loss: 672992064.0000 - accuracy: 0.0000e+00 - val_loss: 383577856.0000 - val_accuracy: 0.0000e+00\n",
      "Epoch 20/64\n",
      "212/212 [==============================] - 0s 2ms/step - loss: 1445991424.0000 - accuracy: 0.0000e+00 - val_loss: 207355072.0000 - val_accuracy: 0.0000e+00\n",
      "Epoch 21/64\n",
      "212/212 [==============================] - 0s 2ms/step - loss: 1545472384.0000 - accuracy: 0.0000e+00 - val_loss: 65364940.0000 - val_accuracy: 0.0000e+00\n",
      "Epoch 22/64\n",
      "212/212 [==============================] - 0s 2ms/step - loss: 804452992.0000 - accuracy: 0.0000e+00 - val_loss: 110217760.0000 - val_accuracy: 0.0000e+00\n",
      "Epoch 23/64\n",
      "212/212 [==============================] - 0s 2ms/step - loss: 855921088.0000 - accuracy: 0.0000e+00 - val_loss: 105429120.0000 - val_accuracy: 0.0000e+00\n",
      "Epoch 24/64\n",
      "212/212 [==============================] - 0s 2ms/step - loss: 488320832.0000 - accuracy: 0.0000e+00 - val_loss: 78264928.0000 - val_accuracy: 0.0000e+00\n",
      "Epoch 25/64\n",
      "212/212 [==============================] - 0s 2ms/step - loss: 399731456.0000 - accuracy: 0.0000e+00 - val_loss: 77421096.0000 - val_accuracy: 0.0000e+00\n",
      "Epoch 26/64\n",
      "212/212 [==============================] - 0s 2ms/step - loss: 444357120.0000 - accuracy: 0.0000e+00 - val_loss: 79244880.0000 - val_accuracy: 0.0000e+00\n",
      "Epoch 27/64\n",
      "212/212 [==============================] - 1s 2ms/step - loss: 395187808.0000 - accuracy: 0.0000e+00 - val_loss: 79200576.0000 - val_accuracy: 0.0000e+00\n",
      "Epoch 28/64\n",
      "212/212 [==============================] - 1s 4ms/step - loss: 381874272.0000 - accuracy: 0.0000e+00 - val_loss: 71505624.0000 - val_accuracy: 0.0000e+00\n",
      "Epoch 29/64\n",
      "212/212 [==============================] - 1s 3ms/step - loss: 458317024.0000 - accuracy: 0.0000e+00 - val_loss: 70384536.0000 - val_accuracy: 0.0000e+00\n",
      "Epoch 30/64\n",
      "212/212 [==============================] - 1s 3ms/step - loss: 432303072.0000 - accuracy: 0.0000e+00 - val_loss: 58841648.0000 - val_accuracy: 0.0000e+00\n",
      "Epoch 31/64\n",
      "212/212 [==============================] - 1s 3ms/step - loss: 372057248.0000 - accuracy: 0.0000e+00 - val_loss: 73512392.0000 - val_accuracy: 0.0000e+00\n",
      "Epoch 32/64\n",
      "212/212 [==============================] - 1s 4ms/step - loss: 452498528.0000 - accuracy: 0.0000e+00 - val_loss: 27098630.0000 - val_accuracy: 0.0000e+00\n",
      "Epoch 33/64\n",
      "212/212 [==============================] - 1s 3ms/step - loss: 365509184.0000 - accuracy: 0.0000e+00 - val_loss: 27085736.0000 - val_accuracy: 0.0000e+00\n",
      "Epoch 34/64\n",
      "212/212 [==============================] - 1s 3ms/step - loss: 342426912.0000 - accuracy: 0.0000e+00 - val_loss: 27685758.0000 - val_accuracy: 0.0000e+00\n",
      "Epoch 35/64\n",
      "212/212 [==============================] - 1s 3ms/step - loss: 374775008.0000 - accuracy: 0.0000e+00 - val_loss: 25528672.0000 - val_accuracy: 0.0000e+00\n",
      "Epoch 36/64\n",
      "212/212 [==============================] - 1s 3ms/step - loss: 339797536.0000 - accuracy: 0.0000e+00 - val_loss: 23999412.0000 - val_accuracy: 0.0000e+00\n",
      "Epoch 37/64\n",
      "212/212 [==============================] - 1s 3ms/step - loss: 327616448.0000 - accuracy: 0.0000e+00 - val_loss: 23924556.0000 - val_accuracy: 0.0000e+00\n",
      "Epoch 38/64\n",
      "212/212 [==============================] - 1s 3ms/step - loss: 320056224.0000 - accuracy: 0.0000e+00 - val_loss: 25355342.0000 - val_accuracy: 0.0000e+00\n",
      "Epoch 39/64\n",
      "212/212 [==============================] - 1s 3ms/step - loss: 318047552.0000 - accuracy: 0.0000e+00 - val_loss: 24877052.0000 - val_accuracy: 0.0000e+00\n",
      "Epoch 40/64\n",
      "212/212 [==============================] - 1s 3ms/step - loss: 310874208.0000 - accuracy: 0.0000e+00 - val_loss: 23467386.0000 - val_accuracy: 0.0000e+00\n",
      "Epoch 41/64\n",
      "212/212 [==============================] - 1s 3ms/step - loss: 313576960.0000 - accuracy: 0.0000e+00 - val_loss: 24203492.0000 - val_accuracy: 0.0000e+00\n",
      "Epoch 42/64\n",
      "212/212 [==============================] - 1s 2ms/step - loss: 331181568.0000 - accuracy: 0.0000e+00 - val_loss: 20127948.0000 - val_accuracy: 0.0000e+00\n",
      "Epoch 43/64\n",
      "212/212 [==============================] - 1s 3ms/step - loss: 410535776.0000 - accuracy: 0.0000e+00 - val_loss: 24247378.0000 - val_accuracy: 0.0000e+00\n",
      "Epoch 44/64\n",
      "212/212 [==============================] - 1s 2ms/step - loss: 350439392.0000 - accuracy: 0.0000e+00 - val_loss: 21543004.0000 - val_accuracy: 0.0000e+00\n",
      "Epoch 45/64\n",
      "212/212 [==============================] - 1s 3ms/step - loss: 350040416.0000 - accuracy: 0.0000e+00 - val_loss: 18457094.0000 - val_accuracy: 0.0000e+00\n",
      "Epoch 46/64\n",
      "212/212 [==============================] - 1s 3ms/step - loss: 341012864.0000 - accuracy: 0.0000e+00 - val_loss: 18653854.0000 - val_accuracy: 0.0000e+00\n",
      "Epoch 47/64\n",
      "212/212 [==============================] - 1s 2ms/step - loss: 332309728.0000 - accuracy: 0.0000e+00 - val_loss: 18966018.0000 - val_accuracy: 0.0000e+00\n",
      "Epoch 48/64\n",
      "212/212 [==============================] - 1s 3ms/step - loss: 307250304.0000 - accuracy: 0.0000e+00 - val_loss: 19971420.0000 - val_accuracy: 0.0000e+00\n",
      "Epoch 49/64\n",
      "212/212 [==============================] - 0s 2ms/step - loss: 324918400.0000 - accuracy: 0.0000e+00 - val_loss: 19872934.0000 - val_accuracy: 0.0000e+00\n",
      "Epoch 50/64\n",
      "212/212 [==============================] - 0s 2ms/step - loss: 330637824.0000 - accuracy: 0.0000e+00 - val_loss: 19814444.0000 - val_accuracy: 0.0000e+00\n",
      "Epoch 51/64\n",
      "212/212 [==============================] - 0s 2ms/step - loss: 314637856.0000 - accuracy: 0.0000e+00 - val_loss: 23732616.0000 - val_accuracy: 0.0000e+00\n",
      "Epoch 52/64\n",
      "212/212 [==============================] - 1s 2ms/step - loss: 296301408.0000 - accuracy: 0.0000e+00 - val_loss: 23893248.0000 - val_accuracy: 0.0000e+00\n",
      "Epoch 53/64\n",
      "212/212 [==============================] - 1s 3ms/step - loss: 303960256.0000 - accuracy: 0.0000e+00 - val_loss: 24104608.0000 - val_accuracy: 0.0000e+00\n",
      "Epoch 54/64\n",
      "212/212 [==============================] - 1s 2ms/step - loss: 302509088.0000 - accuracy: 0.0000e+00 - val_loss: 22662124.0000 - val_accuracy: 0.0000e+00\n",
      "Epoch 55/64\n",
      "212/212 [==============================] - 0s 2ms/step - loss: 336537664.0000 - accuracy: 0.0000e+00 - val_loss: 23196382.0000 - val_accuracy: 0.0000e+00\n",
      "Epoch 56/64\n",
      "212/212 [==============================] - 1s 4ms/step - loss: 319159008.0000 - accuracy: 0.0000e+00 - val_loss: 14743487.0000 - val_accuracy: 0.0000e+00\n",
      "Epoch 57/64\n",
      "212/212 [==============================] - 1s 3ms/step - loss: 460081920.0000 - accuracy: 0.0000e+00 - val_loss: 16675897.0000 - val_accuracy: 0.0000e+00\n",
      "Epoch 58/64\n",
      "212/212 [==============================] - 1s 3ms/step - loss: 373823488.0000 - accuracy: 0.0000e+00 - val_loss: 17164918.0000 - val_accuracy: 0.0000e+00\n",
      "Epoch 59/64\n",
      "212/212 [==============================] - 1s 3ms/step - loss: 361699296.0000 - accuracy: 0.0000e+00 - val_loss: 25038506.0000 - val_accuracy: 0.0000e+00\n",
      "Epoch 60/64\n",
      "212/212 [==============================] - 1s 3ms/step - loss: 325989728.0000 - accuracy: 0.0000e+00 - val_loss: 25723892.0000 - val_accuracy: 0.0000e+00\n",
      "Epoch 61/64\n",
      "212/212 [==============================] - 1s 3ms/step - loss: 2417040640.0000 - accuracy: 0.0000e+00 - val_loss: 360222624.0000 - val_accuracy: 0.0000e+00\n",
      "Epoch 62/64\n",
      "212/212 [==============================] - 1s 3ms/step - loss: 680239232.0000 - accuracy: 0.0000e+00 - val_loss: 7041500.5000 - val_accuracy: 0.0000e+00\n",
      "Epoch 63/64\n",
      "212/212 [==============================] - 1s 2ms/step - loss: 399672512.0000 - accuracy: 0.0000e+00 - val_loss: 6806379.0000 - val_accuracy: 0.0000e+00\n",
      "Epoch 64/64\n",
      "212/212 [==============================] - 1s 2ms/step - loss: 362384320.0000 - accuracy: 0.0000e+00 - val_loss: 6158358.0000 - val_accuracy: 0.0000e+00\n"
     ]
    }
   ],
   "source": [
    "history = model.fit(X_train, Y_train,validation_split=0.2,epochs=64, batch_size=8)"
   ]
  },
  {
   "cell_type": "markdown",
   "metadata": {
    "id": "gyXZwAVab8Cp"
   },
   "source": [
    "Use the trained model to make predictions for the test set."
   ]
  },
  {
   "cell_type": "code",
   "execution_count": 62,
   "metadata": {},
   "outputs": [],
   "source": [
    "X_test = np.reshape(X_test,(X_test.shape[0],1,X_test.shape[1]))"
   ]
  },
  {
   "cell_type": "code",
   "execution_count": 64,
   "metadata": {
    "id": "EvMfVum6b_9b"
   },
   "outputs": [
    {
     "name": "stdout",
     "output_type": "stream",
     "text": [
      "17/17 [==============================] - 0s 1ms/step\n"
     ]
    }
   ],
   "source": [
    "# Write your code here. Add as many boxes as you need.\n",
    "y_pred = model.predict(X_test)"
   ]
  },
  {
   "cell_type": "code",
   "execution_count": null,
   "metadata": {},
   "outputs": [],
   "source": []
  },
  {
   "cell_type": "markdown",
   "metadata": {
    "id": "3VxAvDPtcNCh"
   },
   "source": [
    "Assess the performance of the model by using different metrics provided by the `scikit-learn` library."
   ]
  },
  {
   "cell_type": "code",
   "execution_count": 66,
   "metadata": {},
   "outputs": [],
   "source": [
    "from sklearn.metrics import mean_squared_error, r2_score"
   ]
  },
  {
   "cell_type": "code",
   "execution_count": 68,
   "metadata": {
    "id": "V4axpktycQhp"
   },
   "outputs": [
    {
     "data": {
      "text/plain": [
       "-246.46346772581472"
      ]
     },
     "execution_count": 68,
     "metadata": {},
     "output_type": "execute_result"
    }
   ],
   "source": [
    "# Write your code here. Add as many boxes as you need.\n",
    "r2_score(Y_test, y_pred)"
   ]
  },
  {
   "cell_type": "markdown",
   "metadata": {},
   "source": [
    "# Additional Bonus Task"
   ]
  },
  {
   "cell_type": "markdown",
   "metadata": {},
   "source": [
    "Group the data by month. You can use [pandas.Grouper](https://pandas.pydata.org/docs/reference/api/pandas.Grouper.html) function."
   ]
  },
  {
   "cell_type": "markdown",
   "metadata": {},
   "source": [
    "Create an LSTM model to predict the 'close' price on a montly frequency."
   ]
  },
  {
   "cell_type": "code",
   "execution_count": null,
   "metadata": {},
   "outputs": [],
   "source": []
  }
 ],
 "metadata": {
  "colab": {
   "provenance": []
  },
  "kernelspec": {
   "display_name": "myenv",
   "language": "python",
   "name": "myenv"
  },
  "language_info": {
   "codemirror_mode": {
    "name": "ipython",
    "version": 3
   },
   "file_extension": ".py",
   "mimetype": "text/x-python",
   "name": "python",
   "nbconvert_exporter": "python",
   "pygments_lexer": "ipython3",
   "version": "3.10.16"
  }
 },
 "nbformat": 4,
 "nbformat_minor": 4
}
