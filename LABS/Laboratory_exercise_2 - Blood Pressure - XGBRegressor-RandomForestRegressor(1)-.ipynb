{
 "cells": [
  {
   "cell_type": "markdown",
   "metadata": {
    "id": "rODb9vHvIEbp"
   },
   "source": [
    "# Requirements"
   ]
  },
  {
   "cell_type": "code",
   "execution_count": 1,
   "metadata": {
    "id": "-rgNa1IOH9KV"
   },
   "outputs": [],
   "source": [
    "from xgboost import XGBRegressor\n",
    "import pandas as pd\n",
    "import numpy as np\n",
    "from sklearn import metrics\n",
    "from xgboost import XGBClassifier\n",
    "from sklearn.impute import SimpleImputer\n",
    "from sklearn.impute import KNNImputer\n",
    "from sklearn.preprocessing import LabelEncoder\n",
    "from sklearn.tree import DecisionTreeClassifier\n",
    "from sklearn.model_selection import train_test_split\n",
    "from sklearn.metrics import classification_report, confusion_matrix\n",
    "import missingno as msno\n",
    "from sklearn.metrics import accuracy_score\n",
    "from sklearn.model_selection import KFold, RepeatedKFold\n",
    "from sklearn.model_selection import GridSearchCV\n",
    "from sklearn.preprocessing import StandardScaler\n",
    "import matplotlib.pyplot as plt\n",
    "from sklearn.metrics import mean_absolute_error, mean_squared_error, r2_score\n"
   ]
  },
  {
   "cell_type": "code",
   "execution_count": 3,
   "metadata": {
    "id": "U4KmHBd2cdx9"
   },
   "outputs": [],
   "source": [
    "# Add as many imports as you need."
   ]
  },
  {
   "cell_type": "markdown",
   "metadata": {
    "id": "zBYI-EypaWom"
   },
   "source": [
    "## Blood Pressure Analysis\n"
   ]
  },
  {
   "cell_type": "markdown",
   "metadata": {
    "id": "iAtPoYzAZo1v"
   },
   "source": [
    "# Dataset Description\n",
    "\n",
    "## Attributes\n",
    "\n",
    "* id - patient identifier\n",
    "* age - patient age\n",
    "* height - patient height in cm\n",
    "* weight - patient weight in kg\n",
    "* blood sugar - patient blood sugar level\n",
    "* Cholesterol - patient cholesterol level\n",
    "* triglyceride - patient triglyceride level\n",
    "* HDL - patient high-density lipoprotein cholesterol level\n",
    "* LDL - patient low-density lipoprotein cholesterol level\n",
    "* hemoglobin - patient hemoglobin level\n",
    "* Urine protein - patinet protein in urine level\n",
    "* serum creatinine - patient serum creatinine level\n",
    "* AST - patient aspartate aminotransferase level\n",
    "* ALT - patient Alanine transaminase level\n",
    "* Gtp - patient Guanosine-5'-triphosphate level\n",
    "* dental caries - does patient have dental caries\n",
    "\n",
    "### Target variable\n",
    "* blood - patient systolic blood pressure"
   ]
  },
  {
   "cell_type": "markdown",
   "metadata": {},
   "source": [
    "# Read the dataset"
   ]
  },
  {
   "cell_type": "code",
   "execution_count": 3,
   "metadata": {
    "colab": {
     "base_uri": "https://localhost:8080/"
    },
    "id": "NNtbofJTIWqK",
    "outputId": "b50264fd-590b-4f63-b448-5634e12a31e6"
   },
   "outputs": [
    {
     "data": {
      "text/html": [
       "<div>\n",
       "<style scoped>\n",
       "    .dataframe tbody tr th:only-of-type {\n",
       "        vertical-align: middle;\n",
       "    }\n",
       "\n",
       "    .dataframe tbody tr th {\n",
       "        vertical-align: top;\n",
       "    }\n",
       "\n",
       "    .dataframe thead th {\n",
       "        text-align: right;\n",
       "    }\n",
       "</style>\n",
       "<table border=\"1\" class=\"dataframe\">\n",
       "  <thead>\n",
       "    <tr style=\"text-align: right;\">\n",
       "      <th></th>\n",
       "      <th>id</th>\n",
       "      <th>age</th>\n",
       "      <th>height(cm)</th>\n",
       "      <th>weight(kg)</th>\n",
       "      <th>relaxation</th>\n",
       "      <th>blood sugar</th>\n",
       "      <th>Cholesterol</th>\n",
       "      <th>triglyceride</th>\n",
       "      <th>HDL</th>\n",
       "      <th>LDL</th>\n",
       "      <th>hemoglobin</th>\n",
       "      <th>Urine protein</th>\n",
       "      <th>serum creatinine</th>\n",
       "      <th>AST</th>\n",
       "      <th>ALT</th>\n",
       "      <th>Gtp</th>\n",
       "      <th>dental caries</th>\n",
       "      <th>blood pressure</th>\n",
       "    </tr>\n",
       "  </thead>\n",
       "  <tbody>\n",
       "    <tr>\n",
       "      <th>0</th>\n",
       "      <td>NaN</td>\n",
       "      <td>NaN</td>\n",
       "      <td>180.0</td>\n",
       "      <td>65.0</td>\n",
       "      <td>70.0</td>\n",
       "      <td>NaN</td>\n",
       "      <td>149.0</td>\n",
       "      <td>NaN</td>\n",
       "      <td>NaN</td>\n",
       "      <td>87.0</td>\n",
       "      <td>13.9</td>\n",
       "      <td>1.0</td>\n",
       "      <td>NaN</td>\n",
       "      <td>19.0</td>\n",
       "      <td>NaN</td>\n",
       "      <td>NaN</td>\n",
       "      <td>No</td>\n",
       "      <td>112.0</td>\n",
       "    </tr>\n",
       "    <tr>\n",
       "      <th>1</th>\n",
       "      <td>57468.0</td>\n",
       "      <td>7/5/1979</td>\n",
       "      <td>150.0</td>\n",
       "      <td>50.0</td>\n",
       "      <td>88.0</td>\n",
       "      <td>92.0</td>\n",
       "      <td>219.0</td>\n",
       "      <td>LOW</td>\n",
       "      <td>NaN</td>\n",
       "      <td>137.0</td>\n",
       "      <td>13.2</td>\n",
       "      <td>NaN</td>\n",
       "      <td>0.6</td>\n",
       "      <td>26.0</td>\n",
       "      <td>17.0</td>\n",
       "      <td>NaN</td>\n",
       "      <td>No</td>\n",
       "      <td>138.0</td>\n",
       "    </tr>\n",
       "    <tr>\n",
       "      <th>2</th>\n",
       "      <td>55209.0</td>\n",
       "      <td>11/27/1954</td>\n",
       "      <td>175.0</td>\n",
       "      <td>75.0</td>\n",
       "      <td>NaN</td>\n",
       "      <td>NaN</td>\n",
       "      <td>217.0</td>\n",
       "      <td>NORMAL</td>\n",
       "      <td>50.0</td>\n",
       "      <td>142.0</td>\n",
       "      <td>NaN</td>\n",
       "      <td>1.0</td>\n",
       "      <td>0.8</td>\n",
       "      <td>22.0</td>\n",
       "      <td>22.0</td>\n",
       "      <td>NaN</td>\n",
       "      <td>No</td>\n",
       "      <td>137.0</td>\n",
       "    </tr>\n",
       "    <tr>\n",
       "      <th>3</th>\n",
       "      <td>3335.0</td>\n",
       "      <td>9/13/1984</td>\n",
       "      <td>160.0</td>\n",
       "      <td>NaN</td>\n",
       "      <td>NaN</td>\n",
       "      <td>100.0</td>\n",
       "      <td>160.0</td>\n",
       "      <td>HiGH</td>\n",
       "      <td>48.0</td>\n",
       "      <td>84.0</td>\n",
       "      <td>12.1</td>\n",
       "      <td>1.0</td>\n",
       "      <td>0.6</td>\n",
       "      <td>15.0</td>\n",
       "      <td>19.0</td>\n",
       "      <td>14.0</td>\n",
       "      <td>No</td>\n",
       "      <td>133.0</td>\n",
       "    </tr>\n",
       "    <tr>\n",
       "      <th>4</th>\n",
       "      <td>70782.0</td>\n",
       "      <td>8/15/1984</td>\n",
       "      <td>170.0</td>\n",
       "      <td>NaN</td>\n",
       "      <td>68.0</td>\n",
       "      <td>99.0</td>\n",
       "      <td>176.0</td>\n",
       "      <td>LOW</td>\n",
       "      <td>NaN</td>\n",
       "      <td>96.0</td>\n",
       "      <td>13.8</td>\n",
       "      <td>1.0</td>\n",
       "      <td>0.9</td>\n",
       "      <td>33.0</td>\n",
       "      <td>NaN</td>\n",
       "      <td>11.0</td>\n",
       "      <td>No</td>\n",
       "      <td>NaN</td>\n",
       "    </tr>\n",
       "  </tbody>\n",
       "</table>\n",
       "</div>"
      ],
      "text/plain": [
       "        id         age  height(cm)  weight(kg)  relaxation  blood sugar  \\\n",
       "0      NaN         NaN       180.0        65.0        70.0          NaN   \n",
       "1  57468.0    7/5/1979       150.0        50.0        88.0         92.0   \n",
       "2  55209.0  11/27/1954       175.0        75.0         NaN          NaN   \n",
       "3   3335.0   9/13/1984       160.0         NaN         NaN        100.0   \n",
       "4  70782.0   8/15/1984       170.0         NaN        68.0         99.0   \n",
       "\n",
       "   Cholesterol triglyceride   HDL    LDL  hemoglobin  Urine protein  \\\n",
       "0        149.0          NaN   NaN   87.0        13.9            1.0   \n",
       "1        219.0          LOW   NaN  137.0        13.2            NaN   \n",
       "2        217.0       NORMAL  50.0  142.0         NaN            1.0   \n",
       "3        160.0         HiGH  48.0   84.0        12.1            1.0   \n",
       "4        176.0          LOW   NaN   96.0        13.8            1.0   \n",
       "\n",
       "   serum creatinine   AST   ALT   Gtp dental caries  blood pressure  \n",
       "0               NaN  19.0   NaN   NaN            No           112.0  \n",
       "1               0.6  26.0  17.0   NaN            No           138.0  \n",
       "2               0.8  22.0  22.0   NaN            No           137.0  \n",
       "3               0.6  15.0  19.0  14.0            No           133.0  \n",
       "4               0.9  33.0   NaN  11.0            No             NaN  "
      ]
     },
     "execution_count": 3,
     "metadata": {},
     "output_type": "execute_result"
    }
   ],
   "source": [
    "# Write your code here. Add as many boxes as you need.\n",
    "data = pd.read_csv('blood_pressure_data.csv')\n",
    "data.head()"
   ]
  },
  {
   "cell_type": "markdown",
   "metadata": {
    "id": "5slwyyhCKRo9"
   },
   "source": [
    "Explore the dataset using visualizations of your choice."
   ]
  },
  {
   "cell_type": "code",
   "execution_count": 5,
   "metadata": {
    "id": "DFY6TKhGKOY4"
   },
   "outputs": [
    {
     "data": {
      "image/png": "[encoded data removed]",
      "text/plain": [
       "<Figure size 640x480 with 16 Axes>"
      ]
     },
     "metadata": {},
     "output_type": "display_data"
    }
   ],
   "source": [
    "# Write your code here. Add as many boxes as you need.\n",
    "data.hist()\n",
    "plt.show()"
   ]
  },
  {
   "cell_type": "markdown",
   "metadata": {
    "id": "KwGjJs4rLi0P"
   },
   "source": [
    "## Detecting Missing Values\n",
    "Calculate the percentage of missing values present in each column of the dataset."
   ]
  },
  {
   "cell_type": "code",
   "execution_count": 7,
   "metadata": {
    "id": "L1l_JV-nL3ND"
   },
   "outputs": [
    {
     "data": {
      "text/plain": [
       "id                  2672\n",
       "age                 2688\n",
       "height(cm)          2627\n",
       "weight(kg)          2556\n",
       "relaxation          2575\n",
       "blood sugar         2562\n",
       "Cholesterol         2614\n",
       "triglyceride        1356\n",
       "HDL                 2609\n",
       "LDL                 2642\n",
       "hemoglobin          2583\n",
       "Urine protein       2525\n",
       "serum creatinine    2567\n",
       "AST                 2573\n",
       "ALT                 2584\n",
       "Gtp                 2589\n",
       "dental caries          0\n",
       "blood pressure      2523\n",
       "dtype: int64"
      ]
     },
     "execution_count": 7,
     "metadata": {},
     "output_type": "execute_result"
    }
   ],
   "source": [
    "# Write your code here. Add as many boxes as you need.\n",
    "data.isnull().sum()"
   ]
  },
  {
   "cell_type": "code",
   "execution_count": 9,
   "metadata": {},
   "outputs": [
    {
     "data": {
      "text/plain": [
       "id                  26.72\n",
       "age                 26.88\n",
       "height(cm)          26.27\n",
       "weight(kg)          25.56\n",
       "relaxation          25.75\n",
       "blood sugar         25.62\n",
       "Cholesterol         26.14\n",
       "triglyceride        13.56\n",
       "HDL                 26.09\n",
       "LDL                 26.42\n",
       "hemoglobin          25.83\n",
       "Urine protein       25.25\n",
       "serum creatinine    25.67\n",
       "AST                 25.73\n",
       "ALT                 25.84\n",
       "Gtp                 25.89\n",
       "dental caries        0.00\n",
       "blood pressure      25.23\n",
       "dtype: float64"
      ]
     },
     "execution_count": 9,
     "metadata": {},
     "output_type": "execute_result"
    }
   ],
   "source": [
    "data.isnull().sum() / len(data) * 100"
   ]
  },
  {
   "cell_type": "markdown",
   "metadata": {
    "id": "_5n7SWKfL46j"
   },
   "source": [
    "## Understanding the Causes Behind Missing Values\n",
    "Using visualization tools such as heatmaps, and dendrograms, illustrate the interdependence between attributes with missing values. Also, visualize the distribution of the missing values within the dataset using matrices and bar charts. To achieve this use the `missingno` library."
   ]
  },
  {
   "cell_type": "code",
   "execution_count": 11,
   "metadata": {
    "id": "Wa7uzbI5L4kL"
   },
   "outputs": [
    {
     "data": {
      "image/png": "[encoded data removed]",
      "text/plain": [
       "<Figure size 2000x1200 with 2 Axes>"
      ]
     },
     "metadata": {},
     "output_type": "display_data"
    }
   ],
   "source": [
    "# Write your code here. Add as many boxes as you need.\n",
    "msno.heatmap(data)\n",
    "plt.show()"
   ]
  },
  {
   "cell_type": "code",
   "execution_count": 13,
   "metadata": {},
   "outputs": [
    {
     "data": {
      "image/png": "[encoded data removed]",
      "text/plain": [
       "<Figure size 640x480 with 16 Axes>"
      ]
     },
     "metadata": {},
     "output_type": "display_data"
    }
   ],
   "source": [
    "data.hist()\n",
    "plt.show()"
   ]
  },
  {
   "cell_type": "code",
   "execution_count": 15,
   "metadata": {},
   "outputs": [
    {
     "data": {
      "text/plain": [
       "id                  2672\n",
       "age                 2688\n",
       "height(cm)          2627\n",
       "weight(kg)          2556\n",
       "relaxation          2575\n",
       "blood sugar         2562\n",
       "Cholesterol         2614\n",
       "triglyceride        1356\n",
       "HDL                 2609\n",
       "LDL                 2642\n",
       "hemoglobin          2583\n",
       "Urine protein       2525\n",
       "serum creatinine    2567\n",
       "AST                 2573\n",
       "ALT                 2584\n",
       "Gtp                 2589\n",
       "dental caries          0\n",
       "blood pressure      2523\n",
       "dtype: int64"
      ]
     },
     "execution_count": 15,
     "metadata": {},
     "output_type": "execute_result"
    }
   ],
   "source": [
    "data.isnull().sum()"
   ]
  },
  {
   "cell_type": "code",
   "execution_count": null,
   "metadata": {},
   "outputs": [],
   "source": []
  },
  {
   "cell_type": "markdown",
   "metadata": {
    "id": "99Gjo6KhMKqt"
   },
   "source": [
    "## Handling the Missing Values\n",
    "Handle the missing values using suitable method based on the insights obtained from the various visualizations."
   ]
  },
  {
   "cell_type": "code",
   "execution_count": 17,
   "metadata": {
    "id": "urmTiMn2MKgV"
   },
   "outputs": [],
   "source": [
    "# Write your code here. Add as many boxes as you need.\n",
    "def impute(data,columns,strategy):\n",
    "    imp = SimpleImputer(strategy=strategy)\n",
    "    data_copy = data.copy()\n",
    "    for c in columns:\n",
    "        data_copy[c] = imp.fit_transform(data_copy[[c]]).ravel()\n",
    "    return data_copy"
   ]
  },
  {
   "cell_type": "code",
   "execution_count": 19,
   "metadata": {},
   "outputs": [],
   "source": [
    "def drop_data(data,columns):\n",
    "    data_copy = data.copy()\n",
    "    data_copy.drop(columns,axis=1,inplace=True)\n",
    "    return data_copy"
   ]
  },
  {
   "cell_type": "code",
   "execution_count": 21,
   "metadata": {},
   "outputs": [],
   "source": [
    "data = drop_data(data=data,columns=['id','age'])"
   ]
  },
  {
   "cell_type": "code",
   "execution_count": 23,
   "metadata": {},
   "outputs": [
    {
     "data": {
      "text/html": [
       "<div>\n",
       "<style scoped>\n",
       "    .dataframe tbody tr th:only-of-type {\n",
       "        vertical-align: middle;\n",
       "    }\n",
       "\n",
       "    .dataframe tbody tr th {\n",
       "        vertical-align: top;\n",
       "    }\n",
       "\n",
       "    .dataframe thead th {\n",
       "        text-align: right;\n",
       "    }\n",
       "</style>\n",
       "<table border=\"1\" class=\"dataframe\">\n",
       "  <thead>\n",
       "    <tr style=\"text-align: right;\">\n",
       "      <th></th>\n",
       "      <th>height(cm)</th>\n",
       "      <th>weight(kg)</th>\n",
       "      <th>relaxation</th>\n",
       "      <th>blood sugar</th>\n",
       "      <th>Cholesterol</th>\n",
       "      <th>triglyceride</th>\n",
       "      <th>HDL</th>\n",
       "      <th>LDL</th>\n",
       "      <th>hemoglobin</th>\n",
       "      <th>Urine protein</th>\n",
       "      <th>serum creatinine</th>\n",
       "      <th>AST</th>\n",
       "      <th>ALT</th>\n",
       "      <th>Gtp</th>\n",
       "      <th>dental caries</th>\n",
       "      <th>blood pressure</th>\n",
       "    </tr>\n",
       "  </thead>\n",
       "  <tbody>\n",
       "    <tr>\n",
       "      <th>0</th>\n",
       "      <td>180.0</td>\n",
       "      <td>65.0</td>\n",
       "      <td>70.0</td>\n",
       "      <td>NaN</td>\n",
       "      <td>149.0</td>\n",
       "      <td>NaN</td>\n",
       "      <td>NaN</td>\n",
       "      <td>87.0</td>\n",
       "      <td>13.9</td>\n",
       "      <td>1.0</td>\n",
       "      <td>NaN</td>\n",
       "      <td>19.0</td>\n",
       "      <td>NaN</td>\n",
       "      <td>NaN</td>\n",
       "      <td>No</td>\n",
       "      <td>112.0</td>\n",
       "    </tr>\n",
       "    <tr>\n",
       "      <th>1</th>\n",
       "      <td>150.0</td>\n",
       "      <td>50.0</td>\n",
       "      <td>88.0</td>\n",
       "      <td>92.0</td>\n",
       "      <td>219.0</td>\n",
       "      <td>LOW</td>\n",
       "      <td>NaN</td>\n",
       "      <td>137.0</td>\n",
       "      <td>13.2</td>\n",
       "      <td>NaN</td>\n",
       "      <td>0.6</td>\n",
       "      <td>26.0</td>\n",
       "      <td>17.0</td>\n",
       "      <td>NaN</td>\n",
       "      <td>No</td>\n",
       "      <td>138.0</td>\n",
       "    </tr>\n",
       "    <tr>\n",
       "      <th>2</th>\n",
       "      <td>175.0</td>\n",
       "      <td>75.0</td>\n",
       "      <td>NaN</td>\n",
       "      <td>NaN</td>\n",
       "      <td>217.0</td>\n",
       "      <td>NORMAL</td>\n",
       "      <td>50.0</td>\n",
       "      <td>142.0</td>\n",
       "      <td>NaN</td>\n",
       "      <td>1.0</td>\n",
       "      <td>0.8</td>\n",
       "      <td>22.0</td>\n",
       "      <td>22.0</td>\n",
       "      <td>NaN</td>\n",
       "      <td>No</td>\n",
       "      <td>137.0</td>\n",
       "    </tr>\n",
       "    <tr>\n",
       "      <th>3</th>\n",
       "      <td>160.0</td>\n",
       "      <td>NaN</td>\n",
       "      <td>NaN</td>\n",
       "      <td>100.0</td>\n",
       "      <td>160.0</td>\n",
       "      <td>HiGH</td>\n",
       "      <td>48.0</td>\n",
       "      <td>84.0</td>\n",
       "      <td>12.1</td>\n",
       "      <td>1.0</td>\n",
       "      <td>0.6</td>\n",
       "      <td>15.0</td>\n",
       "      <td>19.0</td>\n",
       "      <td>14.0</td>\n",
       "      <td>No</td>\n",
       "      <td>133.0</td>\n",
       "    </tr>\n",
       "    <tr>\n",
       "      <th>4</th>\n",
       "      <td>170.0</td>\n",
       "      <td>NaN</td>\n",
       "      <td>68.0</td>\n",
       "      <td>99.0</td>\n",
       "      <td>176.0</td>\n",
       "      <td>LOW</td>\n",
       "      <td>NaN</td>\n",
       "      <td>96.0</td>\n",
       "      <td>13.8</td>\n",
       "      <td>1.0</td>\n",
       "      <td>0.9</td>\n",
       "      <td>33.0</td>\n",
       "      <td>NaN</td>\n",
       "      <td>11.0</td>\n",
       "      <td>No</td>\n",
       "      <td>NaN</td>\n",
       "    </tr>\n",
       "  </tbody>\n",
       "</table>\n",
       "</div>"
      ],
      "text/plain": [
       "   height(cm)  weight(kg)  relaxation  blood sugar  Cholesterol triglyceride  \\\n",
       "0       180.0        65.0        70.0          NaN        149.0          NaN   \n",
       "1       150.0        50.0        88.0         92.0        219.0          LOW   \n",
       "2       175.0        75.0         NaN          NaN        217.0       NORMAL   \n",
       "3       160.0         NaN         NaN        100.0        160.0         HiGH   \n",
       "4       170.0         NaN        68.0         99.0        176.0          LOW   \n",
       "\n",
       "    HDL    LDL  hemoglobin  Urine protein  serum creatinine   AST   ALT   Gtp  \\\n",
       "0   NaN   87.0        13.9            1.0               NaN  19.0   NaN   NaN   \n",
       "1   NaN  137.0        13.2            NaN               0.6  26.0  17.0   NaN   \n",
       "2  50.0  142.0         NaN            1.0               0.8  22.0  22.0   NaN   \n",
       "3  48.0   84.0        12.1            1.0               0.6  15.0  19.0  14.0   \n",
       "4   NaN   96.0        13.8            1.0               0.9  33.0   NaN  11.0   \n",
       "\n",
       "  dental caries  blood pressure  \n",
       "0            No           112.0  \n",
       "1            No           138.0  \n",
       "2            No           137.0  \n",
       "3            No           133.0  \n",
       "4            No             NaN  "
      ]
     },
     "execution_count": 23,
     "metadata": {},
     "output_type": "execute_result"
    }
   ],
   "source": [
    "data.head()"
   ]
  },
  {
   "cell_type": "code",
   "execution_count": 25,
   "metadata": {},
   "outputs": [
    {
     "data": {
      "text/plain": [
       "-0.06228552806876035"
      ]
     },
     "execution_count": 25,
     "metadata": {},
     "output_type": "execute_result"
    }
   ],
   "source": [
    "data['height(cm)'].skew()"
   ]
  },
  {
   "cell_type": "code",
   "execution_count": 27,
   "metadata": {},
   "outputs": [
    {
     "data": {
      "text/plain": [
       "0.47264438323643454"
      ]
     },
     "execution_count": 27,
     "metadata": {},
     "output_type": "execute_result"
    }
   ],
   "source": [
    "data['weight(kg)'].skew()"
   ]
  },
  {
   "cell_type": "code",
   "execution_count": 29,
   "metadata": {},
   "outputs": [
    {
     "data": {
      "text/plain": [
       "0.16534348594317055"
      ]
     },
     "execution_count": 29,
     "metadata": {},
     "output_type": "execute_result"
    }
   ],
   "source": [
    "data['relaxation'].skew()"
   ]
  },
  {
   "cell_type": "code",
   "execution_count": 31,
   "metadata": {},
   "outputs": [
    {
     "data": {
      "text/plain": [
       "3.383119833322478"
      ]
     },
     "execution_count": 31,
     "metadata": {},
     "output_type": "execute_result"
    }
   ],
   "source": [
    "data['blood sugar'].skew()"
   ]
  },
  {
   "cell_type": "code",
   "execution_count": 33,
   "metadata": {},
   "outputs": [
    {
     "data": {
      "text/plain": [
       "0.06996129921984517"
      ]
     },
     "execution_count": 33,
     "metadata": {},
     "output_type": "execute_result"
    }
   ],
   "source": [
    "data['Cholesterol'].skew()"
   ]
  },
  {
   "cell_type": "code",
   "execution_count": 35,
   "metadata": {},
   "outputs": [
    {
     "data": {
      "text/plain": [
       "0.646928327530015"
      ]
     },
     "execution_count": 35,
     "metadata": {},
     "output_type": "execute_result"
    }
   ],
   "source": [
    "data['HDL'].skew()"
   ]
  },
  {
   "cell_type": "code",
   "execution_count": 37,
   "metadata": {},
   "outputs": [
    {
     "data": {
      "text/plain": [
       "15.946589651994655"
      ]
     },
     "execution_count": 37,
     "metadata": {},
     "output_type": "execute_result"
    }
   ],
   "source": [
    "data['LDL'].skew()"
   ]
  },
  {
   "cell_type": "code",
   "execution_count": 39,
   "metadata": {},
   "outputs": [
    {
     "data": {
      "text/plain": [
       "-0.5016788381957651"
      ]
     },
     "execution_count": 39,
     "metadata": {},
     "output_type": "execute_result"
    }
   ],
   "source": [
    "data['hemoglobin'].skew()"
   ]
  },
  {
   "cell_type": "code",
   "execution_count": 41,
   "metadata": {},
   "outputs": [
    {
     "data": {
      "text/plain": [
       "5.65197146346618"
      ]
     },
     "execution_count": 41,
     "metadata": {},
     "output_type": "execute_result"
    }
   ],
   "source": [
    "data['Urine protein'].skew()"
   ]
  },
  {
   "cell_type": "code",
   "execution_count": 43,
   "metadata": {},
   "outputs": [
    {
     "data": {
      "text/plain": [
       "0.6875041108056494"
      ]
     },
     "execution_count": 43,
     "metadata": {},
     "output_type": "execute_result"
    }
   ],
   "source": [
    "data['serum creatinine'].skew()"
   ]
  },
  {
   "cell_type": "code",
   "execution_count": 45,
   "metadata": {},
   "outputs": [
    {
     "data": {
      "text/plain": [
       "2.283305319696595"
      ]
     },
     "execution_count": 45,
     "metadata": {},
     "output_type": "execute_result"
    }
   ],
   "source": [
    "data['AST'].skew()"
   ]
  },
  {
   "cell_type": "code",
   "execution_count": 47,
   "metadata": {},
   "outputs": [
    {
     "data": {
      "text/plain": [
       "2.8491787981647074"
      ]
     },
     "execution_count": 47,
     "metadata": {},
     "output_type": "execute_result"
    }
   ],
   "source": [
    "data['ALT'].skew()"
   ]
  },
  {
   "cell_type": "code",
   "execution_count": 49,
   "metadata": {},
   "outputs": [
    {
     "data": {
      "text/plain": [
       "5.058540776085521"
      ]
     },
     "execution_count": 49,
     "metadata": {},
     "output_type": "execute_result"
    }
   ],
   "source": [
    "data['Gtp'].skew()"
   ]
  },
  {
   "cell_type": "code",
   "execution_count": 51,
   "metadata": {},
   "outputs": [],
   "source": [
    "data = impute(data=data,columns=['height(cm)','weight(kg)','relaxation','Cholesterol','hemoglobin'],strategy='mean')"
   ]
  },
  {
   "cell_type": "code",
   "execution_count": 53,
   "metadata": {},
   "outputs": [
    {
     "data": {
      "text/plain": [
       "height(cm)             0\n",
       "weight(kg)             0\n",
       "relaxation             0\n",
       "blood sugar         2562\n",
       "Cholesterol            0\n",
       "triglyceride        1356\n",
       "HDL                 2609\n",
       "LDL                 2642\n",
       "hemoglobin             0\n",
       "Urine protein       2525\n",
       "serum creatinine    2567\n",
       "AST                 2573\n",
       "ALT                 2584\n",
       "Gtp                 2589\n",
       "dental caries          0\n",
       "blood pressure      2523\n",
       "dtype: int64"
      ]
     },
     "execution_count": 53,
     "metadata": {},
     "output_type": "execute_result"
    }
   ],
   "source": [
    "data.isnull().sum()"
   ]
  },
  {
   "cell_type": "code",
   "execution_count": 55,
   "metadata": {},
   "outputs": [],
   "source": [
    "data = impute(data=data,columns=['blood sugar','HDL','LDL','Urine protein','serum creatinine','AST','ALT','Gtp'],strategy='median')"
   ]
  },
  {
   "cell_type": "code",
   "execution_count": 57,
   "metadata": {},
   "outputs": [
    {
     "data": {
      "text/plain": [
       "height(cm)             0\n",
       "weight(kg)             0\n",
       "relaxation             0\n",
       "blood sugar            0\n",
       "Cholesterol            0\n",
       "triglyceride        1356\n",
       "HDL                    0\n",
       "LDL                    0\n",
       "hemoglobin             0\n",
       "Urine protein          0\n",
       "serum creatinine       0\n",
       "AST                    0\n",
       "ALT                    0\n",
       "Gtp                    0\n",
       "dental caries          0\n",
       "blood pressure      2523\n",
       "dtype: int64"
      ]
     },
     "execution_count": 57,
     "metadata": {},
     "output_type": "execute_result"
    }
   ],
   "source": [
    "data.isnull().sum()"
   ]
  },
  {
   "cell_type": "code",
   "execution_count": 59,
   "metadata": {},
   "outputs": [],
   "source": [
    "data.dropna(subset=['blood pressure'],inplace=True)"
   ]
  },
  {
   "cell_type": "code",
   "execution_count": 61,
   "metadata": {},
   "outputs": [
    {
     "data": {
      "text/plain": [
       "height(cm)             0\n",
       "weight(kg)             0\n",
       "relaxation             0\n",
       "blood sugar            0\n",
       "Cholesterol            0\n",
       "triglyceride        1007\n",
       "HDL                    0\n",
       "LDL                    0\n",
       "hemoglobin             0\n",
       "Urine protein          0\n",
       "serum creatinine       0\n",
       "AST                    0\n",
       "ALT                    0\n",
       "Gtp                    0\n",
       "dental caries          0\n",
       "blood pressure         0\n",
       "dtype: int64"
      ]
     },
     "execution_count": 61,
     "metadata": {},
     "output_type": "execute_result"
    }
   ],
   "source": [
    "data.isnull().sum()"
   ]
  },
  {
   "cell_type": "code",
   "execution_count": 71,
   "metadata": {},
   "outputs": [],
   "source": [
    "#imp = SimpleImputer(strategy='most_frequent')\n",
    "#data['triglyceride'] = imp.fit_transform(data[['triglyceride']]).ravel()\n",
    "data = impute(data=data,columns=['triglyceride'],strategy='most_frequent')\n"
   ]
  },
  {
   "cell_type": "code",
   "execution_count": 73,
   "metadata": {},
   "outputs": [
    {
     "data": {
      "text/plain": [
       "height(cm)          0\n",
       "weight(kg)          0\n",
       "relaxation          0\n",
       "blood sugar         0\n",
       "Cholesterol         0\n",
       "triglyceride        0\n",
       "HDL                 0\n",
       "LDL                 0\n",
       "hemoglobin          0\n",
       "Urine protein       0\n",
       "serum creatinine    0\n",
       "AST                 0\n",
       "ALT                 0\n",
       "Gtp                 0\n",
       "dental caries       0\n",
       "blood pressure      0\n",
       "dtype: int64"
      ]
     },
     "execution_count": 73,
     "metadata": {},
     "output_type": "execute_result"
    }
   ],
   "source": [
    "data.isnull().sum()"
   ]
  },
  {
   "cell_type": "code",
   "execution_count": null,
   "metadata": {},
   "outputs": [],
   "source": []
  },
  {
   "cell_type": "code",
   "execution_count": 75,
   "metadata": {},
   "outputs": [
    {
     "data": {
      "text/plain": [
       "height(cm)          0\n",
       "weight(kg)          0\n",
       "relaxation          0\n",
       "blood sugar         0\n",
       "Cholesterol         0\n",
       "triglyceride        0\n",
       "HDL                 0\n",
       "LDL                 0\n",
       "hemoglobin          0\n",
       "Urine protein       0\n",
       "serum creatinine    0\n",
       "AST                 0\n",
       "ALT                 0\n",
       "Gtp                 0\n",
       "dental caries       0\n",
       "blood pressure      0\n",
       "dtype: int64"
      ]
     },
     "execution_count": 75,
     "metadata": {},
     "output_type": "execute_result"
    }
   ],
   "source": [
    "data.isnull().sum()"
   ]
  },
  {
   "cell_type": "code",
   "execution_count": 77,
   "metadata": {},
   "outputs": [
    {
     "data": {
      "text/html": [
       "<div>\n",
       "<style scoped>\n",
       "    .dataframe tbody tr th:only-of-type {\n",
       "        vertical-align: middle;\n",
       "    }\n",
       "\n",
       "    .dataframe tbody tr th {\n",
       "        vertical-align: top;\n",
       "    }\n",
       "\n",
       "    .dataframe thead th {\n",
       "        text-align: right;\n",
       "    }\n",
       "</style>\n",
       "<table border=\"1\" class=\"dataframe\">\n",
       "  <thead>\n",
       "    <tr style=\"text-align: right;\">\n",
       "      <th></th>\n",
       "      <th>height(cm)</th>\n",
       "      <th>weight(kg)</th>\n",
       "      <th>relaxation</th>\n",
       "      <th>blood sugar</th>\n",
       "      <th>Cholesterol</th>\n",
       "      <th>triglyceride</th>\n",
       "      <th>HDL</th>\n",
       "      <th>LDL</th>\n",
       "      <th>hemoglobin</th>\n",
       "      <th>Urine protein</th>\n",
       "      <th>serum creatinine</th>\n",
       "      <th>AST</th>\n",
       "      <th>ALT</th>\n",
       "      <th>Gtp</th>\n",
       "      <th>dental caries</th>\n",
       "      <th>blood pressure</th>\n",
       "    </tr>\n",
       "  </thead>\n",
       "  <tbody>\n",
       "    <tr>\n",
       "      <th>1932</th>\n",
       "      <td>163.680998</td>\n",
       "      <td>65.355991</td>\n",
       "      <td>70.000000</td>\n",
       "      <td>95.0</td>\n",
       "      <td>200.000000</td>\n",
       "      <td>NORMAL</td>\n",
       "      <td>53.0</td>\n",
       "      <td>123.0</td>\n",
       "      <td>13.900000</td>\n",
       "      <td>1.0</td>\n",
       "      <td>0.6</td>\n",
       "      <td>23.0</td>\n",
       "      <td>17.0</td>\n",
       "      <td>25.0</td>\n",
       "      <td>No</td>\n",
       "      <td>110.0</td>\n",
       "    </tr>\n",
       "    <tr>\n",
       "      <th>3072</th>\n",
       "      <td>163.680998</td>\n",
       "      <td>65.000000</td>\n",
       "      <td>71.000000</td>\n",
       "      <td>110.0</td>\n",
       "      <td>223.000000</td>\n",
       "      <td>UNK</td>\n",
       "      <td>55.0</td>\n",
       "      <td>115.0</td>\n",
       "      <td>14.100000</td>\n",
       "      <td>1.0</td>\n",
       "      <td>1.1</td>\n",
       "      <td>23.0</td>\n",
       "      <td>34.0</td>\n",
       "      <td>55.0</td>\n",
       "      <td>No</td>\n",
       "      <td>125.0</td>\n",
       "    </tr>\n",
       "    <tr>\n",
       "      <th>8568</th>\n",
       "      <td>163.680998</td>\n",
       "      <td>60.000000</td>\n",
       "      <td>110.000000</td>\n",
       "      <td>110.0</td>\n",
       "      <td>192.000000</td>\n",
       "      <td>HiGH</td>\n",
       "      <td>58.0</td>\n",
       "      <td>97.0</td>\n",
       "      <td>12.200000</td>\n",
       "      <td>1.0</td>\n",
       "      <td>0.8</td>\n",
       "      <td>12.0</td>\n",
       "      <td>13.0</td>\n",
       "      <td>9.0</td>\n",
       "      <td>Yes</td>\n",
       "      <td>170.0</td>\n",
       "    </tr>\n",
       "    <tr>\n",
       "      <th>3460</th>\n",
       "      <td>175.000000</td>\n",
       "      <td>65.355991</td>\n",
       "      <td>78.000000</td>\n",
       "      <td>89.0</td>\n",
       "      <td>202.000000</td>\n",
       "      <td>LOW</td>\n",
       "      <td>46.0</td>\n",
       "      <td>140.0</td>\n",
       "      <td>16.600000</td>\n",
       "      <td>2.0</td>\n",
       "      <td>0.9</td>\n",
       "      <td>19.0</td>\n",
       "      <td>23.0</td>\n",
       "      <td>24.0</td>\n",
       "      <td>No</td>\n",
       "      <td>120.0</td>\n",
       "    </tr>\n",
       "    <tr>\n",
       "      <th>5741</th>\n",
       "      <td>163.680998</td>\n",
       "      <td>65.355991</td>\n",
       "      <td>75.000000</td>\n",
       "      <td>96.0</td>\n",
       "      <td>238.000000</td>\n",
       "      <td>LOW</td>\n",
       "      <td>75.0</td>\n",
       "      <td>144.0</td>\n",
       "      <td>13.700000</td>\n",
       "      <td>1.0</td>\n",
       "      <td>0.7</td>\n",
       "      <td>17.0</td>\n",
       "      <td>12.0</td>\n",
       "      <td>32.0</td>\n",
       "      <td>No</td>\n",
       "      <td>113.0</td>\n",
       "    </tr>\n",
       "    <tr>\n",
       "      <th>6625</th>\n",
       "      <td>160.000000</td>\n",
       "      <td>65.355991</td>\n",
       "      <td>76.469091</td>\n",
       "      <td>80.0</td>\n",
       "      <td>196.217845</td>\n",
       "      <td>LOW</td>\n",
       "      <td>46.0</td>\n",
       "      <td>115.0</td>\n",
       "      <td>14.600000</td>\n",
       "      <td>1.0</td>\n",
       "      <td>1.1</td>\n",
       "      <td>25.0</td>\n",
       "      <td>17.0</td>\n",
       "      <td>26.0</td>\n",
       "      <td>No</td>\n",
       "      <td>124.0</td>\n",
       "    </tr>\n",
       "    <tr>\n",
       "      <th>3685</th>\n",
       "      <td>163.680998</td>\n",
       "      <td>70.000000</td>\n",
       "      <td>70.000000</td>\n",
       "      <td>95.0</td>\n",
       "      <td>152.000000</td>\n",
       "      <td>LOW</td>\n",
       "      <td>55.0</td>\n",
       "      <td>115.0</td>\n",
       "      <td>14.800000</td>\n",
       "      <td>1.0</td>\n",
       "      <td>0.8</td>\n",
       "      <td>20.0</td>\n",
       "      <td>21.0</td>\n",
       "      <td>17.0</td>\n",
       "      <td>No</td>\n",
       "      <td>114.0</td>\n",
       "    </tr>\n",
       "    <tr>\n",
       "      <th>3832</th>\n",
       "      <td>155.000000</td>\n",
       "      <td>60.000000</td>\n",
       "      <td>76.469091</td>\n",
       "      <td>114.0</td>\n",
       "      <td>196.217845</td>\n",
       "      <td>LOW</td>\n",
       "      <td>86.0</td>\n",
       "      <td>115.0</td>\n",
       "      <td>14.300000</td>\n",
       "      <td>1.0</td>\n",
       "      <td>0.9</td>\n",
       "      <td>21.0</td>\n",
       "      <td>14.0</td>\n",
       "      <td>25.0</td>\n",
       "      <td>No</td>\n",
       "      <td>131.0</td>\n",
       "    </tr>\n",
       "    <tr>\n",
       "      <th>3357</th>\n",
       "      <td>163.680998</td>\n",
       "      <td>50.000000</td>\n",
       "      <td>75.000000</td>\n",
       "      <td>76.0</td>\n",
       "      <td>196.217845</td>\n",
       "      <td>LOW</td>\n",
       "      <td>55.0</td>\n",
       "      <td>100.0</td>\n",
       "      <td>10.100000</td>\n",
       "      <td>1.0</td>\n",
       "      <td>0.7</td>\n",
       "      <td>16.0</td>\n",
       "      <td>10.0</td>\n",
       "      <td>14.0</td>\n",
       "      <td>No</td>\n",
       "      <td>123.0</td>\n",
       "    </tr>\n",
       "    <tr>\n",
       "      <th>8070</th>\n",
       "      <td>165.000000</td>\n",
       "      <td>65.000000</td>\n",
       "      <td>70.000000</td>\n",
       "      <td>95.0</td>\n",
       "      <td>247.000000</td>\n",
       "      <td>LOW</td>\n",
       "      <td>71.0</td>\n",
       "      <td>161.0</td>\n",
       "      <td>13.200000</td>\n",
       "      <td>1.0</td>\n",
       "      <td>0.9</td>\n",
       "      <td>32.0</td>\n",
       "      <td>32.0</td>\n",
       "      <td>25.0</td>\n",
       "      <td>No</td>\n",
       "      <td>106.0</td>\n",
       "    </tr>\n",
       "    <tr>\n",
       "      <th>3987</th>\n",
       "      <td>165.000000</td>\n",
       "      <td>65.355991</td>\n",
       "      <td>84.000000</td>\n",
       "      <td>109.0</td>\n",
       "      <td>255.000000</td>\n",
       "      <td>LOW</td>\n",
       "      <td>64.0</td>\n",
       "      <td>169.0</td>\n",
       "      <td>14.200000</td>\n",
       "      <td>1.0</td>\n",
       "      <td>0.9</td>\n",
       "      <td>25.0</td>\n",
       "      <td>21.0</td>\n",
       "      <td>15.0</td>\n",
       "      <td>No</td>\n",
       "      <td>134.0</td>\n",
       "    </tr>\n",
       "    <tr>\n",
       "      <th>5656</th>\n",
       "      <td>170.000000</td>\n",
       "      <td>75.000000</td>\n",
       "      <td>76.469091</td>\n",
       "      <td>95.0</td>\n",
       "      <td>196.217845</td>\n",
       "      <td>LOW</td>\n",
       "      <td>55.0</td>\n",
       "      <td>102.0</td>\n",
       "      <td>14.567723</td>\n",
       "      <td>1.0</td>\n",
       "      <td>1.4</td>\n",
       "      <td>23.0</td>\n",
       "      <td>20.0</td>\n",
       "      <td>25.0</td>\n",
       "      <td>No</td>\n",
       "      <td>126.0</td>\n",
       "    </tr>\n",
       "    <tr>\n",
       "      <th>6986</th>\n",
       "      <td>145.000000</td>\n",
       "      <td>45.000000</td>\n",
       "      <td>75.000000</td>\n",
       "      <td>77.0</td>\n",
       "      <td>196.217845</td>\n",
       "      <td>LOW</td>\n",
       "      <td>68.0</td>\n",
       "      <td>96.0</td>\n",
       "      <td>13.800000</td>\n",
       "      <td>1.0</td>\n",
       "      <td>0.9</td>\n",
       "      <td>22.0</td>\n",
       "      <td>20.0</td>\n",
       "      <td>25.0</td>\n",
       "      <td>No</td>\n",
       "      <td>118.0</td>\n",
       "    </tr>\n",
       "    <tr>\n",
       "      <th>1176</th>\n",
       "      <td>150.000000</td>\n",
       "      <td>45.000000</td>\n",
       "      <td>76.469091</td>\n",
       "      <td>85.0</td>\n",
       "      <td>181.000000</td>\n",
       "      <td>LOW</td>\n",
       "      <td>69.0</td>\n",
       "      <td>102.0</td>\n",
       "      <td>12.600000</td>\n",
       "      <td>1.0</td>\n",
       "      <td>0.8</td>\n",
       "      <td>23.0</td>\n",
       "      <td>45.0</td>\n",
       "      <td>37.0</td>\n",
       "      <td>No</td>\n",
       "      <td>133.0</td>\n",
       "    </tr>\n",
       "    <tr>\n",
       "      <th>1124</th>\n",
       "      <td>165.000000</td>\n",
       "      <td>85.000000</td>\n",
       "      <td>88.000000</td>\n",
       "      <td>99.0</td>\n",
       "      <td>237.000000</td>\n",
       "      <td>NORMAL</td>\n",
       "      <td>58.0</td>\n",
       "      <td>154.0</td>\n",
       "      <td>14.600000</td>\n",
       "      <td>1.0</td>\n",
       "      <td>0.8</td>\n",
       "      <td>20.0</td>\n",
       "      <td>27.0</td>\n",
       "      <td>37.0</td>\n",
       "      <td>No</td>\n",
       "      <td>139.0</td>\n",
       "    </tr>\n",
       "    <tr>\n",
       "      <th>9092</th>\n",
       "      <td>170.000000</td>\n",
       "      <td>80.000000</td>\n",
       "      <td>76.469091</td>\n",
       "      <td>108.0</td>\n",
       "      <td>163.000000</td>\n",
       "      <td>UNK</td>\n",
       "      <td>35.0</td>\n",
       "      <td>100.0</td>\n",
       "      <td>14.200000</td>\n",
       "      <td>1.0</td>\n",
       "      <td>0.9</td>\n",
       "      <td>32.0</td>\n",
       "      <td>31.0</td>\n",
       "      <td>23.0</td>\n",
       "      <td>No</td>\n",
       "      <td>129.0</td>\n",
       "    </tr>\n",
       "    <tr>\n",
       "      <th>6477</th>\n",
       "      <td>155.000000</td>\n",
       "      <td>55.000000</td>\n",
       "      <td>77.000000</td>\n",
       "      <td>104.0</td>\n",
       "      <td>225.000000</td>\n",
       "      <td>LOW</td>\n",
       "      <td>55.0</td>\n",
       "      <td>122.0</td>\n",
       "      <td>14.100000</td>\n",
       "      <td>1.0</td>\n",
       "      <td>0.5</td>\n",
       "      <td>23.0</td>\n",
       "      <td>23.0</td>\n",
       "      <td>63.0</td>\n",
       "      <td>No</td>\n",
       "      <td>123.0</td>\n",
       "    </tr>\n",
       "    <tr>\n",
       "      <th>7021</th>\n",
       "      <td>170.000000</td>\n",
       "      <td>65.355991</td>\n",
       "      <td>76.469091</td>\n",
       "      <td>91.0</td>\n",
       "      <td>258.000000</td>\n",
       "      <td>LOW</td>\n",
       "      <td>55.0</td>\n",
       "      <td>131.0</td>\n",
       "      <td>15.600000</td>\n",
       "      <td>1.0</td>\n",
       "      <td>1.1</td>\n",
       "      <td>62.0</td>\n",
       "      <td>21.0</td>\n",
       "      <td>25.0</td>\n",
       "      <td>No</td>\n",
       "      <td>108.0</td>\n",
       "    </tr>\n",
       "    <tr>\n",
       "      <th>1295</th>\n",
       "      <td>175.000000</td>\n",
       "      <td>75.000000</td>\n",
       "      <td>76.469091</td>\n",
       "      <td>92.0</td>\n",
       "      <td>222.000000</td>\n",
       "      <td>NORMAL</td>\n",
       "      <td>59.0</td>\n",
       "      <td>140.0</td>\n",
       "      <td>16.300000</td>\n",
       "      <td>1.0</td>\n",
       "      <td>1.0</td>\n",
       "      <td>26.0</td>\n",
       "      <td>18.0</td>\n",
       "      <td>38.0</td>\n",
       "      <td>No</td>\n",
       "      <td>116.0</td>\n",
       "    </tr>\n",
       "    <tr>\n",
       "      <th>2956</th>\n",
       "      <td>170.000000</td>\n",
       "      <td>80.000000</td>\n",
       "      <td>76.469091</td>\n",
       "      <td>100.0</td>\n",
       "      <td>223.000000</td>\n",
       "      <td>NORMAL</td>\n",
       "      <td>54.0</td>\n",
       "      <td>115.0</td>\n",
       "      <td>15.300000</td>\n",
       "      <td>1.0</td>\n",
       "      <td>1.1</td>\n",
       "      <td>23.0</td>\n",
       "      <td>21.0</td>\n",
       "      <td>25.0</td>\n",
       "      <td>No</td>\n",
       "      <td>125.0</td>\n",
       "    </tr>\n",
       "  </tbody>\n",
       "</table>\n",
       "</div>"
      ],
      "text/plain": [
       "      height(cm)  weight(kg)  relaxation  blood sugar  Cholesterol  \\\n",
       "1932  163.680998   65.355991   70.000000         95.0   200.000000   \n",
       "3072  163.680998   65.000000   71.000000        110.0   223.000000   \n",
       "8568  163.680998   60.000000  110.000000        110.0   192.000000   \n",
       "3460  175.000000   65.355991   78.000000         89.0   202.000000   \n",
       "5741  163.680998   65.355991   75.000000         96.0   238.000000   \n",
       "6625  160.000000   65.355991   76.469091         80.0   196.217845   \n",
       "3685  163.680998   70.000000   70.000000         95.0   152.000000   \n",
       "3832  155.000000   60.000000   76.469091        114.0   196.217845   \n",
       "3357  163.680998   50.000000   75.000000         76.0   196.217845   \n",
       "8070  165.000000   65.000000   70.000000         95.0   247.000000   \n",
       "3987  165.000000   65.355991   84.000000        109.0   255.000000   \n",
       "5656  170.000000   75.000000   76.469091         95.0   196.217845   \n",
       "6986  145.000000   45.000000   75.000000         77.0   196.217845   \n",
       "1176  150.000000   45.000000   76.469091         85.0   181.000000   \n",
       "1124  165.000000   85.000000   88.000000         99.0   237.000000   \n",
       "9092  170.000000   80.000000   76.469091        108.0   163.000000   \n",
       "6477  155.000000   55.000000   77.000000        104.0   225.000000   \n",
       "7021  170.000000   65.355991   76.469091         91.0   258.000000   \n",
       "1295  175.000000   75.000000   76.469091         92.0   222.000000   \n",
       "2956  170.000000   80.000000   76.469091        100.0   223.000000   \n",
       "\n",
       "     triglyceride   HDL    LDL  hemoglobin  Urine protein  serum creatinine  \\\n",
       "1932       NORMAL  53.0  123.0   13.900000            1.0               0.6   \n",
       "3072          UNK  55.0  115.0   14.100000            1.0               1.1   \n",
       "8568         HiGH  58.0   97.0   12.200000            1.0               0.8   \n",
       "3460          LOW  46.0  140.0   16.600000            2.0               0.9   \n",
       "5741          LOW  75.0  144.0   13.700000            1.0               0.7   \n",
       "6625          LOW  46.0  115.0   14.600000            1.0               1.1   \n",
       "3685          LOW  55.0  115.0   14.800000            1.0               0.8   \n",
       "3832          LOW  86.0  115.0   14.300000            1.0               0.9   \n",
       "3357          LOW  55.0  100.0   10.100000            1.0               0.7   \n",
       "8070          LOW  71.0  161.0   13.200000            1.0               0.9   \n",
       "3987          LOW  64.0  169.0   14.200000            1.0               0.9   \n",
       "5656          LOW  55.0  102.0   14.567723            1.0               1.4   \n",
       "6986          LOW  68.0   96.0   13.800000            1.0               0.9   \n",
       "1176          LOW  69.0  102.0   12.600000            1.0               0.8   \n",
       "1124       NORMAL  58.0  154.0   14.600000            1.0               0.8   \n",
       "9092          UNK  35.0  100.0   14.200000            1.0               0.9   \n",
       "6477          LOW  55.0  122.0   14.100000            1.0               0.5   \n",
       "7021          LOW  55.0  131.0   15.600000            1.0               1.1   \n",
       "1295       NORMAL  59.0  140.0   16.300000            1.0               1.0   \n",
       "2956       NORMAL  54.0  115.0   15.300000            1.0               1.1   \n",
       "\n",
       "       AST   ALT   Gtp dental caries  blood pressure  \n",
       "1932  23.0  17.0  25.0            No           110.0  \n",
       "3072  23.0  34.0  55.0            No           125.0  \n",
       "8568  12.0  13.0   9.0           Yes           170.0  \n",
       "3460  19.0  23.0  24.0            No           120.0  \n",
       "5741  17.0  12.0  32.0            No           113.0  \n",
       "6625  25.0  17.0  26.0            No           124.0  \n",
       "3685  20.0  21.0  17.0            No           114.0  \n",
       "3832  21.0  14.0  25.0            No           131.0  \n",
       "3357  16.0  10.0  14.0            No           123.0  \n",
       "8070  32.0  32.0  25.0            No           106.0  \n",
       "3987  25.0  21.0  15.0            No           134.0  \n",
       "5656  23.0  20.0  25.0            No           126.0  \n",
       "6986  22.0  20.0  25.0            No           118.0  \n",
       "1176  23.0  45.0  37.0            No           133.0  \n",
       "1124  20.0  27.0  37.0            No           139.0  \n",
       "9092  32.0  31.0  23.0            No           129.0  \n",
       "6477  23.0  23.0  63.0            No           123.0  \n",
       "7021  62.0  21.0  25.0            No           108.0  \n",
       "1295  26.0  18.0  38.0            No           116.0  \n",
       "2956  23.0  21.0  25.0            No           125.0  "
      ]
     },
     "execution_count": 77,
     "metadata": {},
     "output_type": "execute_result"
    }
   ],
   "source": [
    "data.sample(20)"
   ]
  },
  {
   "cell_type": "code",
   "execution_count": 100,
   "metadata": {},
   "outputs": [
    {
     "data": {
      "text/html": [
       "<div>\n",
       "<style scoped>\n",
       "    .dataframe tbody tr th:only-of-type {\n",
       "        vertical-align: middle;\n",
       "    }\n",
       "\n",
       "    .dataframe tbody tr th {\n",
       "        vertical-align: top;\n",
       "    }\n",
       "\n",
       "    .dataframe thead th {\n",
       "        text-align: right;\n",
       "    }\n",
       "</style>\n",
       "<table border=\"1\" class=\"dataframe\">\n",
       "  <thead>\n",
       "    <tr style=\"text-align: right;\">\n",
       "      <th></th>\n",
       "      <th>height(cm)</th>\n",
       "      <th>weight(kg)</th>\n",
       "      <th>relaxation</th>\n",
       "      <th>blood sugar</th>\n",
       "      <th>Cholesterol</th>\n",
       "      <th>triglyceride</th>\n",
       "      <th>HDL</th>\n",
       "      <th>LDL</th>\n",
       "      <th>hemoglobin</th>\n",
       "      <th>Urine protein</th>\n",
       "      <th>serum creatinine</th>\n",
       "      <th>AST</th>\n",
       "      <th>ALT</th>\n",
       "      <th>Gtp</th>\n",
       "      <th>dental caries</th>\n",
       "      <th>blood pressure</th>\n",
       "    </tr>\n",
       "  </thead>\n",
       "  <tbody>\n",
       "    <tr>\n",
       "      <th>0</th>\n",
       "      <td>180.0</td>\n",
       "      <td>65.000000</td>\n",
       "      <td>70.000000</td>\n",
       "      <td>95.0</td>\n",
       "      <td>149.000000</td>\n",
       "      <td>LOW</td>\n",
       "      <td>55.0</td>\n",
       "      <td>87.0</td>\n",
       "      <td>13.900000</td>\n",
       "      <td>1.0</td>\n",
       "      <td>0.9</td>\n",
       "      <td>19.0</td>\n",
       "      <td>21.0</td>\n",
       "      <td>25.0</td>\n",
       "      <td>No</td>\n",
       "      <td>112.0</td>\n",
       "    </tr>\n",
       "    <tr>\n",
       "      <th>1</th>\n",
       "      <td>150.0</td>\n",
       "      <td>50.000000</td>\n",
       "      <td>88.000000</td>\n",
       "      <td>92.0</td>\n",
       "      <td>219.000000</td>\n",
       "      <td>LOW</td>\n",
       "      <td>55.0</td>\n",
       "      <td>137.0</td>\n",
       "      <td>13.200000</td>\n",
       "      <td>1.0</td>\n",
       "      <td>0.6</td>\n",
       "      <td>26.0</td>\n",
       "      <td>17.0</td>\n",
       "      <td>25.0</td>\n",
       "      <td>No</td>\n",
       "      <td>138.0</td>\n",
       "    </tr>\n",
       "    <tr>\n",
       "      <th>2</th>\n",
       "      <td>175.0</td>\n",
       "      <td>75.000000</td>\n",
       "      <td>76.469091</td>\n",
       "      <td>95.0</td>\n",
       "      <td>217.000000</td>\n",
       "      <td>NORMAL</td>\n",
       "      <td>50.0</td>\n",
       "      <td>142.0</td>\n",
       "      <td>14.567723</td>\n",
       "      <td>1.0</td>\n",
       "      <td>0.8</td>\n",
       "      <td>22.0</td>\n",
       "      <td>22.0</td>\n",
       "      <td>25.0</td>\n",
       "      <td>No</td>\n",
       "      <td>137.0</td>\n",
       "    </tr>\n",
       "    <tr>\n",
       "      <th>3</th>\n",
       "      <td>160.0</td>\n",
       "      <td>65.355991</td>\n",
       "      <td>76.469091</td>\n",
       "      <td>100.0</td>\n",
       "      <td>160.000000</td>\n",
       "      <td>HiGH</td>\n",
       "      <td>48.0</td>\n",
       "      <td>84.0</td>\n",
       "      <td>12.100000</td>\n",
       "      <td>1.0</td>\n",
       "      <td>0.6</td>\n",
       "      <td>15.0</td>\n",
       "      <td>19.0</td>\n",
       "      <td>14.0</td>\n",
       "      <td>No</td>\n",
       "      <td>133.0</td>\n",
       "    </tr>\n",
       "    <tr>\n",
       "      <th>6</th>\n",
       "      <td>155.0</td>\n",
       "      <td>50.000000</td>\n",
       "      <td>74.000000</td>\n",
       "      <td>95.0</td>\n",
       "      <td>196.217845</td>\n",
       "      <td>LOW</td>\n",
       "      <td>59.0</td>\n",
       "      <td>115.0</td>\n",
       "      <td>13.500000</td>\n",
       "      <td>1.0</td>\n",
       "      <td>0.7</td>\n",
       "      <td>44.0</td>\n",
       "      <td>28.0</td>\n",
       "      <td>17.0</td>\n",
       "      <td>No</td>\n",
       "      <td>138.0</td>\n",
       "    </tr>\n",
       "  </tbody>\n",
       "</table>\n",
       "</div>"
      ],
      "text/plain": [
       "   height(cm)  weight(kg)  relaxation  blood sugar  Cholesterol triglyceride  \\\n",
       "0       180.0   65.000000   70.000000         95.0   149.000000          LOW   \n",
       "1       150.0   50.000000   88.000000         92.0   219.000000          LOW   \n",
       "2       175.0   75.000000   76.469091         95.0   217.000000       NORMAL   \n",
       "3       160.0   65.355991   76.469091        100.0   160.000000         HiGH   \n",
       "6       155.0   50.000000   74.000000         95.0   196.217845          LOW   \n",
       "\n",
       "    HDL    LDL  hemoglobin  Urine protein  serum creatinine   AST   ALT   Gtp  \\\n",
       "0  55.0   87.0   13.900000            1.0               0.9  19.0  21.0  25.0   \n",
       "1  55.0  137.0   13.200000            1.0               0.6  26.0  17.0  25.0   \n",
       "2  50.0  142.0   14.567723            1.0               0.8  22.0  22.0  25.0   \n",
       "3  48.0   84.0   12.100000            1.0               0.6  15.0  19.0  14.0   \n",
       "6  59.0  115.0   13.500000            1.0               0.7  44.0  28.0  17.0   \n",
       "\n",
       "  dental caries  blood pressure  \n",
       "0            No           112.0  \n",
       "1            No           138.0  \n",
       "2            No           137.0  \n",
       "3            No           133.0  \n",
       "6            No           138.0  "
      ]
     },
     "execution_count": 100,
     "metadata": {},
     "output_type": "execute_result"
    }
   ],
   "source": [
    "data.head()"
   ]
  },
  {
   "cell_type": "code",
   "execution_count": null,
   "metadata": {},
   "outputs": [],
   "source": []
  },
  {
   "cell_type": "markdown",
   "metadata": {
    "id": "qhiEJI_xJ0Bt"
   },
   "source": [
    "## Feature Preprocessing\n"
   ]
  },
  {
   "cell_type": "markdown",
   "metadata": {},
   "source": [
    "Preprocess the features to make them ready for using the model"
   ]
  },
  {
   "cell_type": "code",
   "execution_count": 79,
   "metadata": {
    "id": "nwQFchgSKK8p"
   },
   "outputs": [],
   "source": [
    "# Write your code here. Add as many boxes as you need.\n",
    "enc = LabelEncoder()\n",
    "data['triglyceride'] = enc.fit_transform(data['triglyceride'])"
   ]
  },
  {
   "cell_type": "code",
   "execution_count": 81,
   "metadata": {},
   "outputs": [
    {
     "data": {
      "text/html": [
       "<div>\n",
       "<style scoped>\n",
       "    .dataframe tbody tr th:only-of-type {\n",
       "        vertical-align: middle;\n",
       "    }\n",
       "\n",
       "    .dataframe tbody tr th {\n",
       "        vertical-align: top;\n",
       "    }\n",
       "\n",
       "    .dataframe thead th {\n",
       "        text-align: right;\n",
       "    }\n",
       "</style>\n",
       "<table border=\"1\" class=\"dataframe\">\n",
       "  <thead>\n",
       "    <tr style=\"text-align: right;\">\n",
       "      <th></th>\n",
       "      <th>height(cm)</th>\n",
       "      <th>weight(kg)</th>\n",
       "      <th>relaxation</th>\n",
       "      <th>blood sugar</th>\n",
       "      <th>Cholesterol</th>\n",
       "      <th>triglyceride</th>\n",
       "      <th>HDL</th>\n",
       "      <th>LDL</th>\n",
       "      <th>hemoglobin</th>\n",
       "      <th>Urine protein</th>\n",
       "      <th>serum creatinine</th>\n",
       "      <th>AST</th>\n",
       "      <th>ALT</th>\n",
       "      <th>Gtp</th>\n",
       "      <th>dental caries</th>\n",
       "      <th>blood pressure</th>\n",
       "    </tr>\n",
       "  </thead>\n",
       "  <tbody>\n",
       "    <tr>\n",
       "      <th>0</th>\n",
       "      <td>180.0</td>\n",
       "      <td>65.000000</td>\n",
       "      <td>70.000000</td>\n",
       "      <td>95.0</td>\n",
       "      <td>149.000000</td>\n",
       "      <td>2</td>\n",
       "      <td>55.0</td>\n",
       "      <td>87.0</td>\n",
       "      <td>13.900000</td>\n",
       "      <td>1.0</td>\n",
       "      <td>0.9</td>\n",
       "      <td>19.0</td>\n",
       "      <td>21.0</td>\n",
       "      <td>25.0</td>\n",
       "      <td>No</td>\n",
       "      <td>112.0</td>\n",
       "    </tr>\n",
       "    <tr>\n",
       "      <th>1</th>\n",
       "      <td>150.0</td>\n",
       "      <td>50.000000</td>\n",
       "      <td>88.000000</td>\n",
       "      <td>92.0</td>\n",
       "      <td>219.000000</td>\n",
       "      <td>2</td>\n",
       "      <td>55.0</td>\n",
       "      <td>137.0</td>\n",
       "      <td>13.200000</td>\n",
       "      <td>1.0</td>\n",
       "      <td>0.6</td>\n",
       "      <td>26.0</td>\n",
       "      <td>17.0</td>\n",
       "      <td>25.0</td>\n",
       "      <td>No</td>\n",
       "      <td>138.0</td>\n",
       "    </tr>\n",
       "    <tr>\n",
       "      <th>2</th>\n",
       "      <td>175.0</td>\n",
       "      <td>75.000000</td>\n",
       "      <td>76.469091</td>\n",
       "      <td>95.0</td>\n",
       "      <td>217.000000</td>\n",
       "      <td>3</td>\n",
       "      <td>50.0</td>\n",
       "      <td>142.0</td>\n",
       "      <td>14.567723</td>\n",
       "      <td>1.0</td>\n",
       "      <td>0.8</td>\n",
       "      <td>22.0</td>\n",
       "      <td>22.0</td>\n",
       "      <td>25.0</td>\n",
       "      <td>No</td>\n",
       "      <td>137.0</td>\n",
       "    </tr>\n",
       "    <tr>\n",
       "      <th>3</th>\n",
       "      <td>160.0</td>\n",
       "      <td>65.355991</td>\n",
       "      <td>76.469091</td>\n",
       "      <td>100.0</td>\n",
       "      <td>160.000000</td>\n",
       "      <td>1</td>\n",
       "      <td>48.0</td>\n",
       "      <td>84.0</td>\n",
       "      <td>12.100000</td>\n",
       "      <td>1.0</td>\n",
       "      <td>0.6</td>\n",
       "      <td>15.0</td>\n",
       "      <td>19.0</td>\n",
       "      <td>14.0</td>\n",
       "      <td>No</td>\n",
       "      <td>133.0</td>\n",
       "    </tr>\n",
       "    <tr>\n",
       "      <th>6</th>\n",
       "      <td>155.0</td>\n",
       "      <td>50.000000</td>\n",
       "      <td>74.000000</td>\n",
       "      <td>95.0</td>\n",
       "      <td>196.217845</td>\n",
       "      <td>2</td>\n",
       "      <td>59.0</td>\n",
       "      <td>115.0</td>\n",
       "      <td>13.500000</td>\n",
       "      <td>1.0</td>\n",
       "      <td>0.7</td>\n",
       "      <td>44.0</td>\n",
       "      <td>28.0</td>\n",
       "      <td>17.0</td>\n",
       "      <td>No</td>\n",
       "      <td>138.0</td>\n",
       "    </tr>\n",
       "  </tbody>\n",
       "</table>\n",
       "</div>"
      ],
      "text/plain": [
       "   height(cm)  weight(kg)  relaxation  blood sugar  Cholesterol  triglyceride  \\\n",
       "0       180.0   65.000000   70.000000         95.0   149.000000             2   \n",
       "1       150.0   50.000000   88.000000         92.0   219.000000             2   \n",
       "2       175.0   75.000000   76.469091         95.0   217.000000             3   \n",
       "3       160.0   65.355991   76.469091        100.0   160.000000             1   \n",
       "6       155.0   50.000000   74.000000         95.0   196.217845             2   \n",
       "\n",
       "    HDL    LDL  hemoglobin  Urine protein  serum creatinine   AST   ALT   Gtp  \\\n",
       "0  55.0   87.0   13.900000            1.0               0.9  19.0  21.0  25.0   \n",
       "1  55.0  137.0   13.200000            1.0               0.6  26.0  17.0  25.0   \n",
       "2  50.0  142.0   14.567723            1.0               0.8  22.0  22.0  25.0   \n",
       "3  48.0   84.0   12.100000            1.0               0.6  15.0  19.0  14.0   \n",
       "6  59.0  115.0   13.500000            1.0               0.7  44.0  28.0  17.0   \n",
       "\n",
       "  dental caries  blood pressure  \n",
       "0            No           112.0  \n",
       "1            No           138.0  \n",
       "2            No           137.0  \n",
       "3            No           133.0  \n",
       "6            No           138.0  "
      ]
     },
     "execution_count": 81,
     "metadata": {},
     "output_type": "execute_result"
    }
   ],
   "source": [
    "data.head()"
   ]
  },
  {
   "cell_type": "code",
   "execution_count": 83,
   "metadata": {},
   "outputs": [],
   "source": [
    "data['dental caries'] = enc.fit_transform(data['dental caries'])"
   ]
  },
  {
   "cell_type": "code",
   "execution_count": 85,
   "metadata": {},
   "outputs": [
    {
     "data": {
      "text/html": [
       "<div>\n",
       "<style scoped>\n",
       "    .dataframe tbody tr th:only-of-type {\n",
       "        vertical-align: middle;\n",
       "    }\n",
       "\n",
       "    .dataframe tbody tr th {\n",
       "        vertical-align: top;\n",
       "    }\n",
       "\n",
       "    .dataframe thead th {\n",
       "        text-align: right;\n",
       "    }\n",
       "</style>\n",
       "<table border=\"1\" class=\"dataframe\">\n",
       "  <thead>\n",
       "    <tr style=\"text-align: right;\">\n",
       "      <th></th>\n",
       "      <th>height(cm)</th>\n",
       "      <th>weight(kg)</th>\n",
       "      <th>relaxation</th>\n",
       "      <th>blood sugar</th>\n",
       "      <th>Cholesterol</th>\n",
       "      <th>triglyceride</th>\n",
       "      <th>HDL</th>\n",
       "      <th>LDL</th>\n",
       "      <th>hemoglobin</th>\n",
       "      <th>Urine protein</th>\n",
       "      <th>serum creatinine</th>\n",
       "      <th>AST</th>\n",
       "      <th>ALT</th>\n",
       "      <th>Gtp</th>\n",
       "      <th>dental caries</th>\n",
       "      <th>blood pressure</th>\n",
       "    </tr>\n",
       "  </thead>\n",
       "  <tbody>\n",
       "    <tr>\n",
       "      <th>0</th>\n",
       "      <td>180.0</td>\n",
       "      <td>65.000000</td>\n",
       "      <td>70.000000</td>\n",
       "      <td>95.0</td>\n",
       "      <td>149.000000</td>\n",
       "      <td>2</td>\n",
       "      <td>55.0</td>\n",
       "      <td>87.0</td>\n",
       "      <td>13.900000</td>\n",
       "      <td>1.0</td>\n",
       "      <td>0.9</td>\n",
       "      <td>19.0</td>\n",
       "      <td>21.0</td>\n",
       "      <td>25.0</td>\n",
       "      <td>0</td>\n",
       "      <td>112.0</td>\n",
       "    </tr>\n",
       "    <tr>\n",
       "      <th>1</th>\n",
       "      <td>150.0</td>\n",
       "      <td>50.000000</td>\n",
       "      <td>88.000000</td>\n",
       "      <td>92.0</td>\n",
       "      <td>219.000000</td>\n",
       "      <td>2</td>\n",
       "      <td>55.0</td>\n",
       "      <td>137.0</td>\n",
       "      <td>13.200000</td>\n",
       "      <td>1.0</td>\n",
       "      <td>0.6</td>\n",
       "      <td>26.0</td>\n",
       "      <td>17.0</td>\n",
       "      <td>25.0</td>\n",
       "      <td>0</td>\n",
       "      <td>138.0</td>\n",
       "    </tr>\n",
       "    <tr>\n",
       "      <th>2</th>\n",
       "      <td>175.0</td>\n",
       "      <td>75.000000</td>\n",
       "      <td>76.469091</td>\n",
       "      <td>95.0</td>\n",
       "      <td>217.000000</td>\n",
       "      <td>3</td>\n",
       "      <td>50.0</td>\n",
       "      <td>142.0</td>\n",
       "      <td>14.567723</td>\n",
       "      <td>1.0</td>\n",
       "      <td>0.8</td>\n",
       "      <td>22.0</td>\n",
       "      <td>22.0</td>\n",
       "      <td>25.0</td>\n",
       "      <td>0</td>\n",
       "      <td>137.0</td>\n",
       "    </tr>\n",
       "    <tr>\n",
       "      <th>3</th>\n",
       "      <td>160.0</td>\n",
       "      <td>65.355991</td>\n",
       "      <td>76.469091</td>\n",
       "      <td>100.0</td>\n",
       "      <td>160.000000</td>\n",
       "      <td>1</td>\n",
       "      <td>48.0</td>\n",
       "      <td>84.0</td>\n",
       "      <td>12.100000</td>\n",
       "      <td>1.0</td>\n",
       "      <td>0.6</td>\n",
       "      <td>15.0</td>\n",
       "      <td>19.0</td>\n",
       "      <td>14.0</td>\n",
       "      <td>0</td>\n",
       "      <td>133.0</td>\n",
       "    </tr>\n",
       "    <tr>\n",
       "      <th>6</th>\n",
       "      <td>155.0</td>\n",
       "      <td>50.000000</td>\n",
       "      <td>74.000000</td>\n",
       "      <td>95.0</td>\n",
       "      <td>196.217845</td>\n",
       "      <td>2</td>\n",
       "      <td>59.0</td>\n",
       "      <td>115.0</td>\n",
       "      <td>13.500000</td>\n",
       "      <td>1.0</td>\n",
       "      <td>0.7</td>\n",
       "      <td>44.0</td>\n",
       "      <td>28.0</td>\n",
       "      <td>17.0</td>\n",
       "      <td>0</td>\n",
       "      <td>138.0</td>\n",
       "    </tr>\n",
       "  </tbody>\n",
       "</table>\n",
       "</div>"
      ],
      "text/plain": [
       "   height(cm)  weight(kg)  relaxation  blood sugar  Cholesterol  triglyceride  \\\n",
       "0       180.0   65.000000   70.000000         95.0   149.000000             2   \n",
       "1       150.0   50.000000   88.000000         92.0   219.000000             2   \n",
       "2       175.0   75.000000   76.469091         95.0   217.000000             3   \n",
       "3       160.0   65.355991   76.469091        100.0   160.000000             1   \n",
       "6       155.0   50.000000   74.000000         95.0   196.217845             2   \n",
       "\n",
       "    HDL    LDL  hemoglobin  Urine protein  serum creatinine   AST   ALT   Gtp  \\\n",
       "0  55.0   87.0   13.900000            1.0               0.9  19.0  21.0  25.0   \n",
       "1  55.0  137.0   13.200000            1.0               0.6  26.0  17.0  25.0   \n",
       "2  50.0  142.0   14.567723            1.0               0.8  22.0  22.0  25.0   \n",
       "3  48.0   84.0   12.100000            1.0               0.6  15.0  19.0  14.0   \n",
       "6  59.0  115.0   13.500000            1.0               0.7  44.0  28.0  17.0   \n",
       "\n",
       "   dental caries  blood pressure  \n",
       "0              0           112.0  \n",
       "1              0           138.0  \n",
       "2              0           137.0  \n",
       "3              0           133.0  \n",
       "6              0           138.0  "
      ]
     },
     "execution_count": 85,
     "metadata": {},
     "output_type": "execute_result"
    }
   ],
   "source": [
    "data.head()"
   ]
  },
  {
   "cell_type": "markdown",
   "metadata": {
    "id": "VIkAR1Hibiwr"
   },
   "source": [
    "## Model comparison with cross-validation"
   ]
  },
  {
   "cell_type": "markdown",
   "metadata": {},
   "source": [
    "Train two models: XGBoost and RandomForest for predicting the target variable. Use 5-fold cross-validation to evaluate the performance of the models and compare them using adrquate metrics."
   ]
  },
  {
   "cell_type": "code",
   "execution_count": 87,
   "metadata": {},
   "outputs": [
    {
     "data": {
      "text/html": [
       "<div>\n",
       "<style scoped>\n",
       "    .dataframe tbody tr th:only-of-type {\n",
       "        vertical-align: middle;\n",
       "    }\n",
       "\n",
       "    .dataframe tbody tr th {\n",
       "        vertical-align: top;\n",
       "    }\n",
       "\n",
       "    .dataframe thead th {\n",
       "        text-align: right;\n",
       "    }\n",
       "</style>\n",
       "<table border=\"1\" class=\"dataframe\">\n",
       "  <thead>\n",
       "    <tr style=\"text-align: right;\">\n",
       "      <th></th>\n",
       "      <th>height(cm)</th>\n",
       "      <th>weight(kg)</th>\n",
       "      <th>relaxation</th>\n",
       "      <th>blood sugar</th>\n",
       "      <th>Cholesterol</th>\n",
       "      <th>triglyceride</th>\n",
       "      <th>HDL</th>\n",
       "      <th>LDL</th>\n",
       "      <th>hemoglobin</th>\n",
       "      <th>Urine protein</th>\n",
       "      <th>serum creatinine</th>\n",
       "      <th>AST</th>\n",
       "      <th>ALT</th>\n",
       "      <th>Gtp</th>\n",
       "      <th>dental caries</th>\n",
       "    </tr>\n",
       "  </thead>\n",
       "  <tbody>\n",
       "    <tr>\n",
       "      <th>0</th>\n",
       "      <td>180.0</td>\n",
       "      <td>65.000000</td>\n",
       "      <td>70.000000</td>\n",
       "      <td>95.0</td>\n",
       "      <td>149.000000</td>\n",
       "      <td>2</td>\n",
       "      <td>55.0</td>\n",
       "      <td>87.0</td>\n",
       "      <td>13.900000</td>\n",
       "      <td>1.0</td>\n",
       "      <td>0.9</td>\n",
       "      <td>19.0</td>\n",
       "      <td>21.0</td>\n",
       "      <td>25.0</td>\n",
       "      <td>0</td>\n",
       "    </tr>\n",
       "    <tr>\n",
       "      <th>1</th>\n",
       "      <td>150.0</td>\n",
       "      <td>50.000000</td>\n",
       "      <td>88.000000</td>\n",
       "      <td>92.0</td>\n",
       "      <td>219.000000</td>\n",
       "      <td>2</td>\n",
       "      <td>55.0</td>\n",
       "      <td>137.0</td>\n",
       "      <td>13.200000</td>\n",
       "      <td>1.0</td>\n",
       "      <td>0.6</td>\n",
       "      <td>26.0</td>\n",
       "      <td>17.0</td>\n",
       "      <td>25.0</td>\n",
       "      <td>0</td>\n",
       "    </tr>\n",
       "    <tr>\n",
       "      <th>2</th>\n",
       "      <td>175.0</td>\n",
       "      <td>75.000000</td>\n",
       "      <td>76.469091</td>\n",
       "      <td>95.0</td>\n",
       "      <td>217.000000</td>\n",
       "      <td>3</td>\n",
       "      <td>50.0</td>\n",
       "      <td>142.0</td>\n",
       "      <td>14.567723</td>\n",
       "      <td>1.0</td>\n",
       "      <td>0.8</td>\n",
       "      <td>22.0</td>\n",
       "      <td>22.0</td>\n",
       "      <td>25.0</td>\n",
       "      <td>0</td>\n",
       "    </tr>\n",
       "    <tr>\n",
       "      <th>3</th>\n",
       "      <td>160.0</td>\n",
       "      <td>65.355991</td>\n",
       "      <td>76.469091</td>\n",
       "      <td>100.0</td>\n",
       "      <td>160.000000</td>\n",
       "      <td>1</td>\n",
       "      <td>48.0</td>\n",
       "      <td>84.0</td>\n",
       "      <td>12.100000</td>\n",
       "      <td>1.0</td>\n",
       "      <td>0.6</td>\n",
       "      <td>15.0</td>\n",
       "      <td>19.0</td>\n",
       "      <td>14.0</td>\n",
       "      <td>0</td>\n",
       "    </tr>\n",
       "    <tr>\n",
       "      <th>6</th>\n",
       "      <td>155.0</td>\n",
       "      <td>50.000000</td>\n",
       "      <td>74.000000</td>\n",
       "      <td>95.0</td>\n",
       "      <td>196.217845</td>\n",
       "      <td>2</td>\n",
       "      <td>59.0</td>\n",
       "      <td>115.0</td>\n",
       "      <td>13.500000</td>\n",
       "      <td>1.0</td>\n",
       "      <td>0.7</td>\n",
       "      <td>44.0</td>\n",
       "      <td>28.0</td>\n",
       "      <td>17.0</td>\n",
       "      <td>0</td>\n",
       "    </tr>\n",
       "  </tbody>\n",
       "</table>\n",
       "</div>"
      ],
      "text/plain": [
       "   height(cm)  weight(kg)  relaxation  blood sugar  Cholesterol  triglyceride  \\\n",
       "0       180.0   65.000000   70.000000         95.0   149.000000             2   \n",
       "1       150.0   50.000000   88.000000         92.0   219.000000             2   \n",
       "2       175.0   75.000000   76.469091         95.0   217.000000             3   \n",
       "3       160.0   65.355991   76.469091        100.0   160.000000             1   \n",
       "6       155.0   50.000000   74.000000         95.0   196.217845             2   \n",
       "\n",
       "    HDL    LDL  hemoglobin  Urine protein  serum creatinine   AST   ALT   Gtp  \\\n",
       "0  55.0   87.0   13.900000            1.0               0.9  19.0  21.0  25.0   \n",
       "1  55.0  137.0   13.200000            1.0               0.6  26.0  17.0  25.0   \n",
       "2  50.0  142.0   14.567723            1.0               0.8  22.0  22.0  25.0   \n",
       "3  48.0   84.0   12.100000            1.0               0.6  15.0  19.0  14.0   \n",
       "6  59.0  115.0   13.500000            1.0               0.7  44.0  28.0  17.0   \n",
       "\n",
       "   dental caries  \n",
       "0              0  \n",
       "1              0  \n",
       "2              0  \n",
       "3              0  \n",
       "6              0  "
      ]
     },
     "execution_count": 87,
     "metadata": {},
     "output_type": "execute_result"
    }
   ],
   "source": [
    "input = data.copy()\n",
    "input.drop(columns=['blood pressure'],axis=1,inplace=True)\n",
    "input.head()"
   ]
  },
  {
   "cell_type": "code",
   "execution_count": 89,
   "metadata": {},
   "outputs": [
    {
     "name": "stdout",
     "output_type": "stream",
     "text": [
      "<class 'pandas.core.frame.DataFrame'>\n",
      "Index: 7477 entries, 0 to 9999\n",
      "Data columns (total 16 columns):\n",
      " #   Column            Non-Null Count  Dtype  \n",
      "---  ------            --------------  -----  \n",
      " 0   height(cm)        7477 non-null   float64\n",
      " 1   weight(kg)        7477 non-null   float64\n",
      " 2   relaxation        7477 non-null   float64\n",
      " 3   blood sugar       7477 non-null   float64\n",
      " 4   Cholesterol       7477 non-null   float64\n",
      " 5   triglyceride      7477 non-null   int32  \n",
      " 6   HDL               7477 non-null   float64\n",
      " 7   LDL               7477 non-null   float64\n",
      " 8   hemoglobin        7477 non-null   float64\n",
      " 9   Urine protein     7477 non-null   float64\n",
      " 10  serum creatinine  7477 non-null   float64\n",
      " 11  AST               7477 non-null   float64\n",
      " 12  ALT               7477 non-null   float64\n",
      " 13  Gtp               7477 non-null   float64\n",
      " 14  dental caries     7477 non-null   int32  \n",
      " 15  blood pressure    7477 non-null   float64\n",
      "dtypes: float64(14), int32(2)\n",
      "memory usage: 934.6 KB\n"
     ]
    }
   ],
   "source": [
    "target = data.copy()['blood pressure']\n",
    "target.head()\n",
    "data.info()"
   ]
  },
  {
   "cell_type": "code",
   "execution_count": null,
   "metadata": {},
   "outputs": [],
   "source": []
  },
  {
   "cell_type": "code",
   "execution_count": 93,
   "metadata": {
    "id": "IXFIrQthbnkb"
   },
   "outputs": [
    {
     "name": "stdout",
     "output_type": "stream",
     "text": [
      "0.4528950538746509\n",
      "Тренинг точност: 0.5896074190300244\n",
      "Тест точност: 0.4528950538746509\n"
     ]
    }
   ],
   "source": [
    "# Write your code here. Add as many boxes as you need.\n",
    "X_train, X_test, Y_train, Y_test = train_test_split(input, target, test_size=0.2)\n",
    "model = XGBRegressor(n_estimators=100,max_depth=5,learning_rate=0.1)\n",
    "model.fit(X_train,Y_train)\n",
    "y_pred = model.predict(X_test)\n",
    "print(r2_score(Y_test,y_pred))\n",
    "print(\"Тренинг точност:\", model.score(X_train, Y_train))\n",
    "print(\"Тест точност:\", model.score(X_test, Y_test))"
   ]
  },
  {
   "cell_type": "code",
   "execution_count": 95,
   "metadata": {},
   "outputs": [
    {
     "name": "stdout",
     "output_type": "stream",
     "text": [
      "0.4496868254854759\n",
      "Тренинг точност: 0.4709313367936797\n",
      "Тест точност: 0.4496868254854759\n"
     ]
    }
   ],
   "source": [
    "from sklearn.ensemble import RandomForestRegressor\n",
    "model2 = RandomForestRegressor(n_estimators=100,max_depth=5)\n",
    "model2.fit(X_train,Y_train)\n",
    "y_pred2 = model2.predict(X_test)\n",
    "print(r2_score(Y_test,y_pred2))\n",
    "print(\"Тренинг точност:\", model2.score(X_train, Y_train))\n",
    "print(\"Тест точност:\", model2.score(X_test, Y_test))"
   ]
  },
  {
   "cell_type": "code",
   "execution_count": null,
   "metadata": {},
   "outputs": [],
   "source": []
  },
  {
   "cell_type": "markdown",
   "metadata": {},
   "source": [
    "# Cross-Validation"
   ]
  },
  {
   "cell_type": "code",
   "execution_count": 101,
   "metadata": {},
   "outputs": [
    {
     "name": "stdout",
     "output_type": "stream",
     "text": [
      "0.446690595909494\n",
      "0.44262529863083433\n"
     ]
    }
   ],
   "source": [
    "# Write your code here. Add as many boxes as you need.\n",
    "from sklearn.model_selection import cross_val_score, LeaveOneOut\n",
    "cv = cross_val_score(model,input,target,cv=5,scoring='r2')\n",
    "print(cv.mean())\n",
    "cv2 = cross_val_score(model2,input,target,cv=5,scoring='r2')\n",
    "print(cv2.mean())"
   ]
  },
  {
   "cell_type": "markdown",
   "metadata": {
    "id": "3VxAvDPtcNCh"
   },
   "source": [
    "Assess the performance of the models by using different metrics provided by the `scikit-learn` library."
   ]
  },
  {
   "cell_type": "code",
   "execution_count": 54,
   "metadata": {
    "id": "V4axpktycQhp"
   },
   "outputs": [],
   "source": [
    "# Write your code here. Add as many boxes as you need."
   ]
  }
 ],
 "metadata": {
  "colab": {
   "provenance": []
  },
  "kernelspec": {
   "display_name": "Python 3 (ipykernel)",
   "language": "python",
   "name": "python3"
  },
  "language_info": {
   "codemirror_mode": {
    "name": "ipython",
    "version": 3
   },
   "file_extension": ".py",
   "mimetype": "text/x-python",
   "name": "python",
   "nbconvert_exporter": "python",
   "pygments_lexer": "ipython3",
   "version": "3.12.3"
  }
 },
 "nbformat": 4,
 "nbformat_minor": 4
}
